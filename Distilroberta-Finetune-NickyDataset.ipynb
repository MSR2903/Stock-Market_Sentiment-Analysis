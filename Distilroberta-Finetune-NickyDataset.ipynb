{
 "cells": [
  {
   "cell_type": "code",
   "execution_count": 1,
   "metadata": {},
   "outputs": [
    {
     "name": "stdout",
     "output_type": "stream",
     "text": [
      "Note: you may need to restart the kernel to use updated packages.\n"
     ]
    }
   ],
   "source": [
    "pip install transformers datasets torch -q"
   ]
  },
  {
   "cell_type": "code",
   "execution_count": 2,
   "metadata": {},
   "outputs": [
    {
     "name": "stdout",
     "output_type": "stream",
     "text": [
      "zsh:1: no matches found: transformers[torch]\n",
      "Note: you may need to restart the kernel to use updated packages.\n"
     ]
    }
   ],
   "source": [
    "pip install transformers[torch] -q"
   ]
  },
  {
   "cell_type": "code",
   "execution_count": 3,
   "metadata": {},
   "outputs": [
    {
     "data": {
      "text/plain": [
       "DatasetDict({\n",
       "    train: Dataset({\n",
       "        features: ['symbol', 'publishedDate', 'title', 'image', 'site', 'text', 'url', 'sentiment', 'sentimentScore'],\n",
       "        num_rows: 142000\n",
       "    })\n",
       "})"
      ]
     },
     "execution_count": 3,
     "metadata": {},
     "output_type": "execute_result"
    }
   ],
   "source": [
    "from datasets import load_dataset\n",
    "\n",
    "dataset = load_dataset('NickyNicky/finance-financialmodelingprep-stock-news-sentiments-rss-feed')\n",
    "dataset"
   ]
  },
  {
   "cell_type": "code",
   "execution_count": 4,
   "metadata": {},
   "outputs": [
    {
     "data": {
      "text/plain": [
       "DatasetDict({\n",
       "    train: Dataset({\n",
       "        features: ['label', 'sentence'],\n",
       "        num_rows: 142000\n",
       "    })\n",
       "})"
      ]
     },
     "execution_count": 4,
     "metadata": {},
     "output_type": "execute_result"
    }
   ],
   "source": [
    "def preprocess_dataset(dataset):\n",
    "    dataset = dataset.map(\n",
    "        lambda example: {'label': example['sentiment'], 'sentence': example['text']},\n",
    "        remove_columns=['symbol', 'publishedDate', 'title', 'image', 'site', 'url', 'sentimentScore', 'text', 'sentiment']\n",
    "    )\n",
    "    return dataset\n",
    "\n",
    "processed_dataset = preprocess_dataset(dataset)\n",
    "\n",
    "processed_dataset"
   ]
  },
  {
   "cell_type": "code",
   "execution_count": 5,
   "metadata": {},
   "outputs": [
    {
     "name": "stdout",
     "output_type": "stream",
     "text": [
      "{'label': 0, 'sentence': 'RADNOR, Pa., Oct. 04, 2023 (GLOBE NEWSWIRE) -- The law firm of Kessler Topaz Meltzer & Check, LLP (www.ktmc.com) informs investors that a securities class action lawsuit has been filed in the United States District Court for the Northern District of California against Hawaiian Electric Industries, Inc. (\"Hawaiian Electric\") (NYSE:HE). The action charges Hawaiian Electric with violations of the federal securities laws, including omissions and fraudulent misrepresentations relating to the compa...'}\n"
     ]
    }
   ],
   "source": [
    "# Define the label mapping\n",
    "label_mapping = {\"Negative\": 0, \"Neutral\": 1, \"Positive\": 2}\n",
    "\n",
    "def map_labels(example):\n",
    "    example[\"label\"] = label_mapping[example[\"label\"]]\n",
    "    return example\n",
    "\n",
    "processed_dataset = processed_dataset.map(map_labels)\n",
    "\n",
    "processed_dataset['train'][0]"
   ]
  },
  {
   "cell_type": "code",
   "execution_count": 6,
   "metadata": {},
   "outputs": [
    {
     "data": {
      "text/html": [
       "<div>\n",
       "<style scoped>\n",
       "    .dataframe tbody tr th:only-of-type {\n",
       "        vertical-align: middle;\n",
       "    }\n",
       "\n",
       "    .dataframe tbody tr th {\n",
       "        vertical-align: top;\n",
       "    }\n",
       "\n",
       "    .dataframe thead th {\n",
       "        text-align: right;\n",
       "    }\n",
       "</style>\n",
       "<table border=\"1\" class=\"dataframe\">\n",
       "  <thead>\n",
       "    <tr style=\"text-align: right;\">\n",
       "      <th></th>\n",
       "      <th>label</th>\n",
       "      <th>sentence</th>\n",
       "    </tr>\n",
       "  </thead>\n",
       "  <tbody>\n",
       "    <tr>\n",
       "      <th>0</th>\n",
       "      <td>0</td>\n",
       "      <td>RADNOR, Pa., Oct. 04, 2023 (GLOBE NEWSWIRE) --...</td>\n",
       "    </tr>\n",
       "    <tr>\n",
       "      <th>1</th>\n",
       "      <td>2</td>\n",
       "      <td>PHILADELPHIA, Oct. 04, 2023 (GLOBE NEWSWIRE) -...</td>\n",
       "    </tr>\n",
       "    <tr>\n",
       "      <th>2</th>\n",
       "      <td>2</td>\n",
       "      <td>BlackBerry Ltd (NYSE: BB) shares are trading h...</td>\n",
       "    </tr>\n",
       "    <tr>\n",
       "      <th>3</th>\n",
       "      <td>2</td>\n",
       "      <td>VANCOUVER, British Columbia, Oct. 04, 2023 (GL...</td>\n",
       "    </tr>\n",
       "    <tr>\n",
       "      <th>4</th>\n",
       "      <td>2</td>\n",
       "      <td>TORONTO, Oct. 04, 2023 (GLOBE NEWSWIRE) -- AGF...</td>\n",
       "    </tr>\n",
       "    <tr>\n",
       "      <th>...</th>\n",
       "      <td>...</td>\n",
       "      <td>...</td>\n",
       "    </tr>\n",
       "    <tr>\n",
       "      <th>141995</th>\n",
       "      <td>2</td>\n",
       "      <td>SAN DIEGO, Aug. 12, 2022 (GLOBE NEWSWIRE) -- a...</td>\n",
       "    </tr>\n",
       "    <tr>\n",
       "      <th>141996</th>\n",
       "      <td>2</td>\n",
       "      <td>FORT LAUDERDALE, Fla., Aug. 12, 2022 (GLOBE NE...</td>\n",
       "    </tr>\n",
       "    <tr>\n",
       "      <th>141997</th>\n",
       "      <td>2</td>\n",
       "      <td>CHATTANOOGA, Tenn., Aug. 12, 2022 (GLOBE NEWSW...</td>\n",
       "    </tr>\n",
       "    <tr>\n",
       "      <th>141998</th>\n",
       "      <td>2</td>\n",
       "      <td>SINGAPORE, Aug. 12, 2022 (GLOBE NEWSWIRE) -- G...</td>\n",
       "    </tr>\n",
       "    <tr>\n",
       "      <th>141999</th>\n",
       "      <td>2</td>\n",
       "      <td>- Positive Data from the Ongoing Phase 2 Study...</td>\n",
       "    </tr>\n",
       "  </tbody>\n",
       "</table>\n",
       "<p>142000 rows × 2 columns</p>\n",
       "</div>"
      ],
      "text/plain": [
       "        label                                           sentence\n",
       "0           0  RADNOR, Pa., Oct. 04, 2023 (GLOBE NEWSWIRE) --...\n",
       "1           2  PHILADELPHIA, Oct. 04, 2023 (GLOBE NEWSWIRE) -...\n",
       "2           2  BlackBerry Ltd (NYSE: BB) shares are trading h...\n",
       "3           2  VANCOUVER, British Columbia, Oct. 04, 2023 (GL...\n",
       "4           2  TORONTO, Oct. 04, 2023 (GLOBE NEWSWIRE) -- AGF...\n",
       "...       ...                                                ...\n",
       "141995      2  SAN DIEGO, Aug. 12, 2022 (GLOBE NEWSWIRE) -- a...\n",
       "141996      2  FORT LAUDERDALE, Fla., Aug. 12, 2022 (GLOBE NE...\n",
       "141997      2  CHATTANOOGA, Tenn., Aug. 12, 2022 (GLOBE NEWSW...\n",
       "141998      2  SINGAPORE, Aug. 12, 2022 (GLOBE NEWSWIRE) -- G...\n",
       "141999      2  - Positive Data from the Ongoing Phase 2 Study...\n",
       "\n",
       "[142000 rows x 2 columns]"
      ]
     },
     "execution_count": 6,
     "metadata": {},
     "output_type": "execute_result"
    }
   ],
   "source": [
    "import pandas as pd\n",
    "\n",
    "df = pd.DataFrame(processed_dataset['train'])\n",
    "df"
   ]
  },
  {
   "cell_type": "code",
   "execution_count": 7,
   "metadata": {},
   "outputs": [
    {
     "name": "stdout",
     "output_type": "stream",
     "text": [
      "DatasetDict({\n",
      "    train: Dataset({\n",
      "        features: ['label', 'sentence'],\n",
      "        num_rows: 113600\n",
      "    })\n",
      "    test: Dataset({\n",
      "        features: ['label', 'sentence'],\n",
      "        num_rows: 28400\n",
      "    })\n",
      "})\n"
     ]
    }
   ],
   "source": [
    "from datasets import DatasetDict\n",
    "\n",
    "# Split the dataset into 80% train and 20% test\n",
    "train_test_split = processed_dataset['train'].train_test_split(test_size=0.2)\n",
    "\n",
    "# Create a new dataset dictionary\n",
    "train_dataset = DatasetDict({\n",
    "    'train': train_test_split['train'],\n",
    "    'test': train_test_split['test']\n",
    "})\n",
    "\n",
    "train_dataset"
   ]
  },
  {
   "cell_type": "code",
   "execution_count": 8,
   "metadata": {},
   "outputs": [],
   "source": [
    "from transformers import AutoTokenizer, AutoModelForSequenceClassification\n",
    "\n",
    "model_name = 'mrm8488/distilroberta-finetuned-financial-news-sentiment-analysis'\n",
    "tokenizer = AutoTokenizer.from_pretrained(model_name)\n",
    "model = AutoModelForSequenceClassification.from_pretrained(model_name)"
   ]
  },
  {
   "cell_type": "code",
   "execution_count": 9,
   "metadata": {},
   "outputs": [
    {
     "data": {
      "application/vnd.jupyter.widget-view+json": {
       "model_id": "49a3501aca5648b7a8d8d353a268c158",
       "version_major": 2,
       "version_minor": 0
      },
      "text/plain": [
       "Map:   0%|          | 0/113600 [00:00<?, ? examples/s]"
      ]
     },
     "metadata": {},
     "output_type": "display_data"
    },
    {
     "data": {
      "application/vnd.jupyter.widget-view+json": {
       "model_id": "065a496a71984fd88693be21027ceb8c",
       "version_major": 2,
       "version_minor": 0
      },
      "text/plain": [
       "Map:   0%|          | 0/28400 [00:00<?, ? examples/s]"
      ]
     },
     "metadata": {},
     "output_type": "display_data"
    },
    {
     "data": {
      "text/plain": [
       "DatasetDict({\n",
       "    train: Dataset({\n",
       "        features: ['label', 'sentence', 'input_ids', 'attention_mask'],\n",
       "        num_rows: 113600\n",
       "    })\n",
       "    test: Dataset({\n",
       "        features: ['label', 'sentence', 'input_ids', 'attention_mask'],\n",
       "        num_rows: 28400\n",
       "    })\n",
       "})"
      ]
     },
     "execution_count": 9,
     "metadata": {},
     "output_type": "execute_result"
    }
   ],
   "source": [
    "def preprocess_function(examples):\n",
    "    return tokenizer(\n",
    "        examples['sentence'], \n",
    "        truncation=True, \n",
    "        padding=\"max_length\", \n",
    "        max_length=128 \n",
    "    )\n",
    "\n",
    "tokenized_dataset = train_dataset.map(preprocess_function, batched=True)\n",
    "tokenized_dataset"
   ]
  },
  {
   "cell_type": "code",
   "execution_count": 10,
   "metadata": {},
   "outputs": [
    {
     "name": "stderr",
     "output_type": "stream",
     "text": [
      "/home/zeus/miniconda3/envs/cloudspace/lib/python3.10/site-packages/transformers/training_args.py:1568: FutureWarning: `evaluation_strategy` is deprecated and will be removed in version 4.46 of 🤗 Transformers. Use `eval_strategy` instead\n",
      "  warnings.warn(\n"
     ]
    }
   ],
   "source": [
    "from transformers import TrainingArguments\n",
    "\n",
    "training_args = TrainingArguments(\n",
    "    output_dir='./results',\n",
    "    evaluation_strategy='epoch',\n",
    "    learning_rate=2e-5,\n",
    "    per_device_train_batch_size=8,\n",
    "    per_device_eval_batch_size=8,\n",
    "    num_train_epochs=5,\n",
    "    weight_decay=0.01,\n",
    ")"
   ]
  },
  {
   "cell_type": "code",
   "execution_count": 17,
   "metadata": {},
   "outputs": [],
   "source": [
    "from transformers import Trainer\n",
    "\n",
    "trainer = Trainer(\n",
    "    model=model,\n",
    "    args=training_args,\n",
    "    train_dataset=tokenized_dataset['train'],\n",
    "    eval_dataset=tokenized_dataset['test'],\n",
    "    compute_metrics=compute_metrics\n",
    ")"
   ]
  },
  {
   "cell_type": "code",
   "execution_count": 12,
   "metadata": {},
   "outputs": [
    {
     "data": {
      "text/html": [
       "\n",
       "    <div>\n",
       "      \n",
       "      <progress value='71000' max='71000' style='width:300px; height:20px; vertical-align: middle;'></progress>\n",
       "      [71000/71000 43:14, Epoch 5/5]\n",
       "    </div>\n",
       "    <table border=\"1\" class=\"dataframe\">\n",
       "  <thead>\n",
       " <tr style=\"text-align: left;\">\n",
       "      <th>Epoch</th>\n",
       "      <th>Training Loss</th>\n",
       "      <th>Validation Loss</th>\n",
       "    </tr>\n",
       "  </thead>\n",
       "  <tbody>\n",
       "    <tr>\n",
       "      <td>1</td>\n",
       "      <td>0.318500</td>\n",
       "      <td>0.294045</td>\n",
       "    </tr>\n",
       "    <tr>\n",
       "      <td>2</td>\n",
       "      <td>0.281700</td>\n",
       "      <td>0.298364</td>\n",
       "    </tr>\n",
       "    <tr>\n",
       "      <td>3</td>\n",
       "      <td>0.250100</td>\n",
       "      <td>0.302255</td>\n",
       "    </tr>\n",
       "    <tr>\n",
       "      <td>4</td>\n",
       "      <td>0.186400</td>\n",
       "      <td>0.380530</td>\n",
       "    </tr>\n",
       "    <tr>\n",
       "      <td>5</td>\n",
       "      <td>0.179100</td>\n",
       "      <td>0.409072</td>\n",
       "    </tr>\n",
       "  </tbody>\n",
       "</table><p>"
      ],
      "text/plain": [
       "<IPython.core.display.HTML object>"
      ]
     },
     "metadata": {},
     "output_type": "display_data"
    },
    {
     "data": {
      "text/plain": [
       "TrainOutput(global_step=71000, training_loss=0.2511198636981803, metrics={'train_runtime': 2594.9733, 'train_samples_per_second': 218.885, 'train_steps_per_second': 27.361, 'total_flos': 1.8810706065408e+16, 'train_loss': 0.2511198636981803, 'epoch': 5.0})"
      ]
     },
     "execution_count": 12,
     "metadata": {},
     "output_type": "execute_result"
    }
   ],
   "source": [
    "trainer.train()"
   ]
  },
  {
   "cell_type": "code",
   "execution_count": 18,
   "metadata": {},
   "outputs": [
    {
     "data": {
      "text/html": [
       "\n",
       "    <div>\n",
       "      \n",
       "      <progress value='3550' max='3550' style='width:300px; height:20px; vertical-align: middle;'></progress>\n",
       "      [3550/3550 00:19]\n",
       "    </div>\n",
       "    "
      ],
      "text/plain": [
       "<IPython.core.display.HTML object>"
      ]
     },
     "metadata": {},
     "output_type": "display_data"
    },
    {
     "name": "stdout",
     "output_type": "stream",
     "text": [
      "{'eval_loss': 0.4090724587440491, 'eval_model_preparation_time': 0.0016, 'eval_accuracy': 0.9171126760563381, 'eval_runtime': 19.7016, 'eval_samples_per_second': 1441.506, 'eval_steps_per_second': 180.188}\n"
     ]
    }
   ],
   "source": [
    "from sklearn.metrics import accuracy_score\n",
    "\n",
    "def compute_metrics(eval_pred):\n",
    "    predictions, labels = eval_pred\n",
    "    predictions = predictions.argmax(axis=1)  # Convert logits to class predictions\n",
    "    acc = accuracy_score(labels, predictions)\n",
    "    return {\"accuracy\": acc}\n",
    "\n",
    "results = trainer.evaluate()\n",
    "results"
   ]
  },
  {
   "cell_type": "code",
   "execution_count": 14,
   "metadata": {},
   "outputs": [
    {
     "data": {
      "application/vnd.jupyter.widget-view+json": {
       "model_id": "a915a711e5344a88bffe00a9390f767c",
       "version_major": 2,
       "version_minor": 0
      },
      "text/plain": [
       "VBox(children=(HTML(value='<center> <img\\nsrc=https://huggingface.co/front/assets/huggingface_logo-noborder.sv…"
      ]
     },
     "metadata": {},
     "output_type": "display_data"
    },
    {
     "name": "stderr",
     "output_type": "stream",
     "text": [
      "Token has not been saved to git credential helper.\n"
     ]
    }
   ],
   "source": [
    "from huggingface_hub import login\n",
    "login()"
   ]
  },
  {
   "cell_type": "code",
   "execution_count": 15,
   "metadata": {},
   "outputs": [
    {
     "data": {
      "application/vnd.jupyter.widget-view+json": {
       "model_id": "8ea414e3451b4d46a2d51bd601fe0c4f",
       "version_major": 2,
       "version_minor": 0
      },
      "text/plain": [
       "model.safetensors:   0%|          | 0.00/328M [00:00<?, ?B/s]"
      ]
     },
     "metadata": {},
     "output_type": "display_data"
    },
    {
     "data": {
      "application/vnd.jupyter.widget-view+json": {
       "model_id": "70585d7643884717ad25d920ed6ac628",
       "version_major": 2,
       "version_minor": 0
      },
      "text/plain": [
       "README.md:   0%|          | 0.00/5.17k [00:00<?, ?B/s]"
      ]
     },
     "metadata": {},
     "output_type": "display_data"
    },
    {
     "name": "stdout",
     "output_type": "stream",
     "text": [
      "Model uploaded to Hugging Face Hub!\n"
     ]
    }
   ],
   "source": [
    "model.push_to_hub(\"msr2903/mrm8488-distilroberta-fine-tuned-financial-sentiment\")\n",
    "tokenizer.push_to_hub(\"msr2903/mrm8488-distilroberta-fine-tuned-financial-sentiment\")\n",
    "\n",
    "print(\"Model uploaded to Hugging Face Hub!\")"
   ]
  }
 ],
 "metadata": {
  "language_info": {
   "name": "python"
  }
 },
 "nbformat": 4,
 "nbformat_minor": 2
}
