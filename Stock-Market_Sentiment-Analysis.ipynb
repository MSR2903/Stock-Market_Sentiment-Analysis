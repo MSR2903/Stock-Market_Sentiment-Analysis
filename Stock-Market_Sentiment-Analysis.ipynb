{
 "cells": [
  {
   "cell_type": "markdown",
   "metadata": {
    "cell_id": "1a8c4368af8c4991a7c0da9d5895c39e",
    "deepnote_cell_type": "text-cell-h1",
    "formattedRanges": []
   },
   "source": [
    "# 1. FINANCIAL STOCK NEWS SENTIMENT ANALYSIS"
   ]
  },
  {
   "cell_type": "markdown",
   "metadata": {
    "cell_id": "acc5e371c5e544a9871391ed30958e92",
    "deepnote_cell_type": "text-cell-h2",
    "formattedRanges": []
   },
   "source": [
    "## i. Using a model from Huggingface without fine-tuning"
   ]
  },
  {
   "cell_type": "code",
   "execution_count": 1,
   "metadata": {
    "cell_id": "326cc706f9ac44f1b684371e234b3ef0",
    "deepnote_cell_type": "code",
    "execution_context_id": "d0fe3484-a288-42ec-b206-981a92786ed4",
    "execution_millis": 3471,
    "execution_start": 1732531832461,
    "source_hash": "422779ed"
   },
   "outputs": [
    {
     "name": "stdout",
     "output_type": "stream",
     "text": [
      "Requirement already satisfied: transformers in /root/venv/lib/python3.9/site-packages (4.46.3)\n",
      "Requirement already satisfied: datasets in /root/venv/lib/python3.9/site-packages (3.1.0)\n",
      "Requirement already satisfied: safetensors>=0.4.1 in /root/venv/lib/python3.9/site-packages (from transformers) (0.4.5)\n",
      "Requirement already satisfied: tokenizers<0.21,>=0.20 in /root/venv/lib/python3.9/site-packages (from transformers) (0.20.3)\n",
      "Requirement already satisfied: huggingface-hub<1.0,>=0.23.2 in /root/venv/lib/python3.9/site-packages (from transformers) (0.26.2)\n",
      "Requirement already satisfied: numpy>=1.17 in /shared-libs/python3.9/py/lib/python3.9/site-packages (from transformers) (1.23.4)\n",
      "Requirement already satisfied: requests in /root/venv/lib/python3.9/site-packages (from transformers) (2.32.3)\n",
      "Requirement already satisfied: regex!=2019.12.17 in /shared-libs/python3.9/py/lib/python3.9/site-packages (from transformers) (2022.9.13)\n",
      "Requirement already satisfied: pyyaml>=5.1 in /root/venv/lib/python3.9/site-packages (from transformers) (6.0.2)\n",
      "Requirement already satisfied: filelock in /shared-libs/python3.9/py/lib/python3.9/site-packages (from transformers) (3.8.0)\n",
      "Requirement already satisfied: packaging>=20.0 in /shared-libs/python3.9/py-core/lib/python3.9/site-packages (from transformers) (21.3)\n",
      "Requirement already satisfied: tqdm>=4.27 in /root/venv/lib/python3.9/site-packages (from transformers) (4.67.1)\n",
      "Requirement already satisfied: dill<0.3.9,>=0.3.0 in /root/venv/lib/python3.9/site-packages (from datasets) (0.3.8)\n",
      "Requirement already satisfied: xxhash in /root/venv/lib/python3.9/site-packages (from datasets) (3.5.0)\n",
      "Requirement already satisfied: fsspec[http]<=2024.9.0,>=2023.1.0 in /shared-libs/python3.9/py/lib/python3.9/site-packages (from datasets) (2024.2.0)\n",
      "Requirement already satisfied: aiohttp in /root/venv/lib/python3.9/site-packages (from datasets) (3.11.7)\n",
      "Requirement already satisfied: multiprocess<0.70.17 in /root/venv/lib/python3.9/site-packages (from datasets) (0.70.16)\n",
      "Requirement already satisfied: pandas in /shared-libs/python3.9/py/lib/python3.9/site-packages (from datasets) (2.1.4)\n",
      "Requirement already satisfied: pyarrow>=15.0.0 in /root/venv/lib/python3.9/site-packages (from datasets) (18.0.0)\n",
      "Requirement already satisfied: attrs>=17.3.0 in /shared-libs/python3.9/py-core/lib/python3.9/site-packages (from aiohttp->datasets) (22.1.0)\n",
      "Requirement already satisfied: aiosignal>=1.1.2 in /root/venv/lib/python3.9/site-packages (from aiohttp->datasets) (1.3.1)\n",
      "Requirement already satisfied: yarl<2.0,>=1.17.0 in /root/venv/lib/python3.9/site-packages (from aiohttp->datasets) (1.18.0)\n",
      "Requirement already satisfied: frozenlist>=1.1.1 in /root/venv/lib/python3.9/site-packages (from aiohttp->datasets) (1.5.0)\n",
      "Requirement already satisfied: async-timeout<6.0,>=4.0 in /root/venv/lib/python3.9/site-packages (from aiohttp->datasets) (5.0.1)\n",
      "Requirement already satisfied: multidict<7.0,>=4.5 in /root/venv/lib/python3.9/site-packages (from aiohttp->datasets) (6.1.0)\n",
      "Requirement already satisfied: aiohappyeyeballs>=2.3.0 in /root/venv/lib/python3.9/site-packages (from aiohttp->datasets) (2.4.3)\n",
      "Requirement already satisfied: propcache>=0.2.0 in /root/venv/lib/python3.9/site-packages (from aiohttp->datasets) (0.2.0)\n",
      "Requirement already satisfied: typing-extensions>=3.7.4.3 in /shared-libs/python3.9/py/lib/python3.9/site-packages (from huggingface-hub<1.0,>=0.23.2->transformers) (4.4.0)\n",
      "Requirement already satisfied: pyparsing!=3.0.5,>=2.0.2 in /shared-libs/python3.9/py-core/lib/python3.9/site-packages (from packaging>=20.0->transformers) (3.0.9)\n",
      "Requirement already satisfied: idna<4,>=2.5 in /shared-libs/python3.9/py-core/lib/python3.9/site-packages (from requests->transformers) (3.4)\n",
      "Requirement already satisfied: urllib3<3,>=1.21.1 in /shared-libs/python3.9/py/lib/python3.9/site-packages (from requests->transformers) (1.26.12)\n",
      "Requirement already satisfied: certifi>=2017.4.17 in /shared-libs/python3.9/py/lib/python3.9/site-packages (from requests->transformers) (2022.9.24)\n",
      "Requirement already satisfied: charset-normalizer<4,>=2 in /shared-libs/python3.9/py-core/lib/python3.9/site-packages (from requests->transformers) (2.1.1)\n",
      "Requirement already satisfied: pytz>=2020.1 in /shared-libs/python3.9/py/lib/python3.9/site-packages (from pandas->datasets) (2022.5)\n",
      "Requirement already satisfied: python-dateutil>=2.8.2 in /shared-libs/python3.9/py-core/lib/python3.9/site-packages (from pandas->datasets) (2.8.2)\n",
      "Requirement already satisfied: tzdata>=2022.1 in /shared-libs/python3.9/py/lib/python3.9/site-packages (from pandas->datasets) (2022.5)\n",
      "Requirement already satisfied: six>=1.5 in /shared-libs/python3.9/py-core/lib/python3.9/site-packages (from python-dateutil>=2.8.2->pandas->datasets) (1.16.0)\n",
      "\n",
      "\u001b[1m[\u001b[0m\u001b[34;49mnotice\u001b[0m\u001b[1;39;49m]\u001b[0m\u001b[39;49m A new release of pip is available: \u001b[0m\u001b[31;49m23.0.1\u001b[0m\u001b[39;49m -> \u001b[0m\u001b[32;49m24.3.1\u001b[0m\n",
      "\u001b[1m[\u001b[0m\u001b[34;49mnotice\u001b[0m\u001b[1;39;49m]\u001b[0m\u001b[39;49m To update, run: \u001b[0m\u001b[32;49mpip install --upgrade pip\u001b[0m\n"
     ]
    }
   ],
   "source": [
    "! pip install transformers datasets"
   ]
  },
  {
   "cell_type": "markdown",
   "metadata": {
    "cell_id": "2638d5c5ad314183870c5e5240e5b350",
    "deepnote_cell_type": "text-cell-h2",
    "formattedRanges": []
   },
   "source": [
    "## ii. Data Loading and Preprocessing"
   ]
  },
  {
   "cell_type": "code",
   "execution_count": null,
   "metadata": {
    "cell_id": "8e7ba24a556a4f36b36c364b73002a65",
    "deepnote_cell_type": "code",
    "execution_context_id": "d0fe3484-a288-42ec-b206-981a92786ed4",
    "execution_millis": 4845,
    "execution_start": 1732531835981,
    "source_hash": "f742370d"
   },
   "outputs": [
    {
     "name": "stderr",
     "output_type": "stream",
     "text": [
      "/root/venv/lib/python3.9/site-packages/tqdm/auto.py:21: TqdmWarning: IProgress not found. Please update jupyter and ipywidgets. See https://ipywidgets.readthedocs.io/en/stable/user_install.html\n",
      "  from .autonotebook import tqdm as notebook_tqdm\n",
      "2024-11-25 10:50:37.799571: I tensorflow/core/platform/cpu_feature_guard.cc:193] This TensorFlow binary is optimized with oneAPI Deep Neural Network Library (oneDNN) to use the following CPU instructions in performance-critical operations:  AVX2 AVX512F AVX512_VNNI FMA\n",
      "To enable them in other operations, rebuild TensorFlow with the appropriate compiler flags.\n",
      "2024-11-25 10:50:37.946189: I tensorflow/core/util/util.cc:169] oneDNN custom operations are on. You may see slightly different numerical results due to floating-point round-off errors from different computation orders. To turn them off, set the environment variable `TF_ENABLE_ONEDNN_OPTS=0`.\n",
      "2024-11-25 10:50:37.950577: W tensorflow/stream_executor/platform/default/dso_loader.cc:64] Could not load dynamic library 'libcudart.so.11.0'; dlerror: libcudart.so.11.0: cannot open shared object file: No such file or directory\n",
      "2024-11-25 10:50:37.950592: I tensorflow/stream_executor/cuda/cudart_stub.cc:29] Ignore above cudart dlerror if you do not have a GPU set up on your machine.\n",
      "2024-11-25 10:50:37.999350: E tensorflow/stream_executor/cuda/cuda_blas.cc:2981] Unable to register cuBLAS factory: Attempting to register factory for plugin cuBLAS when one has already been registered\n",
      "2024-11-25 10:50:38.686271: W tensorflow/stream_executor/platform/default/dso_loader.cc:64] Could not load dynamic library 'libnvinfer.so.7'; dlerror: libnvinfer.so.7: cannot open shared object file: No such file or directory\n",
      "2024-11-25 10:50:38.686379: W tensorflow/stream_executor/platform/default/dso_loader.cc:64] Could not load dynamic library 'libnvinfer_plugin.so.7'; dlerror: libnvinfer_plugin.so.7: cannot open shared object file: No such file or directory\n",
      "2024-11-25 10:50:38.686401: W tensorflow/compiler/tf2tensorrt/utils/py_utils.cc:38] TF-TRT Warning: Cannot dlopen some TensorRT libraries. If you would like to use Nvidia GPU with TensorRT, please make sure the missing libraries mentioned above are installed properly.\n"
     ]
    },
    {
     "data": {
      "text/plain": [
       "{'symbol': ['HE', 'CRS', 'BB', 'TECK', 'AGF'],\n",
       " 'publishedDate': ['2023-10-04T21:54:28.000Z',\n",
       "  '2023-10-04T21:40:00.000Z',\n",
       "  '2023-10-04T21:34:09.000Z',\n",
       "  '2023-10-04T21:17:00.000Z',\n",
       "  '2023-10-04T21:13:38.000Z'],\n",
       " 'title': ['HE REMINDER: Kessler Topaz Meltzer & Check, LLP Reminds Hawaiian Electric Industries, Inc. (HE) Shareholders of Securities Fraud Class Action Lawsuit and Encourages Investors with Substantial Losses to Contact the Firm',\n",
       "  'Carpenter Technology Announces Conference Call and Webcast',\n",
       "  \"What's Going On With BlackBerry Stock After Hours?\",\n",
       "  'Teck to Release Third Quarter 2023 Results on October 24, 2023',\n",
       "  'AGF Reports September 2023 Assets Under Management and Fee-Earning Assets'],\n",
       " 'image': ['/next-assets/images/schema-image-default.png',\n",
       "  'https://ml.globenewswire.com/Resource/Download/7c55611a-3a49-4ccf-ba73-ce17859753db',\n",
       "  'https://cdn.benzinga.com/files/images/story/2023/10/04/noc_10.jpg?optimize=medium&dpr=1&auto=webp&height=800&width=1456&fit=crop',\n",
       "  'https://ml.globenewswire.com/Resource/Download/4d859d20-8bc9-4aa6-9ff8-006dbd1d33f2',\n",
       "  '/next-assets/images/schema-image-default.png'],\n",
       " 'site': ['benzinga',\n",
       "  'globenewswire',\n",
       "  'benzinga',\n",
       "  'globenewswire',\n",
       "  'benzinga'],\n",
       " 'text': ['RADNOR, Pa., Oct. 04, 2023 (GLOBE NEWSWIRE) -- The law firm of Kessler Topaz Meltzer & Check, LLP (www.ktmc.com) informs investors that a securities class action lawsuit has been filed in the United States District Court for the Northern District of California against Hawaiian Electric Industries, Inc. (\"Hawaiian Electric\") (NYSE:HE). The action charges Hawaiian Electric with violations of the federal securities laws, including omissions and fraudulent misrepresentations relating to the compa...',\n",
       "  'PHILADELPHIA, Oct. 04, 2023 (GLOBE NEWSWIRE) -- Carpenter Technology Corporation (NYSE: CRS) plans to host a conference call and webcast on Thursday, October 26, 2023 at 10:00 a.m. ET to discuss the results of operations for the first quarter of fiscal year 2024, ended September 30, 2023. The call and webcast will follow the release of first quarter fiscal 2024 financial results before the market opens on Thursday, October 26, 2023...',\n",
       "  \"BlackBerry Ltd (NYSE: BB) shares are trading higher in Wednesday's after-hours session after the company announced intent to separate its business units. What Happened: As a result of the company's previously announced strategic review to drive shareholder value, BlackBerry's board determined that separating its IoT and Cybersecurity businesses is the best strategy for the company. BlackBerry plans to pursue an IPO for its IoT business sometime in the ...Full story available on Benzinga.com...\",\n",
       "  'VANCOUVER, British Columbia, Oct. 04, 2023 (GLOBE NEWSWIRE) -- Teck Resources Limited (TSX: TECK.A and TECK.B, NYSE: TECK) (“Teck”) will release its third quarter 2023 earnings results before market open on Tuesday, October 24, 2023...',\n",
       "  'TORONTO, Oct. 04, 2023 (GLOBE NEWSWIRE) -- AGF Management Limited reported total assets under management (AUM) and fee-earning assets1 of $41.0 billion as at September 30, 2023. AUM ($ billions) September 30, 2023 August 31, 2023 % ChangeMonth-Over-Month September 30, 2022 % Change Year-Over-Year Total Mutual Fund (including retail pooled funds) $23.5 $24.4 $21.7 Exchange-traded funds + Separately managed accounts $1.4 $1.3 $1.1 Segregated accounts and Sub-advisory + AGF Priva...'],\n",
       " 'url': ['https://www.benzinga.com/pressreleases/23/10/g35098825/he-reminder-kessler-topaz-meltzer-check-llp-reminds-hawaiian-electric-industries-inc-he-shareholde',\n",
       "  'https://www.globenewswire.com/news-release/2023/10/04/2754991/0/en/Carpenter-Technology-Announces-Conference-Call-and-Webcast.html',\n",
       "  'https://www.benzinga.com/news/23/10/35098537/whats-going-on-with-blackberry-stock-after-hours',\n",
       "  'https://www.globenewswire.com/news-release/2023/10/04/2754989/0/en/Teck-to-Release-Third-Quarter-2023-Results-on-October-24-2023.html',\n",
       "  'https://www.benzinga.com/pressreleases/23/10/g35098361/agf-reports-september-2023-assets-under-management-and-fee-earning-assets'],\n",
       " 'sentiment': ['Negative', 'Positive', 'Positive', 'Positive', 'Positive'],\n",
       " 'sentimentScore': [-0.6417, 0.4767, 0.9895, 0.83, 0.9768]}"
      ]
     },
     "execution_count": 2,
     "metadata": {},
     "output_type": "execute_result"
    }
   ],
   "source": [
    "from datasets import load_dataset\n",
    "from transformers import pipeline\n",
    "import pandas as pd\n",
    "\n",
    "ds = load_dataset(\"NickyNicky/finance-financialmodelingprep-stock-news-sentiments-rss-feed\", split=\"train\")\n",
    "\n",
    "# Show the first 5 rows of the dataset\n",
    "ds[:5]"
   ]
  },
  {
   "cell_type": "code",
   "execution_count": 3,
   "metadata": {
    "cell_id": "3375f95e46284e2a9e32fef2e2147252",
    "deepnote_cell_type": "code",
    "deepnote_table_loading": true,
    "deepnote_table_state": {
     "cellFormattingRules": [],
     "conditionalFilters": [],
     "filters": [],
     "pageIndex": 0,
     "pageSize": 10,
     "sortBy": [],
     "wrappedTextColumnIds": []
    },
    "execution_context_id": "d0fe3484-a288-42ec-b206-981a92786ed4",
    "execution_millis": 13847,
    "execution_start": 1732531840870,
    "source_hash": "4af4c656"
   },
   "outputs": [
    {
     "data": {
      "application/vnd.deepnote.dataframe.v3+json": {
       "column_count": 4,
       "columns": [
        {
         "dtype": "object",
         "name": "symbol",
         "stats": {
          "categories": [
           {
            "count": 290,
            "name": "INTC"
           }
          ],
          "nan_count": 0,
          "unique_count": 1
         }
        },
        {
         "dtype": "object",
         "name": "publishedDate",
         "stats": {
          "categories": [
           {
            "count": 1,
            "name": "2023-10-04T20:20:37.000Z"
           },
           {
            "count": 1,
            "name": "2023-10-04T13:57:43.000Z"
           },
           {
            "count": 288,
            "name": "288 others"
           }
          ],
          "nan_count": 0,
          "unique_count": 290
         }
        },
        {
         "dtype": "object",
         "name": "text",
         "stats": {
          "categories": [
           {
            "count": 2,
            "name": "This article was first featured in Yahoo Finance Tech, a weekly newsletter highlighting our original content on the industry. Get it sent directly to your inbox every Wednesday. Subscribe."
           },
           {
            "count": 2,
            "name": "Intel                   ‘s disappointing results and warning of a contracting data-center market knocked the stock in some of its key rivals on Friday. Intel                    (ticker: INTC) shares were down 10% in premarket trading after the chip maker missed expectations for the fourth quarter and provided a revenue forecast for its March quarter far below expectations. Subscribe                                or                              Sign In                            to continue read"
           },
           {
            "count": 286,
            "name": "286 others"
           }
          ],
          "nan_count": 0,
          "unique_count": 288
         }
        },
        {
         "dtype": "object",
         "name": "sentiment",
         "stats": {
          "categories": [
           {
            "count": 244,
            "name": "Positive"
           },
           {
            "count": 41,
            "name": "Negative"
           },
           {
            "count": 5,
            "name": "Neutral"
           }
          ],
          "nan_count": 0,
          "unique_count": 3
         }
        },
        {
         "dtype": "int64",
         "name": "_deepnote_index_column"
        }
       ],
       "row_count": 290,
       "rows": [
        {
         "_deepnote_index_column": 26,
         "publishedDate": "2023-10-04T20:20:37.000Z",
         "sentiment": "Positive",
         "symbol": "INTC",
         "text": "Rosenblatt analyst Hans Mosesmann reiterated Intel Corp (NASDAQ: INTC) with a Sell and a $17 price target. Intel shared plans to spin off its Programmable Solutions Group business as a standalone business, giving it flexibility for accelerated growth and helping it to compete more effectively. The move is more tactical than strategic, as Intel is cash-starved, the analyst writes. Intel mismanaged Altera early on and has only recently begun a reinvestment and focus initiative likely related to th..."
        },
        {
         "_deepnote_index_column": 178,
         "publishedDate": "2023-10-04T13:57:43.000Z",
         "sentiment": "Positive",
         "symbol": "INTC",
         "text": "Amid an uninspiring day on Wall Street, shares of athletic apparel stalwart Nike (NYSE:NKE) did little to change the atmosphere, gaining under 1%. However, an insider acquisition of NKE stock raised eyebrows for its relative rarity. In addition, the tacit endorsement of the business coincides with seemingly positive action in the options market. According to a filing with the U.S. Securities and Exchange Commission (SEC), Director Bob Swan acquired 13,072 shares of NKE stock on Oct. 2. Further,..."
        },
        {
         "_deepnote_index_column": 499,
         "publishedDate": "2023-10-03T20:33:45.000Z",
         "sentiment": "Positive",
         "symbol": "INTC",
         "text": "Intel Corp (NASDAQ: INTC) shares are trading higher in Tuesday's after-hours session after the company announced that it plans to operate its Programmable Solutions Group as a standalone business. What To Know: Intel said it intends to separate its Programmable Solutions Group operations as its own business, giving it the flexibility it needs to accelerate growth and more effectively compete in the industry. Sandra Rivera, executive vice president at Intel, will become the CEO of Intel's Progra..."
        },
        {
         "_deepnote_index_column": 1398,
         "publishedDate": "2023-10-02T06:45:19.000Z",
         "sentiment": "Positive",
         "symbol": "INTC",
         "text": "It’s an understatement to say that Intel (NASDAQ:INTC) stock has a long way to go. The company clearly has a lot on its plate. To get back on track and spark a rebound for INTC stock, the chip maker’s management is pursuing myriad turnaround efforts. However, based on several positive developments, the company is clearly making progress with its turnaround plans. The market seemingly agrees, as seen from INTC’s more than 20% jump higher over the past six months. While not for certain, if Intel c..."
        },
        {
         "_deepnote_index_column": 1472,
         "publishedDate": "2023-10-01T14:42:39.000Z",
         "sentiment": "Positive",
         "symbol": "INTC",
         "text": "The case for investing in growth stocks has been muddled for quite some time. For example, 2022 was a terrible year for growth stocks across the board. Rapid rate hikes beginning in March of that year caused their downturn. The negative correlation between rising interest rates and high-performing growth stocks is well known: The price decline wasn’t a surprise. This year, growth stocks have been harder to predict. We’re constantly pulled in both directions by the threat of additional rate h..."
        },
        {
         "_deepnote_index_column": 2086,
         "publishedDate": "2023-09-28T19:54:39.000Z",
         "sentiment": "Positive",
         "symbol": "INTC",
         "text": "The top Dow stocks serve as a bellwether for the health of the U.S. economy. This year, the Dow has trailed the other two major U.S. indices with a 1% gain. Meanwhile, the tech-heavy NASDAQ gained 25% year to date, as the S&P 500 index shot up about 11%. While the rally has not yet favored the more mature and established blue-chip stocks that comprise the 30 names in the Dow, that could soon change. So, we wanted to take a quick look at the very Dow stocks to strongly consider. Dow Stocks: Appl..."
        },
        {
         "_deepnote_index_column": 2247,
         "publishedDate": "2023-09-28T14:03:09.000Z",
         "sentiment": "Positive",
         "symbol": "INTC",
         "text": "The Dow 30 is a select group of stocks representing prominent companies in a variety of industries and sectors. A common characteristic of Dow stocks is their status as blue-chip stocks. Since blue-chip stocks are known for their stability, Dow stocks wouldn’t normally be on a list of stocks to sell. However, many of the stocks on the list do serve as proxies for the broader market. And with all the volatility in the market today, it’s not surprising that some of these 30 stocks might not be gre..."
        },
        {
         "_deepnote_index_column": 2488,
         "publishedDate": "2023-09-28T08:53:15.000Z",
         "sentiment": "Positive",
         "symbol": "INTC",
         "text": "In the world of technology, some stocks shine brighter than others, even amidst challenges and uncertainties. The article delves into the fascinating progression of three tech giants as they embark on remarkable turnarounds propelled by innovative strategies and cutting-edge technology. It has also led to the rise of turnaround stocks to buy. The first is a social media behemoth with an astonishing 3.8 billion monthly active users. It is not merely a platform for connecting people but a robust e..."
        },
        {
         "_deepnote_index_column": 2598,
         "publishedDate": "2023-09-27T22:15:30.000Z",
         "sentiment": "Positive",
         "symbol": "INTC",
         "text": "Wall Street has been very upset about the results of the Federal Reserve meeting earlier this month. However, there are still many reasons to be optimistic about U.S. stocks — especially safer large-cap stocks — going forward. For one, I don’t think that the results of the meeting were actually as hawkish as the Street believes. At the meeting, seven of the 19 Fed members, or nearly 40% of them, did not expect the central bank to increase rates again this year. In addition, we have to consider..."
        },
        {
         "_deepnote_index_column": 4106,
         "publishedDate": "2023-09-25T07:00:15.000Z",
         "sentiment": "Positive",
         "symbol": "INTC",
         "text": "There’s nothing wrong with taking a flyer on an up-and-coming stock. Sometimes penny stocks can work, but a good portfolio likely has its fair share of great blue-chip stocks as well to provide a stable foundation. Blue-chip stocks are those that belong to companies that are among the clear leaders in their industries and sectors, with a solid position, if not a dominant competitive advantage. They almost always are large-cap stocks because they’ve matured enough to have a market capitalization..."
        }
       ]
      },
      "text/html": [
       "<div>\n",
       "<style scoped>\n",
       "    .dataframe tbody tr th:only-of-type {\n",
       "        vertical-align: middle;\n",
       "    }\n",
       "\n",
       "    .dataframe tbody tr th {\n",
       "        vertical-align: top;\n",
       "    }\n",
       "\n",
       "    .dataframe thead th {\n",
       "        text-align: right;\n",
       "    }\n",
       "</style>\n",
       "<table border=\"1\" class=\"dataframe\">\n",
       "  <thead>\n",
       "    <tr style=\"text-align: right;\">\n",
       "      <th></th>\n",
       "      <th>symbol</th>\n",
       "      <th>publishedDate</th>\n",
       "      <th>text</th>\n",
       "      <th>sentiment</th>\n",
       "    </tr>\n",
       "  </thead>\n",
       "  <tbody>\n",
       "    <tr>\n",
       "      <th>26</th>\n",
       "      <td>INTC</td>\n",
       "      <td>2023-10-04T20:20:37.000Z</td>\n",
       "      <td>Rosenblatt analyst Hans Mosesmann reiterated I...</td>\n",
       "      <td>Positive</td>\n",
       "    </tr>\n",
       "    <tr>\n",
       "      <th>178</th>\n",
       "      <td>INTC</td>\n",
       "      <td>2023-10-04T13:57:43.000Z</td>\n",
       "      <td>Amid an uninspiring day on Wall Street, shares...</td>\n",
       "      <td>Positive</td>\n",
       "    </tr>\n",
       "    <tr>\n",
       "      <th>499</th>\n",
       "      <td>INTC</td>\n",
       "      <td>2023-10-03T20:33:45.000Z</td>\n",
       "      <td>Intel Corp (NASDAQ: INTC) shares are trading h...</td>\n",
       "      <td>Positive</td>\n",
       "    </tr>\n",
       "    <tr>\n",
       "      <th>1398</th>\n",
       "      <td>INTC</td>\n",
       "      <td>2023-10-02T06:45:19.000Z</td>\n",
       "      <td>It’s an understatement to say that Intel (NASD...</td>\n",
       "      <td>Positive</td>\n",
       "    </tr>\n",
       "    <tr>\n",
       "      <th>1472</th>\n",
       "      <td>INTC</td>\n",
       "      <td>2023-10-01T14:42:39.000Z</td>\n",
       "      <td>The case for investing in growth stocks has be...</td>\n",
       "      <td>Positive</td>\n",
       "    </tr>\n",
       "    <tr>\n",
       "      <th>...</th>\n",
       "      <td>...</td>\n",
       "      <td>...</td>\n",
       "      <td>...</td>\n",
       "      <td>...</td>\n",
       "    </tr>\n",
       "    <tr>\n",
       "      <th>133053</th>\n",
       "      <td>INTC</td>\n",
       "      <td>2022-09-06T10:40:32.000Z</td>\n",
       "      <td>Source: Shutterstock Today, a number of chip s...</td>\n",
       "      <td>Positive</td>\n",
       "    </tr>\n",
       "    <tr>\n",
       "      <th>133056</th>\n",
       "      <td>INTC</td>\n",
       "      <td>2022-09-06T10:33:56.000Z</td>\n",
       "      <td>Semiconductor stocks rose over the weekend aft...</td>\n",
       "      <td>Positive</td>\n",
       "    </tr>\n",
       "    <tr>\n",
       "      <th>136361</th>\n",
       "      <td>INTC</td>\n",
       "      <td>2022-08-26T16:28:00.000Z</td>\n",
       "      <td>Shares of                        Intel        ...</td>\n",
       "      <td>Negative</td>\n",
       "    </tr>\n",
       "    <tr>\n",
       "      <th>136422</th>\n",
       "      <td>INTC</td>\n",
       "      <td>2022-08-26T14:25:54.000Z</td>\n",
       "      <td>Intel (NASDAQ:INTC) stock is in focus followin...</td>\n",
       "      <td>Positive</td>\n",
       "    </tr>\n",
       "    <tr>\n",
       "      <th>137955</th>\n",
       "      <td>INTC</td>\n",
       "      <td>2022-08-23T14:17:59.000Z</td>\n",
       "      <td>© REUTERS Intel (INTC) Signs Deal with Brookfi...</td>\n",
       "      <td>Positive</td>\n",
       "    </tr>\n",
       "  </tbody>\n",
       "</table>\n",
       "<p>290 rows × 4 columns</p>\n",
       "</div>"
      ],
      "text/plain": [
       "       symbol             publishedDate  \\\n",
       "26       INTC  2023-10-04T20:20:37.000Z   \n",
       "178      INTC  2023-10-04T13:57:43.000Z   \n",
       "499      INTC  2023-10-03T20:33:45.000Z   \n",
       "1398     INTC  2023-10-02T06:45:19.000Z   \n",
       "1472     INTC  2023-10-01T14:42:39.000Z   \n",
       "...       ...                       ...   \n",
       "133053   INTC  2022-09-06T10:40:32.000Z   \n",
       "133056   INTC  2022-09-06T10:33:56.000Z   \n",
       "136361   INTC  2022-08-26T16:28:00.000Z   \n",
       "136422   INTC  2022-08-26T14:25:54.000Z   \n",
       "137955   INTC  2022-08-23T14:17:59.000Z   \n",
       "\n",
       "                                                     text sentiment  \n",
       "26      Rosenblatt analyst Hans Mosesmann reiterated I...  Positive  \n",
       "178     Amid an uninspiring day on Wall Street, shares...  Positive  \n",
       "499     Intel Corp (NASDAQ: INTC) shares are trading h...  Positive  \n",
       "1398    It’s an understatement to say that Intel (NASD...  Positive  \n",
       "1472    The case for investing in growth stocks has be...  Positive  \n",
       "...                                                   ...       ...  \n",
       "133053  Source: Shutterstock Today, a number of chip s...  Positive  \n",
       "133056  Semiconductor stocks rose over the weekend aft...  Positive  \n",
       "136361  Shares of                        Intel        ...  Negative  \n",
       "136422  Intel (NASDAQ:INTC) stock is in focus followin...  Positive  \n",
       "137955  © REUTERS Intel (INTC) Signs Deal with Brookfi...  Positive  \n",
       "\n",
       "[290 rows x 4 columns]"
      ]
     },
     "execution_count": 3,
     "metadata": {},
     "output_type": "execute_result"
    }
   ],
   "source": [
    "# Dropping unnecessary columns\n",
    "ds = pd.DataFrame(ds)\n",
    "df = ds.drop(columns=[\"image\", \"title\", \"image\", \"site\", \"url\", \"sentimentScore\"], axis=1)\n",
    "\n",
    "#Filter the symbol\n",
    "df = df[df[\"symbol\"] == \"INTC\"]\n",
    "df"
   ]
  },
  {
   "cell_type": "code",
   "execution_count": 4,
   "metadata": {
    "cell_id": "d5ace7a5803d4033b5015f6e30d17bd1",
    "deepnote_cell_type": "code",
    "execution_context_id": "e9548f45-3829-4af3-95f9-0434d3347dda",
    "execution_millis": 0,
    "execution_start": 1732531854765,
    "source_hash": "8b696551"
   },
   "outputs": [
    {
     "data": {
      "text/plain": [
       "sentiment\n",
       "Positive    244\n",
       "Negative     41\n",
       "Neutral       5\n",
       "Name: count, dtype: int64"
      ]
     },
     "execution_count": 4,
     "metadata": {},
     "output_type": "execute_result"
    }
   ],
   "source": [
    "df['sentiment'].value_counts()"
   ]
  },
  {
   "cell_type": "markdown",
   "metadata": {
    "cell_id": "d6f6cd8896534d13981b60c9592a9bde",
    "deepnote_cell_type": "text-cell-h2",
    "formattedRanges": []
   },
   "source": [
    "## iii. Inputting data to the LLM Model"
   ]
  },
  {
   "cell_type": "code",
   "execution_count": null,
   "metadata": {
    "cell_id": "0de03261e56f4227aff0c3ad5b6fa7c7",
    "deepnote_cell_type": "code",
    "execution_context_id": "d0fe3484-a288-42ec-b206-981a92786ed4",
    "execution_millis": 1201,
    "execution_start": 1732531854813,
    "source_hash": "17c06fa6"
   },
   "outputs": [],
   "source": [
    "from transformers import pipeline\n",
    "\n",
    "sentiment_analyzer = pipeline(\"text-classification\", model=\"mrm8488/distilroberta-finetuned-financial-news-sentiment-analysis\")"
   ]
  },
  {
   "cell_type": "code",
   "execution_count": null,
   "metadata": {
    "cell_id": "9d132ddbc08c4a6798aaa55cc3f45b60",
    "deepnote_cell_type": "code",
    "execution_context_id": "d0fe3484-a288-42ec-b206-981a92786ed4",
    "execution_millis": 175227,
    "execution_start": 1732531856072,
    "source_hash": "e452a221"
   },
   "outputs": [
    {
     "data": {
      "text/plain": [
       "[{'label': 'positive', 'score': 0.9962813258171082},\n",
       " {'label': 'positive', 'score': 0.9995166063308716},\n",
       " {'label': 'positive', 'score': 0.9993415474891663},\n",
       " {'label': 'positive', 'score': 0.9996519088745117},\n",
       " {'label': 'negative', 'score': 0.9984500408172607},\n",
       " {'label': 'positive', 'score': 0.999701201915741},\n",
       " {'label': 'neutral', 'score': 0.9998706579208374},\n",
       " {'label': 'positive', 'score': 0.9988456964492798},\n",
       " {'label': 'positive', 'score': 0.8718595504760742},\n",
       " {'label': 'positive', 'score': 0.9253379106521606},\n",
       " {'label': 'positive', 'score': 0.9994685053825378},\n",
       " {'label': 'neutral', 'score': 0.9995725750923157},\n",
       " {'label': 'positive', 'score': 0.7703142166137695},\n",
       " {'label': 'negative', 'score': 0.997936487197876},\n",
       " {'label': 'positive', 'score': 0.8629226088523865},\n",
       " {'label': 'positive', 'score': 0.9692911505699158},\n",
       " {'label': 'positive', 'score': 0.952965259552002},\n",
       " {'label': 'neutral', 'score': 0.9979173541069031},\n",
       " {'label': 'positive', 'score': 0.9997066855430603},\n",
       " {'label': 'positive', 'score': 0.997780978679657},\n",
       " {'label': 'positive', 'score': 0.9874371290206909},\n",
       " {'label': 'positive', 'score': 0.9962480664253235},\n",
       " {'label': 'neutral', 'score': 0.9998010993003845},\n",
       " {'label': 'negative', 'score': 0.9953144788742065},\n",
       " {'label': 'neutral', 'score': 0.8431272506713867},\n",
       " {'label': 'positive', 'score': 0.9981855750083923},\n",
       " {'label': 'positive', 'score': 0.9972696900367737},\n",
       " {'label': 'positive', 'score': 0.9996914863586426},\n",
       " {'label': 'positive', 'score': 0.9994237422943115},\n",
       " {'label': 'positive', 'score': 0.9986028075218201},\n",
       " {'label': 'negative', 'score': 0.9983377456665039},\n",
       " {'label': 'positive', 'score': 0.9993956089019775},\n",
       " {'label': 'negative', 'score': 0.9987449645996094},\n",
       " {'label': 'positive', 'score': 0.9995986819267273},\n",
       " {'label': 'positive', 'score': 0.9996429681777954},\n",
       " {'label': 'positive', 'score': 0.9984613656997681},\n",
       " {'label': 'positive', 'score': 0.6132281422615051},\n",
       " {'label': 'positive', 'score': 0.9979335069656372},\n",
       " {'label': 'positive', 'score': 0.9995375871658325},\n",
       " {'label': 'positive', 'score': 0.999617338180542},\n",
       " {'label': 'positive', 'score': 0.7722769379615784},\n",
       " {'label': 'negative', 'score': 0.998475968837738},\n",
       " {'label': 'negative', 'score': 0.9681997895240784},\n",
       " {'label': 'positive', 'score': 0.999620795249939},\n",
       " {'label': 'positive', 'score': 0.7107875347137451},\n",
       " {'label': 'negative', 'score': 0.9966183304786682},\n",
       " {'label': 'positive', 'score': 0.9988320469856262},\n",
       " {'label': 'neutral', 'score': 0.9998581409454346},\n",
       " {'label': 'neutral', 'score': 0.9985347986221313},\n",
       " {'label': 'positive', 'score': 0.9990480542182922},\n",
       " {'label': 'positive', 'score': 0.9996260404586792},\n",
       " {'label': 'positive', 'score': 0.9996985197067261},\n",
       " {'label': 'positive', 'score': 0.9928652048110962},\n",
       " {'label': 'positive', 'score': 0.9995341300964355},\n",
       " {'label': 'positive', 'score': 0.9991412162780762},\n",
       " {'label': 'positive', 'score': 0.9997137188911438},\n",
       " {'label': 'positive', 'score': 0.9922319650650024},\n",
       " {'label': 'neutral', 'score': 0.9997851252555847},\n",
       " {'label': 'negative', 'score': 0.9977731108665466},\n",
       " {'label': 'neutral', 'score': 0.9987967014312744},\n",
       " {'label': 'negative', 'score': 0.9950469732284546},\n",
       " {'label': 'positive', 'score': 0.993320107460022},\n",
       " {'label': 'positive', 'score': 0.9996806383132935},\n",
       " {'label': 'neutral', 'score': 0.9457410573959351},\n",
       " {'label': 'positive', 'score': 0.9996416568756104},\n",
       " {'label': 'positive', 'score': 0.9995995163917542},\n",
       " {'label': 'negative', 'score': 0.9980348944664001},\n",
       " {'label': 'negative', 'score': 0.9982629418373108},\n",
       " {'label': 'negative', 'score': 0.9988610744476318},\n",
       " {'label': 'negative', 'score': 0.997370719909668},\n",
       " {'label': 'neutral', 'score': 0.6294065117835999},\n",
       " {'label': 'negative', 'score': 0.9976928234100342},\n",
       " {'label': 'positive', 'score': 0.9929957985877991},\n",
       " {'label': 'negative', 'score': 0.9553669095039368},\n",
       " {'label': 'positive', 'score': 0.9995096921920776},\n",
       " {'label': 'positive', 'score': 0.9996998310089111},\n",
       " {'label': 'negative', 'score': 0.995429515838623},\n",
       " {'label': 'negative', 'score': 0.9227682948112488},\n",
       " {'label': 'positive', 'score': 0.9954314231872559},\n",
       " {'label': 'negative', 'score': 0.9960301518440247},\n",
       " {'label': 'neutral', 'score': 0.9998581409454346},\n",
       " {'label': 'positive', 'score': 0.9990710020065308},\n",
       " {'label': 'positive', 'score': 0.9996404647827148},\n",
       " {'label': 'positive', 'score': 0.9997100234031677},\n",
       " {'label': 'neutral', 'score': 0.992408037185669},\n",
       " {'label': 'negative', 'score': 0.996817946434021},\n",
       " {'label': 'neutral', 'score': 0.9985999464988708},\n",
       " {'label': 'positive', 'score': 0.7715758085250854},\n",
       " {'label': 'neutral', 'score': 0.9989473223686218},\n",
       " {'label': 'positive', 'score': 0.9996747970581055},\n",
       " {'label': 'negative', 'score': 0.6072998046875},\n",
       " {'label': 'positive', 'score': 0.9988405108451843},\n",
       " {'label': 'neutral', 'score': 0.9998705387115479},\n",
       " {'label': 'positive', 'score': 0.9996421337127686},\n",
       " {'label': 'positive', 'score': 0.9493662714958191},\n",
       " {'label': 'positive', 'score': 0.7193575501441956},\n",
       " {'label': 'negative', 'score': 0.9986904263496399},\n",
       " {'label': 'positive', 'score': 0.9994542002677917},\n",
       " {'label': 'positive', 'score': 0.999703586101532},\n",
       " {'label': 'neutral', 'score': 0.9997732043266296},\n",
       " {'label': 'positive', 'score': 0.9997226595878601},\n",
       " {'label': 'neutral', 'score': 0.9995779395103455},\n",
       " {'label': 'negative', 'score': 0.9973266124725342},\n",
       " {'label': 'positive', 'score': 0.9851292371749878},\n",
       " {'label': 'positive', 'score': 0.8498587608337402},\n",
       " {'label': 'positive', 'score': 0.9996545314788818},\n",
       " {'label': 'positive', 'score': 0.9097034335136414},\n",
       " {'label': 'positive', 'score': 0.6845676302909851},\n",
       " {'label': 'positive', 'score': 0.9994277358055115},\n",
       " {'label': 'positive', 'score': 0.9995068311691284},\n",
       " {'label': 'negative', 'score': 0.860309898853302},\n",
       " {'label': 'negative', 'score': 0.9983240962028503},\n",
       " {'label': 'positive', 'score': 0.9996827840805054},\n",
       " {'label': 'negative', 'score': 0.997342050075531},\n",
       " {'label': 'positive', 'score': 0.9993973970413208},\n",
       " {'label': 'positive', 'score': 0.9990350008010864},\n",
       " {'label': 'positive', 'score': 0.9984386563301086},\n",
       " {'label': 'positive', 'score': 0.9983249306678772},\n",
       " {'label': 'positive', 'score': 0.9991046786308289},\n",
       " {'label': 'positive', 'score': 0.9996519088745117},\n",
       " {'label': 'positive', 'score': 0.9989448189735413},\n",
       " {'label': 'neutral', 'score': 0.9995980858802795},\n",
       " {'label': 'neutral', 'score': 0.9998764991760254},\n",
       " {'label': 'positive', 'score': 0.9996967315673828},\n",
       " {'label': 'positive', 'score': 0.9996969699859619},\n",
       " {'label': 'negative', 'score': 0.9971876740455627},\n",
       " {'label': 'negative', 'score': 0.9982534050941467},\n",
       " {'label': 'positive', 'score': 0.9996591806411743},\n",
       " {'label': 'positive', 'score': 0.999661922454834},\n",
       " {'label': 'positive', 'score': 0.9996813535690308},\n",
       " {'label': 'negative', 'score': 0.997650682926178},\n",
       " {'label': 'positive', 'score': 0.9995455145835876},\n",
       " {'label': 'positive', 'score': 0.9997029900550842},\n",
       " {'label': 'positive', 'score': 0.999659538269043},\n",
       " {'label': 'positive', 'score': 0.9941228032112122},\n",
       " {'label': 'positive', 'score': 0.999632716178894},\n",
       " {'label': 'positive', 'score': 0.9996650218963623},\n",
       " {'label': 'positive', 'score': 0.998330295085907},\n",
       " {'label': 'positive', 'score': 0.9996322393417358},\n",
       " {'label': 'positive', 'score': 0.9996458292007446},\n",
       " {'label': 'positive', 'score': 0.9982814788818359},\n",
       " {'label': 'positive', 'score': 0.999326229095459},\n",
       " {'label': 'neutral', 'score': 0.9983398914337158},\n",
       " {'label': 'positive', 'score': 0.9992867112159729},\n",
       " {'label': 'negative', 'score': 0.9928404092788696},\n",
       " {'label': 'negative', 'score': 0.9980868101119995},\n",
       " {'label': 'negative', 'score': 0.9986899495124817},\n",
       " {'label': 'negative', 'score': 0.9658814668655396},\n",
       " {'label': 'positive', 'score': 0.9995688796043396},\n",
       " {'label': 'positive', 'score': 0.9997053742408752},\n",
       " {'label': 'positive', 'score': 0.9994507431983948},\n",
       " {'label': 'positive', 'score': 0.985216498374939},\n",
       " {'label': 'neutral', 'score': 0.9929518103599548},\n",
       " {'label': 'positive', 'score': 0.9997147917747498},\n",
       " {'label': 'negative', 'score': 0.9988551139831543},\n",
       " {'label': 'positive', 'score': 0.997779905796051},\n",
       " {'label': 'negative', 'score': 0.9988183379173279},\n",
       " {'label': 'positive', 'score': 0.9996523857116699},\n",
       " {'label': 'neutral', 'score': 0.9993764758110046},\n",
       " {'label': 'positive', 'score': 0.9990135431289673},\n",
       " {'label': 'positive', 'score': 0.9995908141136169},\n",
       " {'label': 'negative', 'score': 0.9988755583763123},\n",
       " {'label': 'negative', 'score': 0.9938620328903198},\n",
       " {'label': 'positive', 'score': 0.9241812229156494},\n",
       " {'label': 'positive', 'score': 0.9995211362838745},\n",
       " {'label': 'negative', 'score': 0.9976812601089478},\n",
       " {'label': 'negative', 'score': 0.9958283305168152},\n",
       " {'label': 'negative', 'score': 0.6460149884223938},\n",
       " {'label': 'neutral', 'score': 0.9992710947990417},\n",
       " {'label': 'negative', 'score': 0.998417854309082},\n",
       " {'label': 'negative', 'score': 0.9984536170959473},\n",
       " {'label': 'neutral', 'score': 0.5847749710083008},\n",
       " {'label': 'positive', 'score': 0.9987207055091858},\n",
       " {'label': 'neutral', 'score': 0.9998680353164673},\n",
       " {'label': 'negative', 'score': 0.9983909130096436},\n",
       " {'label': 'neutral', 'score': 0.9990191459655762},\n",
       " {'label': 'positive', 'score': 0.9997019171714783},\n",
       " {'label': 'positive', 'score': 0.9578668475151062},\n",
       " {'label': 'neutral', 'score': 0.8966455459594727},\n",
       " {'label': 'neutral', 'score': 0.9979382157325745},\n",
       " {'label': 'neutral', 'score': 0.8787818551063538},\n",
       " {'label': 'neutral', 'score': 0.9998711347579956},\n",
       " {'label': 'positive', 'score': 0.9996993541717529},\n",
       " {'label': 'positive', 'score': 0.9997187256813049},\n",
       " {'label': 'positive', 'score': 0.9996999502182007},\n",
       " {'label': 'positive', 'score': 0.9996778964996338},\n",
       " {'label': 'neutral', 'score': 0.9998564720153809},\n",
       " {'label': 'negative', 'score': 0.9898602366447449},\n",
       " {'label': 'positive', 'score': 0.9995942711830139},\n",
       " {'label': 'positive', 'score': 0.9996885061264038},\n",
       " {'label': 'neutral', 'score': 0.9998805522918701},\n",
       " {'label': 'negative', 'score': 0.9970009922981262},\n",
       " {'label': 'positive', 'score': 0.9970213770866394},\n",
       " {'label': 'negative', 'score': 0.9981521964073181},\n",
       " {'label': 'negative', 'score': 0.9984449744224548},\n",
       " {'label': 'positive', 'score': 0.9996929168701172},\n",
       " {'label': 'positive', 'score': 0.9996113181114197},\n",
       " {'label': 'positive', 'score': 0.8792516589164734},\n",
       " {'label': 'neutral', 'score': 0.9972236156463623},\n",
       " {'label': 'negative', 'score': 0.9970652461051941},\n",
       " {'label': 'negative', 'score': 0.998612642288208},\n",
       " {'label': 'positive', 'score': 0.9991099238395691},\n",
       " {'label': 'negative', 'score': 0.9982092380523682},\n",
       " {'label': 'neutral', 'score': 0.9998277425765991},\n",
       " {'label': 'positive', 'score': 0.999542236328125},\n",
       " {'label': 'negative', 'score': 0.9987315535545349},\n",
       " {'label': 'positive', 'score': 0.9962384700775146},\n",
       " {'label': 'positive', 'score': 0.9993124008178711},\n",
       " {'label': 'negative', 'score': 0.9971185922622681},\n",
       " {'label': 'positive', 'score': 0.9991463422775269},\n",
       " {'label': 'negative', 'score': 0.9955704808235168},\n",
       " {'label': 'positive', 'score': 0.8178077936172485},\n",
       " {'label': 'negative', 'score': 0.9985540509223938},\n",
       " {'label': 'negative', 'score': 0.9986156225204468},\n",
       " {'label': 'negative', 'score': 0.9988839030265808},\n",
       " {'label': 'negative', 'score': 0.9988839030265808},\n",
       " {'label': 'negative', 'score': 0.9986523985862732},\n",
       " {'label': 'negative', 'score': 0.9988226294517517},\n",
       " {'label': 'negative', 'score': 0.9986752867698669},\n",
       " {'label': 'negative', 'score': 0.9986483454704285},\n",
       " {'label': 'negative', 'score': 0.998477041721344},\n",
       " {'label': 'positive', 'score': 0.999445378780365},\n",
       " {'label': 'negative', 'score': 0.5707506537437439},\n",
       " {'label': 'negative', 'score': 0.9987760186195374},\n",
       " {'label': 'positive', 'score': 0.9996516704559326},\n",
       " {'label': 'negative', 'score': 0.9604972004890442},\n",
       " {'label': 'neutral', 'score': 0.999873161315918},\n",
       " {'label': 'positive', 'score': 0.9301449656486511},\n",
       " {'label': 'negative', 'score': 0.9979979395866394},\n",
       " {'label': 'negative', 'score': 0.9976981282234192},\n",
       " {'label': 'neutral', 'score': 0.9998866319656372},\n",
       " {'label': 'neutral', 'score': 0.999805748462677},\n",
       " {'label': 'negative', 'score': 0.9975160360336304},\n",
       " {'label': 'negative', 'score': 0.9898309111595154},\n",
       " {'label': 'positive', 'score': 0.9965420365333557},\n",
       " {'label': 'positive', 'score': 0.9994456171989441},\n",
       " {'label': 'positive', 'score': 0.9987180233001709},\n",
       " {'label': 'positive', 'score': 0.9996230602264404},\n",
       " {'label': 'positive', 'score': 0.9801884889602661},\n",
       " {'label': 'negative', 'score': 0.9947208166122437},\n",
       " {'label': 'positive', 'score': 0.999573290348053},\n",
       " {'label': 'negative', 'score': 0.9726864099502563},\n",
       " {'label': 'neutral', 'score': 0.9998583793640137},\n",
       " {'label': 'neutral', 'score': 0.9978587031364441},\n",
       " {'label': 'neutral', 'score': 0.9998262524604797},\n",
       " {'label': 'negative', 'score': 0.9980181455612183},\n",
       " {'label': 'negative', 'score': 0.9984386563301086},\n",
       " {'label': 'positive', 'score': 0.9996732473373413},\n",
       " {'label': 'negative', 'score': 0.9573668241500854},\n",
       " {'label': 'positive', 'score': 0.9944944977760315},\n",
       " {'label': 'negative', 'score': 0.9947404265403748},\n",
       " {'label': 'positive', 'score': 0.9995126724243164},\n",
       " {'label': 'negative', 'score': 0.9356122612953186},\n",
       " {'label': 'negative', 'score': 0.9986838698387146},\n",
       " {'label': 'positive', 'score': 0.9996603727340698},\n",
       " {'label': 'positive', 'score': 0.999496340751648},\n",
       " {'label': 'negative', 'score': 0.998397171497345},\n",
       " {'label': 'negative', 'score': 0.9988422989845276},\n",
       " {'label': 'positive', 'score': 0.9990251064300537},\n",
       " {'label': 'neutral', 'score': 0.9992166757583618},\n",
       " {'label': 'positive', 'score': 0.9996944665908813},\n",
       " {'label': 'neutral', 'score': 0.9992573857307434},\n",
       " {'label': 'positive', 'score': 0.9979859590530396},\n",
       " {'label': 'neutral', 'score': 0.9998558759689331},\n",
       " {'label': 'neutral', 'score': 0.9997425675392151},\n",
       " {'label': 'positive', 'score': 0.9931707382202148},\n",
       " {'label': 'negative', 'score': 0.9973813891410828},\n",
       " {'label': 'negative', 'score': 0.9983581900596619},\n",
       " {'label': 'negative', 'score': 0.9977378845214844},\n",
       " {'label': 'neutral', 'score': 0.9998438358306885},\n",
       " {'label': 'negative', 'score': 0.9886638522148132},\n",
       " {'label': 'negative', 'score': 0.9963706731796265},\n",
       " {'label': 'negative', 'score': 0.9968515038490295},\n",
       " {'label': 'positive', 'score': 0.9994385838508606},\n",
       " {'label': 'neutral', 'score': 0.9997912049293518},\n",
       " {'label': 'neutral', 'score': 0.9997186064720154},\n",
       " {'label': 'neutral', 'score': 0.999880313873291},\n",
       " {'label': 'negative', 'score': 0.9974833130836487},\n",
       " {'label': 'neutral', 'score': 0.9925164580345154},\n",
       " {'label': 'negative', 'score': 0.9987844824790955},\n",
       " {'label': 'neutral', 'score': 0.9994950294494629},\n",
       " {'label': 'neutral', 'score': 0.9998577833175659},\n",
       " {'label': 'negative', 'score': 0.9970095157623291},\n",
       " {'label': 'negative', 'score': 0.9565964937210083},\n",
       " {'label': 'negative', 'score': 0.9967279434204102},\n",
       " {'label': 'neutral', 'score': 0.957322359085083},\n",
       " {'label': 'positive', 'score': 0.9992376565933228},\n",
       " {'label': 'negative', 'score': 0.9987741112709045},\n",
       " {'label': 'neutral', 'score': 0.9941549897193909},\n",
       " {'label': 'positive', 'score': 0.9995762705802917}]"
      ]
     },
     "execution_count": 6,
     "metadata": {},
     "output_type": "execute_result"
    }
   ],
   "source": [
    "def preprocess_text(text):\n",
    "    text = text.lower()  # Convert to lowercase\n",
    "    text = text.strip()  # Remove leading/trailing whitespace\n",
    "    return text\n",
    "\n",
    "sample_df_text = df[\"text\"].apply(preprocess_text)\n",
    "\n",
    "\n",
    "text_list = sample_df_text.tolist()\n",
    "\n",
    "# Pass the list to the sentiment analyzer\n",
    "results = sentiment_analyzer(text_list)\n",
    "results"
   ]
  },
  {
   "cell_type": "markdown",
   "metadata": {
    "cell_id": "75ede9a209114d4c803fcde2dd10313f",
    "deepnote_cell_type": "text-cell-h2",
    "formattedRanges": []
   },
   "source": [
    "## iv. Results"
   ]
  },
  {
   "cell_type": "code",
   "execution_count": null,
   "metadata": {
    "cell_id": "f092556bc8f847e5a8a4512dfe1bb3b1",
    "deepnote_cell_type": "code",
    "deepnote_table_loading": false,
    "deepnote_table_state": {
     "cellFormattingRules": [],
     "conditionalFilters": [],
     "filters": [],
     "pageIndex": 0,
     "pageSize": 10,
     "sortBy": [],
     "wrappedTextColumnIds": []
    },
    "execution_context_id": "e9548f45-3829-4af3-95f9-0434d3347dda",
    "execution_millis": 0,
    "execution_start": 1732532031341,
    "source_hash": "62f9ff94"
   },
   "outputs": [
    {
     "data": {
      "application/vnd.deepnote.dataframe.v3+json": {
       "column_count": 3,
       "columns": [
        {
         "dtype": "object",
         "name": "True Label",
         "stats": {
          "categories": [
           {
            "count": 244,
            "name": "positive"
           },
           {
            "count": 41,
            "name": "negative"
           },
           {
            "count": 5,
            "name": "neutral"
           }
          ],
          "nan_count": 0,
          "unique_count": 3
         }
        },
        {
         "dtype": "object",
         "name": "Predicted Label",
         "stats": {
          "categories": [
           {
            "count": 145,
            "name": "positive"
           },
           {
            "count": 91,
            "name": "negative"
           },
           {
            "count": 54,
            "name": "neutral"
           }
          ],
          "nan_count": 0,
          "unique_count": 3
         }
        },
        {
         "dtype": "float64",
         "name": "Confidence Score",
         "stats": {
          "histogram": [
           {
            "bin_end": 0.6136642515659332,
            "bin_start": 0.5707506537437439,
            "count": 4
           },
           {
            "bin_end": 0.6565778493881226,
            "bin_start": 0.6136642515659332,
            "count": 2
           },
           {
            "bin_end": 0.6994914472103119,
            "bin_start": 0.6565778493881226,
            "count": 1
           },
           {
            "bin_end": 0.7424050450325013,
            "bin_start": 0.6994914472103119,
            "count": 2
           },
           {
            "bin_end": 0.7853186428546906,
            "bin_start": 0.7424050450325013,
            "count": 3
           },
           {
            "bin_end": 0.8282322406768798,
            "bin_start": 0.7853186428546906,
            "count": 1
           },
           {
            "bin_end": 0.8711458384990691,
            "bin_start": 0.8282322406768798,
            "count": 4
           },
           {
            "bin_end": 0.9140594363212585,
            "bin_start": 0.8711458384990691,
            "count": 5
           },
           {
            "bin_end": 0.9569730341434479,
            "bin_start": 0.9140594363212585,
            "count": 10
           },
           {
            "bin_end": 0.9998866319656372,
            "bin_start": 0.9569730341434479,
            "count": 258
           }
          ],
          "max": "0.9998866319656372",
          "min": "0.5707506537437439",
          "nan_count": 0,
          "unique_count": 286
         }
        },
        {
         "dtype": "int64",
         "name": "_deepnote_index_column"
        }
       ],
       "row_count": 290,
       "rows": [
        {
         "Confidence Score": 0.9962813258171082,
         "Predicted Label": "positive",
         "True Label": "positive",
         "_deepnote_index_column": 26
        },
        {
         "Confidence Score": 0.9995166063308716,
         "Predicted Label": "positive",
         "True Label": "positive",
         "_deepnote_index_column": 178
        },
        {
         "Confidence Score": 0.9993415474891663,
         "Predicted Label": "positive",
         "True Label": "positive",
         "_deepnote_index_column": 499
        },
        {
         "Confidence Score": 0.9996519088745117,
         "Predicted Label": "positive",
         "True Label": "positive",
         "_deepnote_index_column": 1398
        },
        {
         "Confidence Score": 0.9984500408172607,
         "Predicted Label": "negative",
         "True Label": "positive",
         "_deepnote_index_column": 1472
        },
        {
         "Confidence Score": 0.999701201915741,
         "Predicted Label": "positive",
         "True Label": "positive",
         "_deepnote_index_column": 2086
        },
        {
         "Confidence Score": 0.9998706579208374,
         "Predicted Label": "neutral",
         "True Label": "positive",
         "_deepnote_index_column": 2247
        },
        {
         "Confidence Score": 0.9988456964492798,
         "Predicted Label": "positive",
         "True Label": "positive",
         "_deepnote_index_column": 2488
        },
        {
         "Confidence Score": 0.8718595504760742,
         "Predicted Label": "positive",
         "True Label": "positive",
         "_deepnote_index_column": 2598
        },
        {
         "Confidence Score": 0.9253379106521606,
         "Predicted Label": "positive",
         "True Label": "positive",
         "_deepnote_index_column": 4106
        }
       ]
      },
      "text/html": [
       "<div>\n",
       "<style scoped>\n",
       "    .dataframe tbody tr th:only-of-type {\n",
       "        vertical-align: middle;\n",
       "    }\n",
       "\n",
       "    .dataframe tbody tr th {\n",
       "        vertical-align: top;\n",
       "    }\n",
       "\n",
       "    .dataframe thead th {\n",
       "        text-align: right;\n",
       "    }\n",
       "</style>\n",
       "<table border=\"1\" class=\"dataframe\">\n",
       "  <thead>\n",
       "    <tr style=\"text-align: right;\">\n",
       "      <th></th>\n",
       "      <th>True Label</th>\n",
       "      <th>Predicted Label</th>\n",
       "      <th>Confidence Score</th>\n",
       "    </tr>\n",
       "  </thead>\n",
       "  <tbody>\n",
       "    <tr>\n",
       "      <th>26</th>\n",
       "      <td>positive</td>\n",
       "      <td>positive</td>\n",
       "      <td>0.996281</td>\n",
       "    </tr>\n",
       "    <tr>\n",
       "      <th>178</th>\n",
       "      <td>positive</td>\n",
       "      <td>positive</td>\n",
       "      <td>0.999517</td>\n",
       "    </tr>\n",
       "    <tr>\n",
       "      <th>499</th>\n",
       "      <td>positive</td>\n",
       "      <td>positive</td>\n",
       "      <td>0.999342</td>\n",
       "    </tr>\n",
       "    <tr>\n",
       "      <th>1398</th>\n",
       "      <td>positive</td>\n",
       "      <td>positive</td>\n",
       "      <td>0.999652</td>\n",
       "    </tr>\n",
       "    <tr>\n",
       "      <th>1472</th>\n",
       "      <td>positive</td>\n",
       "      <td>negative</td>\n",
       "      <td>0.998450</td>\n",
       "    </tr>\n",
       "    <tr>\n",
       "      <th>...</th>\n",
       "      <td>...</td>\n",
       "      <td>...</td>\n",
       "      <td>...</td>\n",
       "    </tr>\n",
       "    <tr>\n",
       "      <th>133053</th>\n",
       "      <td>positive</td>\n",
       "      <td>neutral</td>\n",
       "      <td>0.957322</td>\n",
       "    </tr>\n",
       "    <tr>\n",
       "      <th>133056</th>\n",
       "      <td>positive</td>\n",
       "      <td>positive</td>\n",
       "      <td>0.999238</td>\n",
       "    </tr>\n",
       "    <tr>\n",
       "      <th>136361</th>\n",
       "      <td>negative</td>\n",
       "      <td>negative</td>\n",
       "      <td>0.998774</td>\n",
       "    </tr>\n",
       "    <tr>\n",
       "      <th>136422</th>\n",
       "      <td>positive</td>\n",
       "      <td>neutral</td>\n",
       "      <td>0.994155</td>\n",
       "    </tr>\n",
       "    <tr>\n",
       "      <th>137955</th>\n",
       "      <td>positive</td>\n",
       "      <td>positive</td>\n",
       "      <td>0.999576</td>\n",
       "    </tr>\n",
       "  </tbody>\n",
       "</table>\n",
       "<p>290 rows × 3 columns</p>\n",
       "</div>"
      ],
      "text/plain": [
       "       True Label Predicted Label  Confidence Score\n",
       "26       positive        positive          0.996281\n",
       "178      positive        positive          0.999517\n",
       "499      positive        positive          0.999342\n",
       "1398     positive        positive          0.999652\n",
       "1472     positive        negative          0.998450\n",
       "...           ...             ...               ...\n",
       "133053   positive         neutral          0.957322\n",
       "133056   positive        positive          0.999238\n",
       "136361   negative        negative          0.998774\n",
       "136422   positive         neutral          0.994155\n",
       "137955   positive        positive          0.999576\n",
       "\n",
       "[290 rows x 3 columns]"
      ]
     },
     "execution_count": 7,
     "metadata": {},
     "output_type": "execute_result"
    }
   ],
   "source": [
    "true_labels = df['sentiment']\n",
    "\n",
    "true_labels = true_labels.str.lower()\n",
    "\n",
    "predicted_labels = [result['label'] for result in results]\n",
    "\n",
    "# Create a DataFrame to compare true and predicted labels\n",
    "comparison_df = pd.DataFrame({\n",
    "    'True Label': true_labels,\n",
    "    'Predicted Label': predicted_labels,\n",
    "    'Confidence Score': [result['score'] for result in results]\n",
    "})\n",
    "comparison_df"
   ]
  },
  {
   "cell_type": "code",
   "execution_count": null,
   "metadata": {
    "cell_id": "35e4b2e41904438988ea59fde4814b75",
    "deepnote_cell_type": "code",
    "deepnote_table_loading": false,
    "deepnote_table_state": {
     "cellFormattingRules": [],
     "conditionalFilters": [],
     "filters": [],
     "pageIndex": 28,
     "pageSize": 10,
     "sortBy": [],
     "wrappedTextColumnIds": []
    },
    "execution_context_id": "e9548f45-3829-4af3-95f9-0434d3347dda",
    "execution_millis": 1,
    "execution_start": 1732532031401,
    "source_hash": "c635fdab"
   },
   "outputs": [
    {
     "data": {
      "application/vnd.deepnote.dataframe.v3+json": {
       "column_count": 4,
       "columns": [
        {
         "dtype": "object",
         "name": "True Label",
         "stats": {
          "categories": [
           {
            "count": 244,
            "name": "positive"
           },
           {
            "count": 41,
            "name": "negative"
           },
           {
            "count": 5,
            "name": "neutral"
           }
          ],
          "nan_count": 0,
          "unique_count": 3
         }
        },
        {
         "dtype": "object",
         "name": "Predicted Label",
         "stats": {
          "categories": [
           {
            "count": 145,
            "name": "positive"
           },
           {
            "count": 91,
            "name": "negative"
           },
           {
            "count": 54,
            "name": "neutral"
           }
          ],
          "nan_count": 0,
          "unique_count": 3
         }
        },
        {
         "dtype": "float64",
         "name": "Confidence Score",
         "stats": {
          "histogram": [
           {
            "bin_end": 0.6136642515659332,
            "bin_start": 0.5707506537437439,
            "count": 4
           },
           {
            "bin_end": 0.6565778493881226,
            "bin_start": 0.6136642515659332,
            "count": 2
           },
           {
            "bin_end": 0.6994914472103119,
            "bin_start": 0.6565778493881226,
            "count": 1
           },
           {
            "bin_end": 0.7424050450325013,
            "bin_start": 0.6994914472103119,
            "count": 2
           },
           {
            "bin_end": 0.7853186428546906,
            "bin_start": 0.7424050450325013,
            "count": 3
           },
           {
            "bin_end": 0.8282322406768798,
            "bin_start": 0.7853186428546906,
            "count": 1
           },
           {
            "bin_end": 0.8711458384990691,
            "bin_start": 0.8282322406768798,
            "count": 4
           },
           {
            "bin_end": 0.9140594363212585,
            "bin_start": 0.8711458384990691,
            "count": 5
           },
           {
            "bin_end": 0.9569730341434479,
            "bin_start": 0.9140594363212585,
            "count": 10
           },
           {
            "bin_end": 0.9998866319656372,
            "bin_start": 0.9569730341434479,
            "count": 258
           }
          ],
          "max": "0.9998866319656372",
          "min": "0.5707506537437439",
          "nan_count": 0,
          "unique_count": 286
         }
        },
        {
         "dtype": "object",
         "name": "publishedDate",
         "stats": {
          "categories": [
           {
            "count": 1,
            "name": "2023-10-04T20:20:37.000Z"
           },
           {
            "count": 1,
            "name": "2023-10-04T13:57:43.000Z"
           },
           {
            "count": 288,
            "name": "288 others"
           }
          ],
          "nan_count": 0,
          "unique_count": 290
         }
        },
        {
         "dtype": "int64",
         "name": "_deepnote_index_column"
        }
       ],
       "row_count": 290,
       "rows": [
        {
         "Confidence Score": 0.9994950294494629,
         "Predicted Label": "neutral",
         "True Label": "positive",
         "_deepnote_index_column": 128753,
         "publishedDate": "2022-09-15T21:30:16.000Z"
        },
        {
         "Confidence Score": 0.9998577833175659,
         "Predicted Label": "neutral",
         "True Label": "positive",
         "_deepnote_index_column": 130475,
         "publishedDate": "2022-09-12T17:37:01.000Z"
        },
        {
         "Confidence Score": 0.9970095157623291,
         "Predicted Label": "negative",
         "True Label": "negative",
         "_deepnote_index_column": 131395,
         "publishedDate": "2022-09-09T10:45:42.000Z"
        },
        {
         "Confidence Score": 0.9565964937210083,
         "Predicted Label": "negative",
         "True Label": "positive",
         "_deepnote_index_column": 132137,
         "publishedDate": "2022-09-07T18:37:00.000Z"
        },
        {
         "Confidence Score": 0.9967279434204102,
         "Predicted Label": "negative",
         "True Label": "negative",
         "_deepnote_index_column": 132218,
         "publishedDate": "2022-09-07T15:52:00.000Z"
        },
        {
         "Confidence Score": 0.957322359085083,
         "Predicted Label": "neutral",
         "True Label": "positive",
         "_deepnote_index_column": 133053,
         "publishedDate": "2022-09-06T10:40:32.000Z"
        },
        {
         "Confidence Score": 0.9992376565933228,
         "Predicted Label": "positive",
         "True Label": "positive",
         "_deepnote_index_column": 133056,
         "publishedDate": "2022-09-06T10:33:56.000Z"
        },
        {
         "Confidence Score": 0.9987741112709045,
         "Predicted Label": "negative",
         "True Label": "negative",
         "_deepnote_index_column": 136361,
         "publishedDate": "2022-08-26T16:28:00.000Z"
        },
        {
         "Confidence Score": 0.9941549897193909,
         "Predicted Label": "neutral",
         "True Label": "positive",
         "_deepnote_index_column": 136422,
         "publishedDate": "2022-08-26T14:25:54.000Z"
        },
        {
         "Confidence Score": 0.9995762705802917,
         "Predicted Label": "positive",
         "True Label": "positive",
         "_deepnote_index_column": 137955,
         "publishedDate": "2022-08-23T14:17:59.000Z"
        }
       ]
      },
      "text/html": [
       "<div>\n",
       "<style scoped>\n",
       "    .dataframe tbody tr th:only-of-type {\n",
       "        vertical-align: middle;\n",
       "    }\n",
       "\n",
       "    .dataframe tbody tr th {\n",
       "        vertical-align: top;\n",
       "    }\n",
       "\n",
       "    .dataframe thead th {\n",
       "        text-align: right;\n",
       "    }\n",
       "</style>\n",
       "<table border=\"1\" class=\"dataframe\">\n",
       "  <thead>\n",
       "    <tr style=\"text-align: right;\">\n",
       "      <th></th>\n",
       "      <th>True Label</th>\n",
       "      <th>Predicted Label</th>\n",
       "      <th>Confidence Score</th>\n",
       "      <th>publishedDate</th>\n",
       "    </tr>\n",
       "  </thead>\n",
       "  <tbody>\n",
       "    <tr>\n",
       "      <th>26</th>\n",
       "      <td>positive</td>\n",
       "      <td>positive</td>\n",
       "      <td>0.996281</td>\n",
       "      <td>2023-10-04T20:20:37.000Z</td>\n",
       "    </tr>\n",
       "    <tr>\n",
       "      <th>178</th>\n",
       "      <td>positive</td>\n",
       "      <td>positive</td>\n",
       "      <td>0.999517</td>\n",
       "      <td>2023-10-04T13:57:43.000Z</td>\n",
       "    </tr>\n",
       "    <tr>\n",
       "      <th>499</th>\n",
       "      <td>positive</td>\n",
       "      <td>positive</td>\n",
       "      <td>0.999342</td>\n",
       "      <td>2023-10-03T20:33:45.000Z</td>\n",
       "    </tr>\n",
       "    <tr>\n",
       "      <th>1398</th>\n",
       "      <td>positive</td>\n",
       "      <td>positive</td>\n",
       "      <td>0.999652</td>\n",
       "      <td>2023-10-02T06:45:19.000Z</td>\n",
       "    </tr>\n",
       "    <tr>\n",
       "      <th>1472</th>\n",
       "      <td>positive</td>\n",
       "      <td>negative</td>\n",
       "      <td>0.998450</td>\n",
       "      <td>2023-10-01T14:42:39.000Z</td>\n",
       "    </tr>\n",
       "    <tr>\n",
       "      <th>...</th>\n",
       "      <td>...</td>\n",
       "      <td>...</td>\n",
       "      <td>...</td>\n",
       "      <td>...</td>\n",
       "    </tr>\n",
       "    <tr>\n",
       "      <th>133053</th>\n",
       "      <td>positive</td>\n",
       "      <td>neutral</td>\n",
       "      <td>0.957322</td>\n",
       "      <td>2022-09-06T10:40:32.000Z</td>\n",
       "    </tr>\n",
       "    <tr>\n",
       "      <th>133056</th>\n",
       "      <td>positive</td>\n",
       "      <td>positive</td>\n",
       "      <td>0.999238</td>\n",
       "      <td>2022-09-06T10:33:56.000Z</td>\n",
       "    </tr>\n",
       "    <tr>\n",
       "      <th>136361</th>\n",
       "      <td>negative</td>\n",
       "      <td>negative</td>\n",
       "      <td>0.998774</td>\n",
       "      <td>2022-08-26T16:28:00.000Z</td>\n",
       "    </tr>\n",
       "    <tr>\n",
       "      <th>136422</th>\n",
       "      <td>positive</td>\n",
       "      <td>neutral</td>\n",
       "      <td>0.994155</td>\n",
       "      <td>2022-08-26T14:25:54.000Z</td>\n",
       "    </tr>\n",
       "    <tr>\n",
       "      <th>137955</th>\n",
       "      <td>positive</td>\n",
       "      <td>positive</td>\n",
       "      <td>0.999576</td>\n",
       "      <td>2022-08-23T14:17:59.000Z</td>\n",
       "    </tr>\n",
       "  </tbody>\n",
       "</table>\n",
       "<p>290 rows × 4 columns</p>\n",
       "</div>"
      ],
      "text/plain": [
       "       True Label Predicted Label  Confidence Score             publishedDate\n",
       "26       positive        positive          0.996281  2023-10-04T20:20:37.000Z\n",
       "178      positive        positive          0.999517  2023-10-04T13:57:43.000Z\n",
       "499      positive        positive          0.999342  2023-10-03T20:33:45.000Z\n",
       "1398     positive        positive          0.999652  2023-10-02T06:45:19.000Z\n",
       "1472     positive        negative          0.998450  2023-10-01T14:42:39.000Z\n",
       "...           ...             ...               ...                       ...\n",
       "133053   positive         neutral          0.957322  2022-09-06T10:40:32.000Z\n",
       "133056   positive        positive          0.999238  2022-09-06T10:33:56.000Z\n",
       "136361   negative        negative          0.998774  2022-08-26T16:28:00.000Z\n",
       "136422   positive         neutral          0.994155  2022-08-26T14:25:54.000Z\n",
       "137955   positive        positive          0.999576  2022-08-23T14:17:59.000Z\n",
       "\n",
       "[290 rows x 4 columns]"
      ]
     },
     "execution_count": 8,
     "metadata": {},
     "output_type": "execute_result"
    }
   ],
   "source": [
    "#add the date for the comparison according to the index\n",
    "comparison_df['publishedDate'] = df['publishedDate']\n",
    "comparison_df"
   ]
  },
  {
   "cell_type": "markdown",
   "metadata": {
    "cell_id": "bfcd98ca2df24a0996e9130d9fc92f78",
    "deepnote_cell_type": "text-cell-h2",
    "formattedRanges": []
   },
   "source": [
    "## v. Accuracy"
   ]
  },
  {
   "cell_type": "code",
   "execution_count": 9,
   "metadata": {
    "cell_id": "98111a03910041f0b35827a5a53394b6",
    "deepnote_cell_type": "code",
    "execution_context_id": "e9548f45-3829-4af3-95f9-0434d3347dda",
    "execution_millis": 1,
    "execution_start": 1732532031452,
    "source_hash": "c4362d88"
   },
   "outputs": [
    {
     "data": {
      "text/plain": [
       "'Accuracy: 57.93%'"
      ]
     },
     "execution_count": 9,
     "metadata": {},
     "output_type": "execute_result"
    }
   ],
   "source": [
    "from sklearn.metrics import accuracy_score, confusion_matrix\n",
    "# Calculate accuracy\n",
    "accuracy = accuracy_score(true_labels, predicted_labels)\n",
    "f\"Accuracy: {accuracy * 100:.2f}%\""
   ]
  },
  {
   "cell_type": "markdown",
   "metadata": {
    "cell_id": "411996b12aeb4f7e96963673fd19136a",
    "deepnote_cell_type": "text-cell-h2",
    "formattedRanges": []
   },
   "source": [
    "## vi. Confusion Matrix"
   ]
  },
  {
   "cell_type": "code",
   "execution_count": null,
   "metadata": {
    "cell_id": "6d4747661d36488992d6fb4273ed3ecd",
    "deepnote_cell_type": "code",
    "execution_context_id": "e9548f45-3829-4af3-95f9-0434d3347dda",
    "execution_millis": 0,
    "execution_start": 1732532031505,
    "source_hash": "28567bb4"
   },
   "outputs": [
    {
     "name": "stdout",
     "output_type": "stream",
     "text": [
      "[[137  57  50]\n",
      " [  6  31   4]\n",
      " [  2   3   0]]\n"
     ]
    }
   ],
   "source": [
    "from sklearn.metrics import confusion_matrix\n",
    "conf_matrix = confusion_matrix(true_labels, predicted_labels, labels=['positive', 'negative', 'neutral'])\n",
    "\n",
    "print(conf_matrix)\n"
   ]
  },
  {
   "cell_type": "code",
   "execution_count": 11,
   "metadata": {
    "cell_id": "d7e0d4621f3943899f598a3192c9ba4c",
    "deepnote_cell_type": "code",
    "execution_context_id": "d0fe3484-a288-42ec-b206-981a92786ed4",
    "execution_millis": 646,
    "execution_start": 1732532031557,
    "source_hash": "681b3f0a"
   },
   "outputs": [
    {
     "data": {
      "image/png": "[encoded data removed]",
      "text/plain": [
       "<Figure size 600x400 with 2 Axes>"
      ]
     },
     "metadata": {
      "image/png": {
       "height": 393,
       "width": 510
      }
     },
     "output_type": "display_data"
    }
   ],
   "source": [
    "import seaborn as sns\n",
    "import matplotlib.pyplot as plt\n",
    "\n",
    "# Plot the confusion matrix using seaborn heatmap\n",
    "plt.figure(figsize=(6, 4))\n",
    "sns.heatmap(conf_matrix, annot=True, fmt=\"d\", cmap=\"Blues\", xticklabels=['positive', 'negative', 'neutral'], yticklabels=['positive', 'negative', 'neutral'])\n",
    "plt.xlabel('Predicted Label')\n",
    "plt.ylabel('True Label')\n",
    "plt.title('Confusion Matrix')\n",
    "plt.show()\n"
   ]
  },
  {
   "cell_type": "markdown",
   "metadata": {
    "cell_id": "5eb548a424e84cba8f1c668fc0767339",
    "deepnote_cell_type": "text-cell-p",
    "formattedRanges": []
   },
   "source": [
    "This confusion matrix indicates that the machine learning model performs well at predicting positive sentiments (137 correct predictions) but struggles with neutral sentiment (only 0 correct predictions). There is also moderate performance in predicting negative sentiments (31 correct predictions), but a significant amount of misclassification exists, especially with positive and negative labels overlapping. The model needs improvement in distinguishing neutral sentiments and reducing false positives for better financial news sentiment analysis."
   ]
  },
  {
   "cell_type": "code",
   "execution_count": 12,
   "metadata": {
    "cell_id": "28914aa8479344b7b16b1c08c86e99c3",
    "deepnote_cell_type": "code",
    "execution_context_id": "d0fe3484-a288-42ec-b206-981a92786ed4",
    "execution_millis": 375,
    "execution_start": 1732532032253,
    "source_hash": "45321862"
   },
   "outputs": [
    {
     "data": {
      "image/png": "[encoded data removed]",
      "text/plain": [
       "<Figure size 640x480 with 2 Axes>"
      ]
     },
     "metadata": {
      "image/png": {
       "height": 455,
       "width": 539
      }
     },
     "output_type": "display_data"
    }
   ],
   "source": [
    "# Confusion Matrix without neutral label\n",
    "filtered_conf_matrix = conf_matrix[:2, :2]  # Keep only the first two rows and columns\n",
    "\n",
    "sns.heatmap(filtered_conf_matrix, annot=True, fmt=\"d\", cmap=\"Blues\", xticklabels=['positive', 'negative'], yticklabels=['positive', 'negative'])\n",
    "plt.title(\"Confusion Matrix (Excluding Neutral)\")\n",
    "plt.xlabel(\"Predicted Label\")\n",
    "plt.ylabel(\"True Label\")\n",
    "plt.show()"
   ]
  },
  {
   "cell_type": "markdown",
   "metadata": {
    "cell_id": "d21e914787024f4c83656b5c604fadbf",
    "deepnote_cell_type": "text-cell-p",
    "formattedRanges": []
   },
   "source": [
    "Confusion Matrix Overview (Excluding Neutral):\n",
    "True Positives (TP): 137 (Positive samples correctly classified as positive)\n",
    "False Positives (FP): 57 (Negative samples incorrectly classified as positive)\n",
    "False Negatives (FN): 6 (Positive samples incorrectly classified as negative)\n",
    "True Negatives (TN): 31 (Negative samples correctly classified as negative)"
   ]
  },
  {
   "cell_type": "markdown",
   "metadata": {
    "cell_id": "809ea6fcb6e54fd5b7dcc183d057a045",
    "deepnote_cell_type": "text-cell-p",
    "formattedRanges": []
   },
   "source": [
    "The model has a bias toward predicting positive sentiments, as evidenced by the high number of false positives for negative samples. This could indicate a class imbalance or insufficient feature differentiation between positive and negative sentiments."
   ]
  },
  {
   "cell_type": "markdown",
   "metadata": {
    "cell_id": "4d8559511b8549228244757f74f9b7cf",
    "deepnote_cell_type": "text-cell-h2",
    "formattedRanges": []
   },
   "source": [
    "## Comparing News with The Stock Data"
   ]
  },
  {
   "cell_type": "markdown",
   "metadata": {
    "cell_id": "1768cead900d41edba3bd7c54a46fb55",
    "deepnote_cell_type": "text-cell-h3",
    "formattedRanges": []
   },
   "source": [
    "### i. Preprocess the stock data and the sentiment analysis result"
   ]
  },
  {
   "cell_type": "code",
   "execution_count": 13,
   "metadata": {
    "cell_id": "057c1dbd8b344bf9927184ddebada904",
    "deepnote_cell_type": "code",
    "execution_context_id": "d0fe3484-a288-42ec-b206-981a92786ed4",
    "execution_millis": 3226,
    "execution_start": 1732532032678,
    "source_hash": "8b33e10a"
   },
   "outputs": [
    {
     "name": "stdout",
     "output_type": "stream",
     "text": [
      "Requirement already satisfied: yfinance in /root/venv/lib/python3.9/site-packages (0.2.50)\n",
      "Requirement already satisfied: peewee>=3.16.2 in /root/venv/lib/python3.9/site-packages (from yfinance) (3.17.8)\n",
      "Requirement already satisfied: multitasking>=0.0.7 in /root/venv/lib/python3.9/site-packages (from yfinance) (0.0.11)\n",
      "Requirement already satisfied: lxml>=4.9.1 in /shared-libs/python3.9/py/lib/python3.9/site-packages (from yfinance) (4.9.1)\n",
      "Requirement already satisfied: beautifulsoup4>=4.11.1 in /shared-libs/python3.9/py-core/lib/python3.9/site-packages (from yfinance) (4.11.1)\n",
      "Requirement already satisfied: platformdirs>=2.0.0 in /root/venv/lib/python3.9/site-packages (from yfinance) (4.3.6)\n",
      "Requirement already satisfied: numpy>=1.16.5 in /shared-libs/python3.9/py/lib/python3.9/site-packages (from yfinance) (1.23.4)\n",
      "Requirement already satisfied: html5lib>=1.1 in /root/venv/lib/python3.9/site-packages (from yfinance) (1.1)\n",
      "Requirement already satisfied: pytz>=2022.5 in /shared-libs/python3.9/py/lib/python3.9/site-packages (from yfinance) (2022.5)\n",
      "Requirement already satisfied: requests>=2.31 in /root/venv/lib/python3.9/site-packages (from yfinance) (2.32.3)\n",
      "Requirement already satisfied: pandas>=1.3.0 in /shared-libs/python3.9/py/lib/python3.9/site-packages (from yfinance) (2.1.4)\n",
      "Requirement already satisfied: frozendict>=2.3.4 in /root/venv/lib/python3.9/site-packages (from yfinance) (2.4.6)\n",
      "Requirement already satisfied: soupsieve>1.2 in /shared-libs/python3.9/py-core/lib/python3.9/site-packages (from beautifulsoup4>=4.11.1->yfinance) (2.3.2.post1)\n",
      "Requirement already satisfied: six>=1.9 in /shared-libs/python3.9/py-core/lib/python3.9/site-packages (from html5lib>=1.1->yfinance) (1.16.0)\n",
      "Requirement already satisfied: webencodings in /shared-libs/python3.9/py-core/lib/python3.9/site-packages (from html5lib>=1.1->yfinance) (0.5.1)\n",
      "Requirement already satisfied: tzdata>=2022.1 in /shared-libs/python3.9/py/lib/python3.9/site-packages (from pandas>=1.3.0->yfinance) (2022.5)\n",
      "Requirement already satisfied: python-dateutil>=2.8.2 in /shared-libs/python3.9/py-core/lib/python3.9/site-packages (from pandas>=1.3.0->yfinance) (2.8.2)\n",
      "Requirement already satisfied: idna<4,>=2.5 in /shared-libs/python3.9/py-core/lib/python3.9/site-packages (from requests>=2.31->yfinance) (3.4)\n",
      "Requirement already satisfied: charset-normalizer<4,>=2 in /shared-libs/python3.9/py-core/lib/python3.9/site-packages (from requests>=2.31->yfinance) (2.1.1)\n",
      "Requirement already satisfied: certifi>=2017.4.17 in /shared-libs/python3.9/py/lib/python3.9/site-packages (from requests>=2.31->yfinance) (2022.9.24)\n",
      "Requirement already satisfied: urllib3<3,>=1.21.1 in /shared-libs/python3.9/py/lib/python3.9/site-packages (from requests>=2.31->yfinance) (1.26.12)\n",
      "\n",
      "\u001b[1m[\u001b[0m\u001b[34;49mnotice\u001b[0m\u001b[1;39;49m]\u001b[0m\u001b[39;49m A new release of pip is available: \u001b[0m\u001b[31;49m23.0.1\u001b[0m\u001b[39;49m -> \u001b[0m\u001b[32;49m24.3.1\u001b[0m\n",
      "\u001b[1m[\u001b[0m\u001b[34;49mnotice\u001b[0m\u001b[1;39;49m]\u001b[0m\u001b[39;49m To update, run: \u001b[0m\u001b[32;49mpip install --upgrade pip\u001b[0m\n",
      "[*********************100%***********************]  1 of 1 completed\n"
     ]
    },
    {
     "data": {
      "application/vnd.deepnote.dataframe.v3+json": {
       "column_count": 7,
       "columns": [
        {
         "dtype": "datetime64[ns]",
         "name": "Date ",
         "stats": {
          "histogram": [
           {
            "bin_end": 1664314560000000000,
            "bin_start": 1660694400000000000,
            "count": 29
           },
           {
            "bin_end": 1667934720000000000,
            "bin_start": 1664314560000000000,
            "count": 30
           },
           {
            "bin_end": 1671554880000000000,
            "bin_start": 1667934720000000000,
            "count": 29
           },
           {
            "bin_end": 1675175040000000000,
            "bin_start": 1671554880000000000,
            "count": 27
           },
           {
            "bin_end": 1678795200000000000,
            "bin_start": 1675175040000000000,
            "count": 29
           },
           {
            "bin_end": 1682415360000000000,
            "bin_start": 1678795200000000000,
            "count": 29
           },
           {
            "bin_end": 1686035520000000000,
            "bin_start": 1682415360000000000,
            "count": 29
           },
           {
            "bin_end": 1689655680000000000,
            "bin_start": 1686035520000000000,
            "count": 28
           },
           {
            "bin_end": 1693275840000000000,
            "bin_start": 1689655680000000000,
            "count": 30
           },
           {
            "bin_end": 1696896000000000000,
            "bin_start": 1693275840000000000,
            "count": 29
           }
          ],
          "max": "2023-10-10 00:00:00",
          "min": "2022-08-17 00:00:00",
          "nan_count": 0,
          "unique_count": 289
         }
        },
        {
         "dtype": "float64",
         "name": "Adj Close INTC",
         "stats": {
          "histogram": [
           {
            "bin_end": 25.263451957702635,
            "bin_start": 23.82375144958496,
            "count": 24
           },
           {
            "bin_end": 26.703152465820313,
            "bin_start": 25.263451957702635,
            "count": 33
           },
           {
            "bin_end": 28.142852973937988,
            "bin_start": 26.703152465820313,
            "count": 45
           },
           {
            "bin_end": 29.582553482055665,
            "bin_start": 28.142852973937988,
            "count": 58
           },
           {
            "bin_end": 31.02225399017334,
            "bin_start": 29.582553482055665,
            "count": 22
           },
           {
            "bin_end": 32.461954498291014,
            "bin_start": 31.02225399017334,
            "count": 32
           },
           {
            "bin_end": 33.90165500640869,
            "bin_start": 32.461954498291014,
            "count": 32
           },
           {
            "bin_end": 35.34135551452637,
            "bin_start": 33.90165500640869,
            "count": 26
           },
           {
            "bin_end": 36.781056022644044,
            "bin_start": 35.34135551452637,
            "count": 9
           },
           {
            "bin_end": 38.22075653076172,
            "bin_start": 36.781056022644044,
            "count": 8
           }
          ],
          "max": "38.22075653076172",
          "min": "23.82375144958496",
          "nan_count": 0,
          "unique_count": 277
         }
        },
        {
         "dtype": "float64",
         "name": "Close INTC",
         "stats": {
          "histogram": [
           {
            "bin_end": 26.2959997177124,
            "bin_start": 24.899999618530273,
            "count": 26
           },
           {
            "bin_end": 27.69199981689453,
            "bin_start": 26.2959997177124,
            "count": 32
           },
           {
            "bin_end": 29.08799991607666,
            "bin_start": 27.69199981689453,
            "count": 49
           },
           {
            "bin_end": 30.48400001525879,
            "bin_start": 29.08799991607666,
            "count": 52
           },
           {
            "bin_end": 31.880000114440918,
            "bin_start": 30.48400001525879,
            "count": 24
           },
           {
            "bin_end": 33.27600021362305,
            "bin_start": 31.880000114440918,
            "count": 30
           },
           {
            "bin_end": 34.672000312805174,
            "bin_start": 33.27600021362305,
            "count": 34
           },
           {
            "bin_end": 36.068000411987306,
            "bin_start": 34.672000312805174,
            "count": 25
           },
           {
            "bin_end": 37.46400051116943,
            "bin_start": 36.068000411987306,
            "count": 9
           },
           {
            "bin_end": 38.86000061035156,
            "bin_start": 37.46400051116943,
            "count": 8
           }
          ],
          "max": "38.86000061035156",
          "min": "24.899999618530273",
          "nan_count": 0,
          "unique_count": 259
         }
        },
        {
         "dtype": "float64",
         "name": "High INTC",
         "stats": {
          "histogram": [
           {
            "bin_end": 26.61500072479248,
            "bin_start": 25.1200008392334,
            "count": 22
           },
           {
            "bin_end": 28.110000610351562,
            "bin_start": 26.61500072479248,
            "count": 36
           },
           {
            "bin_end": 29.605000495910645,
            "bin_start": 28.110000610351562,
            "count": 49
           },
           {
            "bin_end": 31.100000381469727,
            "bin_start": 29.605000495910645,
            "count": 51
           },
           {
            "bin_end": 32.59500026702881,
            "bin_start": 31.100000381469727,
            "count": 30
           },
           {
            "bin_end": 34.09000015258789,
            "bin_start": 32.59500026702881,
            "count": 32
           },
           {
            "bin_end": 35.58500003814697,
            "bin_start": 34.09000015258789,
            "count": 35
           },
           {
            "bin_end": 37.079999923706055,
            "bin_start": 35.58500003814697,
            "count": 22
           },
           {
            "bin_end": 38.57499980926514,
            "bin_start": 37.079999923706055,
            "count": 7
           },
           {
            "bin_end": 40.06999969482422,
            "bin_start": 38.57499980926514,
            "count": 5
           }
          ],
          "max": "40.06999969482422",
          "min": "25.1200008392334",
          "nan_count": 0,
          "unique_count": 260
         }
        },
        {
         "dtype": "float64",
         "name": "Low INTC",
         "stats": {
          "histogram": [
           {
            "bin_end": 25.996000289916992,
            "bin_start": 24.59000015258789,
            "count": 28
           },
           {
            "bin_end": 27.402000427246094,
            "bin_start": 25.996000289916992,
            "count": 34
           },
           {
            "bin_end": 28.808000564575195,
            "bin_start": 27.402000427246094,
            "count": 50
           },
           {
            "bin_end": 30.214000701904297,
            "bin_start": 28.808000564575195,
            "count": 50
           },
           {
            "bin_end": 31.6200008392334,
            "bin_start": 30.214000701904297,
            "count": 21
           },
           {
            "bin_end": 33.0260009765625,
            "bin_start": 31.6200008392334,
            "count": 33
           },
           {
            "bin_end": 34.4320011138916,
            "bin_start": 33.0260009765625,
            "count": 37
           },
           {
            "bin_end": 35.8380012512207,
            "bin_start": 34.4320011138916,
            "count": 25
           },
           {
            "bin_end": 37.244001388549805,
            "bin_start": 35.8380012512207,
            "count": 4
           },
           {
            "bin_end": 38.650001525878906,
            "bin_start": 37.244001388549805,
            "count": 7
           }
          ],
          "max": "38.650001525878906",
          "min": "24.59000015258789",
          "nan_count": 0,
          "unique_count": 250
         }
        },
        {
         "dtype": "float64",
         "name": "Open INTC",
         "stats": {
          "histogram": [
           {
            "bin_end": 26.137999725341796,
            "bin_start": 24.729999542236328,
            "count": 21
           },
           {
            "bin_end": 27.545999908447264,
            "bin_start": 26.137999725341796,
            "count": 34
           },
           {
            "bin_end": 28.954000091552736,
            "bin_start": 27.545999908447264,
            "count": 44
           },
           {
            "bin_end": 30.362000274658204,
            "bin_start": 28.954000091552736,
            "count": 57
           },
           {
            "bin_end": 31.770000457763672,
            "bin_start": 30.362000274658204,
            "count": 22
           },
           {
            "bin_end": 33.17800064086914,
            "bin_start": 31.770000457763672,
            "count": 30
           },
           {
            "bin_end": 34.58600082397461,
            "bin_start": 33.17800064086914,
            "count": 38
           },
           {
            "bin_end": 35.99400100708008,
            "bin_start": 34.58600082397461,
            "count": 25
           },
           {
            "bin_end": 37.402001190185544,
            "bin_start": 35.99400100708008,
            "count": 10
           },
           {
            "bin_end": 38.810001373291016,
            "bin_start": 37.402001190185544,
            "count": 8
           }
          ],
          "max": "38.810001373291016",
          "min": "24.729999542236328",
          "nan_count": 0,
          "unique_count": 254
         }
        },
        {
         "dtype": "int64",
         "name": "Volume INTC",
         "stats": {
          "histogram": [
           {
            "bin_end": 25038230,
            "bin_start": 11314900,
            "count": 21
           },
           {
            "bin_end": 38761560,
            "bin_start": 25038230,
            "count": 136
           },
           {
            "bin_end": 52484890,
            "bin_start": 38761560,
            "count": 77
           },
           {
            "bin_end": 66208220,
            "bin_start": 52484890,
            "count": 32
           },
           {
            "bin_end": 79931550,
            "bin_start": 66208220,
            "count": 13
           },
           {
            "bin_end": 93654880,
            "bin_start": 79931550,
            "count": 7
           },
           {
            "bin_end": 107378210,
            "bin_start": 93654880,
            "count": 0
           },
           {
            "bin_end": 121101540,
            "bin_start": 107378210,
            "count": 1
           },
           {
            "bin_end": 134824870,
            "bin_start": 121101540,
            "count": 0
           },
           {
            "bin_end": 148548200,
            "bin_start": 134824870,
            "count": 2
           }
          ],
          "max": "148548200",
          "min": "11314900",
          "nan_count": 0,
          "unique_count": 289
         }
        },
        {
         "dtype": "int64",
         "name": "_deepnote_index_column"
        }
       ],
       "row_count": 289,
       "rows": [
        {
         "Adj Close INTC": 34.04207992553711,
         "Close INTC": 35.779998779296875,
         "Date ": "2022-08-17 00:00:00",
         "High INTC": 36.08000183105469,
         "Low INTC": 35.27000045776367,
         "Open INTC": 35.810001373291016,
         "Volume INTC": 29176100,
         "_deepnote_index_column": 0
        },
        {
         "Adj Close INTC": 34.44168472290039,
         "Close INTC": 36.20000076293945,
         "Date ": "2022-08-18 00:00:00",
         "High INTC": 36.33000183105469,
         "Low INTC": 35.56999969482422,
         "Open INTC": 35.68000030517578,
         "Volume INTC": 24598200,
         "_deepnote_index_column": 1
        },
        {
         "Adj Close INTC": 33.66151428222656,
         "Close INTC": 35.380001068115234,
         "Date ": "2022-08-19 00:00:00",
         "High INTC": 36.029998779296875,
         "Low INTC": 35.189998626708984,
         "Open INTC": 35.79999923706055,
         "Volume INTC": 31425500,
         "_deepnote_index_column": 2
        },
        {
         "Adj Close INTC": 32.196311950683594,
         "Close INTC": 33.84000015258789,
         "Date ": "2022-08-22 00:00:00",
         "High INTC": 35.060001373291016,
         "Low INTC": 33.72999954223633,
         "Open INTC": 35,
         "Volume INTC": 51006100,
         "_deepnote_index_column": 3
        },
        {
         "Adj Close INTC": 32.30097198486328,
         "Close INTC": 33.95000076293945,
         "Date ": "2022-08-23 00:00:00",
         "High INTC": 34.38999938964844,
         "Low INTC": 33.90999984741211,
         "Open INTC": 33.97999954223633,
         "Volume INTC": 30687100,
         "_deepnote_index_column": 4
        },
        {
         "Adj Close INTC": 32.21533966064453,
         "Close INTC": 33.86000061035156,
         "Date ": "2022-08-24 00:00:00",
         "High INTC": 33.9900016784668,
         "Low INTC": 33.599998474121094,
         "Open INTC": 33.970001220703125,
         "Volume INTC": 25105700,
         "_deepnote_index_column": 5
        },
        {
         "Adj Close INTC": 33.1953125,
         "Close INTC": 34.88999938964844,
         "Date ": "2022-08-25 00:00:00",
         "High INTC": 34.93000030517578,
         "Low INTC": 33.81999969482422,
         "Open INTC": 33.869998931884766,
         "Volume INTC": 29799100,
         "_deepnote_index_column": 6
        },
        {
         "Adj Close INTC": 31.739627838134766,
         "Close INTC": 33.36000061035156,
         "Date ": "2022-08-26 00:00:00",
         "High INTC": 35.029998779296875,
         "Low INTC": 33.349998474121094,
         "Open INTC": 34.95000076293945,
         "Volume INTC": 44851500,
         "_deepnote_index_column": 7
        },
        {
         "Adj Close INTC": 31.340030670166016,
         "Close INTC": 32.939998626708984,
         "Date ": "2022-08-29 00:00:00",
         "High INTC": 33.40999984741211,
         "Low INTC": 32.810001373291016,
         "Open INTC": 33.22999954223633,
         "Volume INTC": 32976800,
         "_deepnote_index_column": 8
        },
        {
         "Adj Close INTC": 30.693058013916016,
         "Close INTC": 32.2599983215332,
         "Date ": "2022-08-30 00:00:00",
         "High INTC": 33.06999969482422,
         "Low INTC": 32.150001525878906,
         "Open INTC": 33.040000915527344,
         "Volume INTC": 40182500,
         "_deepnote_index_column": 9
        }
       ]
      },
      "text/html": [
       "<div>\n",
       "<style scoped>\n",
       "    .dataframe tbody tr th:only-of-type {\n",
       "        vertical-align: middle;\n",
       "    }\n",
       "\n",
       "    .dataframe tbody tr th {\n",
       "        vertical-align: top;\n",
       "    }\n",
       "\n",
       "    .dataframe thead tr th {\n",
       "        text-align: left;\n",
       "    }\n",
       "</style>\n",
       "<table border=\"1\" class=\"dataframe\">\n",
       "  <thead>\n",
       "    <tr>\n",
       "      <th>Price</th>\n",
       "      <th>Date</th>\n",
       "      <th>Adj Close</th>\n",
       "      <th>Close</th>\n",
       "      <th>High</th>\n",
       "      <th>Low</th>\n",
       "      <th>Open</th>\n",
       "      <th>Volume</th>\n",
       "    </tr>\n",
       "    <tr>\n",
       "      <th>Ticker</th>\n",
       "      <th></th>\n",
       "      <th>INTC</th>\n",
       "      <th>INTC</th>\n",
       "      <th>INTC</th>\n",
       "      <th>INTC</th>\n",
       "      <th>INTC</th>\n",
       "      <th>INTC</th>\n",
       "    </tr>\n",
       "  </thead>\n",
       "  <tbody>\n",
       "    <tr>\n",
       "      <th>0</th>\n",
       "      <td>2022-08-17</td>\n",
       "      <td>34.042080</td>\n",
       "      <td>35.779999</td>\n",
       "      <td>36.080002</td>\n",
       "      <td>35.270000</td>\n",
       "      <td>35.810001</td>\n",
       "      <td>29176100</td>\n",
       "    </tr>\n",
       "    <tr>\n",
       "      <th>1</th>\n",
       "      <td>2022-08-18</td>\n",
       "      <td>34.441685</td>\n",
       "      <td>36.200001</td>\n",
       "      <td>36.330002</td>\n",
       "      <td>35.570000</td>\n",
       "      <td>35.680000</td>\n",
       "      <td>24598200</td>\n",
       "    </tr>\n",
       "    <tr>\n",
       "      <th>2</th>\n",
       "      <td>2022-08-19</td>\n",
       "      <td>33.661514</td>\n",
       "      <td>35.380001</td>\n",
       "      <td>36.029999</td>\n",
       "      <td>35.189999</td>\n",
       "      <td>35.799999</td>\n",
       "      <td>31425500</td>\n",
       "    </tr>\n",
       "    <tr>\n",
       "      <th>3</th>\n",
       "      <td>2022-08-22</td>\n",
       "      <td>32.196312</td>\n",
       "      <td>33.840000</td>\n",
       "      <td>35.060001</td>\n",
       "      <td>33.730000</td>\n",
       "      <td>35.000000</td>\n",
       "      <td>51006100</td>\n",
       "    </tr>\n",
       "    <tr>\n",
       "      <th>4</th>\n",
       "      <td>2022-08-23</td>\n",
       "      <td>32.300972</td>\n",
       "      <td>33.950001</td>\n",
       "      <td>34.389999</td>\n",
       "      <td>33.910000</td>\n",
       "      <td>33.980000</td>\n",
       "      <td>30687100</td>\n",
       "    </tr>\n",
       "    <tr>\n",
       "      <th>...</th>\n",
       "      <td>...</td>\n",
       "      <td>...</td>\n",
       "      <td>...</td>\n",
       "      <td>...</td>\n",
       "      <td>...</td>\n",
       "      <td>...</td>\n",
       "      <td>...</td>\n",
       "    </tr>\n",
       "    <tr>\n",
       "      <th>284</th>\n",
       "      <td>2023-10-04</td>\n",
       "      <td>35.338951</td>\n",
       "      <td>35.930000</td>\n",
       "      <td>36.520000</td>\n",
       "      <td>35.330002</td>\n",
       "      <td>36.520000</td>\n",
       "      <td>39842200</td>\n",
       "    </tr>\n",
       "    <tr>\n",
       "      <th>285</th>\n",
       "      <td>2023-10-05</td>\n",
       "      <td>35.299606</td>\n",
       "      <td>35.889999</td>\n",
       "      <td>36.099998</td>\n",
       "      <td>35.599998</td>\n",
       "      <td>35.970001</td>\n",
       "      <td>25771200</td>\n",
       "    </tr>\n",
       "    <tr>\n",
       "      <th>286</th>\n",
       "      <td>2023-10-06</td>\n",
       "      <td>35.594677</td>\n",
       "      <td>36.189999</td>\n",
       "      <td>36.459999</td>\n",
       "      <td>35.180000</td>\n",
       "      <td>35.869999</td>\n",
       "      <td>33252300</td>\n",
       "    </tr>\n",
       "    <tr>\n",
       "      <th>287</th>\n",
       "      <td>2023-10-09</td>\n",
       "      <td>35.466816</td>\n",
       "      <td>36.060001</td>\n",
       "      <td>36.169998</td>\n",
       "      <td>35.500000</td>\n",
       "      <td>35.700001</td>\n",
       "      <td>19376100</td>\n",
       "    </tr>\n",
       "    <tr>\n",
       "      <th>288</th>\n",
       "      <td>2023-10-10</td>\n",
       "      <td>35.830730</td>\n",
       "      <td>36.430000</td>\n",
       "      <td>36.740002</td>\n",
       "      <td>35.810001</td>\n",
       "      <td>36.139999</td>\n",
       "      <td>24044100</td>\n",
       "    </tr>\n",
       "  </tbody>\n",
       "</table>\n",
       "<p>289 rows × 7 columns</p>\n",
       "</div>"
      ],
      "text/plain": [
       "Price        Date  Adj Close      Close       High        Low       Open  \\\n",
       "Ticker                  INTC       INTC       INTC       INTC       INTC   \n",
       "0      2022-08-17  34.042080  35.779999  36.080002  35.270000  35.810001   \n",
       "1      2022-08-18  34.441685  36.200001  36.330002  35.570000  35.680000   \n",
       "2      2022-08-19  33.661514  35.380001  36.029999  35.189999  35.799999   \n",
       "3      2022-08-22  32.196312  33.840000  35.060001  33.730000  35.000000   \n",
       "4      2022-08-23  32.300972  33.950001  34.389999  33.910000  33.980000   \n",
       "..            ...        ...        ...        ...        ...        ...   \n",
       "284    2023-10-04  35.338951  35.930000  36.520000  35.330002  36.520000   \n",
       "285    2023-10-05  35.299606  35.889999  36.099998  35.599998  35.970001   \n",
       "286    2023-10-06  35.594677  36.189999  36.459999  35.180000  35.869999   \n",
       "287    2023-10-09  35.466816  36.060001  36.169998  35.500000  35.700001   \n",
       "288    2023-10-10  35.830730  36.430000  36.740002  35.810001  36.139999   \n",
       "\n",
       "Price     Volume  \n",
       "Ticker      INTC  \n",
       "0       29176100  \n",
       "1       24598200  \n",
       "2       31425500  \n",
       "3       51006100  \n",
       "4       30687100  \n",
       "..           ...  \n",
       "284     39842200  \n",
       "285     25771200  \n",
       "286     33252300  \n",
       "287     19376100  \n",
       "288     24044100  \n",
       "\n",
       "[289 rows x 7 columns]"
      ]
     },
     "execution_count": 13,
     "metadata": {},
     "output_type": "execute_result"
    }
   ],
   "source": [
    "#Import yfinance\n",
    "!pip install yfinance\n",
    "import yfinance as yf\n",
    "\n",
    "#Define the ticker symbol\n",
    "ticker_symbol = 'INTC'\n",
    "\n",
    "#Get the stock data from the specified timeframe\n",
    "stock_data = yf.download(ticker_symbol, start='2022-08-17', end='2023-10-11')\n",
    "\n",
    "#Reset the index to convert the date index into a column\n",
    "stock_data = stock_data.reset_index()\n",
    "\n",
    "#Display the stock data with labeled date\n",
    "stock_data\n"
   ]
  },
  {
   "cell_type": "code",
   "execution_count": null,
   "metadata": {
    "cell_id": "d7a99b6b89c2488da996269197017d56",
    "deepnote_cell_type": "code",
    "deepnote_table_loading": false,
    "deepnote_table_state": {
     "cellFormattingRules": [],
     "conditionalFilters": [],
     "filters": [],
     "pageIndex": 27,
     "pageSize": 10,
     "sortBy": [],
     "wrappedTextColumnIds": []
    },
    "execution_context_id": "e9548f45-3829-4af3-95f9-0434d3347dda",
    "execution_millis": 1,
    "execution_start": 1732532035948,
    "source_hash": "47a0b221"
   },
   "outputs": [
    {
     "name": "stderr",
     "output_type": "stream",
     "text": [
      "/tmp/ipykernel_631/467705425.py:3: PerformanceWarning: dropping on a non-lexsorted multi-index without a level parameter may impact performance.\n",
      "  stock_data = stock_data.drop(columns=[\"Volume\", \"Adj Close\", \"Open\", \"High\", \"Low\"], axis=1)\n"
     ]
    },
    {
     "data": {
      "application/vnd.deepnote.dataframe.v3+json": {
       "column_count": 2,
       "columns": [
        {
         "dtype": "datetime64[ns]",
         "name": "Date ",
         "stats": {
          "histogram": [
           {
            "bin_end": 1664314560000000000,
            "bin_start": 1660694400000000000,
            "count": 29
           },
           {
            "bin_end": 1667934720000000000,
            "bin_start": 1664314560000000000,
            "count": 30
           },
           {
            "bin_end": 1671554880000000000,
            "bin_start": 1667934720000000000,
            "count": 29
           },
           {
            "bin_end": 1675175040000000000,
            "bin_start": 1671554880000000000,
            "count": 27
           },
           {
            "bin_end": 1678795200000000000,
            "bin_start": 1675175040000000000,
            "count": 29
           },
           {
            "bin_end": 1682415360000000000,
            "bin_start": 1678795200000000000,
            "count": 29
           },
           {
            "bin_end": 1686035520000000000,
            "bin_start": 1682415360000000000,
            "count": 29
           },
           {
            "bin_end": 1689655680000000000,
            "bin_start": 1686035520000000000,
            "count": 28
           },
           {
            "bin_end": 1693275840000000000,
            "bin_start": 1689655680000000000,
            "count": 30
           },
           {
            "bin_end": 1696896000000000000,
            "bin_start": 1693275840000000000,
            "count": 29
           }
          ],
          "max": "2023-10-10 00:00:00",
          "min": "2022-08-17 00:00:00",
          "nan_count": 0,
          "unique_count": 289
         }
        },
        {
         "dtype": "float64",
         "name": "Close INTC",
         "stats": {
          "histogram": [
           {
            "bin_end": 26.2959997177124,
            "bin_start": 24.899999618530273,
            "count": 26
           },
           {
            "bin_end": 27.69199981689453,
            "bin_start": 26.2959997177124,
            "count": 32
           },
           {
            "bin_end": 29.08799991607666,
            "bin_start": 27.69199981689453,
            "count": 49
           },
           {
            "bin_end": 30.48400001525879,
            "bin_start": 29.08799991607666,
            "count": 52
           },
           {
            "bin_end": 31.880000114440918,
            "bin_start": 30.48400001525879,
            "count": 24
           },
           {
            "bin_end": 33.27600021362305,
            "bin_start": 31.880000114440918,
            "count": 30
           },
           {
            "bin_end": 34.672000312805174,
            "bin_start": 33.27600021362305,
            "count": 34
           },
           {
            "bin_end": 36.068000411987306,
            "bin_start": 34.672000312805174,
            "count": 25
           },
           {
            "bin_end": 37.46400051116943,
            "bin_start": 36.068000411987306,
            "count": 9
           },
           {
            "bin_end": 38.86000061035156,
            "bin_start": 37.46400051116943,
            "count": 8
           }
          ],
          "max": "38.86000061035156",
          "min": "24.899999618530273",
          "nan_count": 0,
          "unique_count": 259
         }
        },
        {
         "dtype": "int64",
         "name": "_deepnote_index_column"
        }
       ],
       "row_count": 289,
       "rows": [
        {
         "Close INTC": 38.66999816894531,
         "Date ": "2023-09-14 00:00:00",
         "_deepnote_index_column": 270
        },
        {
         "Close INTC": 37.880001068115234,
         "Date ": "2023-09-15 00:00:00",
         "_deepnote_index_column": 271
        },
        {
         "Close INTC": 37.9900016784668,
         "Date ": "2023-09-18 00:00:00",
         "_deepnote_index_column": 272
        },
        {
         "Close INTC": 36.34000015258789,
         "Date ": "2023-09-19 00:00:00",
         "_deepnote_index_column": 273
        },
        {
         "Close INTC": 34.689998626708984,
         "Date ": "2023-09-20 00:00:00",
         "_deepnote_index_column": 274
        },
        {
         "Close INTC": 34.650001525878906,
         "Date ": "2023-09-21 00:00:00",
         "_deepnote_index_column": 275
        },
        {
         "Close INTC": 34.18000030517578,
         "Date ": "2023-09-22 00:00:00",
         "_deepnote_index_column": 276
        },
        {
         "Close INTC": 34.290000915527344,
         "Date ": "2023-09-25 00:00:00",
         "_deepnote_index_column": 277
        },
        {
         "Close INTC": 33.83000183105469,
         "Date ": "2023-09-26 00:00:00",
         "_deepnote_index_column": 278
        },
        {
         "Close INTC": 34.61000061035156,
         "Date ": "2023-09-27 00:00:00",
         "_deepnote_index_column": 279
        }
       ]
      },
      "text/html": [
       "<div>\n",
       "<style scoped>\n",
       "    .dataframe tbody tr th:only-of-type {\n",
       "        vertical-align: middle;\n",
       "    }\n",
       "\n",
       "    .dataframe tbody tr th {\n",
       "        vertical-align: top;\n",
       "    }\n",
       "\n",
       "    .dataframe thead tr th {\n",
       "        text-align: left;\n",
       "    }\n",
       "</style>\n",
       "<table border=\"1\" class=\"dataframe\">\n",
       "  <thead>\n",
       "    <tr>\n",
       "      <th>Price</th>\n",
       "      <th>Date</th>\n",
       "      <th>Close</th>\n",
       "    </tr>\n",
       "    <tr>\n",
       "      <th>Ticker</th>\n",
       "      <th></th>\n",
       "      <th>INTC</th>\n",
       "    </tr>\n",
       "  </thead>\n",
       "  <tbody>\n",
       "    <tr>\n",
       "      <th>0</th>\n",
       "      <td>2022-08-17</td>\n",
       "      <td>35.779999</td>\n",
       "    </tr>\n",
       "    <tr>\n",
       "      <th>1</th>\n",
       "      <td>2022-08-18</td>\n",
       "      <td>36.200001</td>\n",
       "    </tr>\n",
       "    <tr>\n",
       "      <th>2</th>\n",
       "      <td>2022-08-19</td>\n",
       "      <td>35.380001</td>\n",
       "    </tr>\n",
       "    <tr>\n",
       "      <th>3</th>\n",
       "      <td>2022-08-22</td>\n",
       "      <td>33.840000</td>\n",
       "    </tr>\n",
       "    <tr>\n",
       "      <th>4</th>\n",
       "      <td>2022-08-23</td>\n",
       "      <td>33.950001</td>\n",
       "    </tr>\n",
       "    <tr>\n",
       "      <th>...</th>\n",
       "      <td>...</td>\n",
       "      <td>...</td>\n",
       "    </tr>\n",
       "    <tr>\n",
       "      <th>284</th>\n",
       "      <td>2023-10-04</td>\n",
       "      <td>35.930000</td>\n",
       "    </tr>\n",
       "    <tr>\n",
       "      <th>285</th>\n",
       "      <td>2023-10-05</td>\n",
       "      <td>35.889999</td>\n",
       "    </tr>\n",
       "    <tr>\n",
       "      <th>286</th>\n",
       "      <td>2023-10-06</td>\n",
       "      <td>36.189999</td>\n",
       "    </tr>\n",
       "    <tr>\n",
       "      <th>287</th>\n",
       "      <td>2023-10-09</td>\n",
       "      <td>36.060001</td>\n",
       "    </tr>\n",
       "    <tr>\n",
       "      <th>288</th>\n",
       "      <td>2023-10-10</td>\n",
       "      <td>36.430000</td>\n",
       "    </tr>\n",
       "  </tbody>\n",
       "</table>\n",
       "<p>289 rows × 2 columns</p>\n",
       "</div>"
      ],
      "text/plain": [
       "Price        Date      Close\n",
       "Ticker                  INTC\n",
       "0      2022-08-17  35.779999\n",
       "1      2022-08-18  36.200001\n",
       "2      2022-08-19  35.380001\n",
       "3      2022-08-22  33.840000\n",
       "4      2022-08-23  33.950001\n",
       "..            ...        ...\n",
       "284    2023-10-04  35.930000\n",
       "285    2023-10-05  35.889999\n",
       "286    2023-10-06  36.189999\n",
       "287    2023-10-09  36.060001\n",
       "288    2023-10-10  36.430000\n",
       "\n",
       "[289 rows x 2 columns]"
      ]
     },
     "execution_count": 14,
     "metadata": {},
     "output_type": "execute_result"
    }
   ],
   "source": [
    "stock_data = stock_data.drop(columns=[\"Volume\", \"Adj Close\", \"Open\", \"High\", \"Low\"], axis=1)\n",
    "stock_data"
   ]
  },
  {
   "cell_type": "code",
   "execution_count": 15,
   "metadata": {
    "cell_id": "d5caaeddde354ccda125f97a96b3870a",
    "deepnote_cell_type": "code",
    "deepnote_table_loading": false,
    "deepnote_table_state": {
     "cellFormattingRules": [],
     "conditionalFilters": [],
     "filters": [],
     "pageIndex": 20,
     "pageSize": 10,
     "sortBy": [],
     "wrappedTextColumnIds": []
    },
    "execution_context_id": "e9548f45-3829-4af3-95f9-0434d3347dda",
    "execution_millis": 0,
    "execution_start": 1732532036013,
    "source_hash": "28f7c371"
   },
   "outputs": [
    {
     "data": {
      "application/vnd.deepnote.dataframe.v3+json": {
       "column_count": 2,
       "columns": [
        {
         "dtype": "object",
         "name": "publishedDate",
         "stats": {
          "categories": [
           {
            "count": 7,
            "name": "2023-09-20"
           },
           {
            "count": 7,
            "name": "2023-01-27"
           },
           {
            "count": 276,
            "name": "169 others"
           }
          ],
          "nan_count": 0,
          "unique_count": 171
         }
        },
        {
         "dtype": "object",
         "name": "sentimentAnalysis",
         "stats": {
          "categories": [
           {
            "count": 145,
            "name": "positive"
           },
           {
            "count": 91,
            "name": "negative"
           },
           {
            "count": 54,
            "name": "neutral"
           }
          ],
          "nan_count": 0,
          "unique_count": 3
         }
        },
        {
         "dtype": "int64",
         "name": "_deepnote_index_column"
        }
       ],
       "row_count": 290,
       "rows": [
        {
         "_deepnote_index_column": 74223,
         "publishedDate": "2023-02-24",
         "sentimentAnalysis": "negative"
        },
        {
         "_deepnote_index_column": 74264,
         "publishedDate": "2023-02-23",
         "sentimentAnalysis": "positive"
        },
        {
         "_deepnote_index_column": 74278,
         "publishedDate": "2023-02-23",
         "sentimentAnalysis": "negative"
        },
        {
         "_deepnote_index_column": 74782,
         "publishedDate": "2023-02-16",
         "sentimentAnalysis": "neutral"
        },
        {
         "_deepnote_index_column": 76138,
         "publishedDate": "2023-02-10",
         "sentimentAnalysis": "positive"
        },
        {
         "_deepnote_index_column": 76895,
         "publishedDate": "2023-02-08",
         "sentimentAnalysis": "negative"
        },
        {
         "_deepnote_index_column": 78496,
         "publishedDate": "2023-02-03",
         "sentimentAnalysis": "positive"
        },
        {
         "_deepnote_index_column": 78700,
         "publishedDate": "2023-02-03",
         "sentimentAnalysis": "positive"
        },
        {
         "_deepnote_index_column": 79647,
         "publishedDate": "2023-02-01",
         "sentimentAnalysis": "negative"
        },
        {
         "_deepnote_index_column": 80656,
         "publishedDate": "2023-01-30",
         "sentimentAnalysis": "positive"
        }
       ]
      },
      "text/html": [
       "<div>\n",
       "<style scoped>\n",
       "    .dataframe tbody tr th:only-of-type {\n",
       "        vertical-align: middle;\n",
       "    }\n",
       "\n",
       "    .dataframe tbody tr th {\n",
       "        vertical-align: top;\n",
       "    }\n",
       "\n",
       "    .dataframe thead th {\n",
       "        text-align: right;\n",
       "    }\n",
       "</style>\n",
       "<table border=\"1\" class=\"dataframe\">\n",
       "  <thead>\n",
       "    <tr style=\"text-align: right;\">\n",
       "      <th></th>\n",
       "      <th>publishedDate</th>\n",
       "      <th>sentimentAnalysis</th>\n",
       "    </tr>\n",
       "  </thead>\n",
       "  <tbody>\n",
       "    <tr>\n",
       "      <th>26</th>\n",
       "      <td>2023-10-04</td>\n",
       "      <td>positive</td>\n",
       "    </tr>\n",
       "    <tr>\n",
       "      <th>178</th>\n",
       "      <td>2023-10-04</td>\n",
       "      <td>positive</td>\n",
       "    </tr>\n",
       "    <tr>\n",
       "      <th>499</th>\n",
       "      <td>2023-10-03</td>\n",
       "      <td>positive</td>\n",
       "    </tr>\n",
       "    <tr>\n",
       "      <th>1398</th>\n",
       "      <td>2023-10-02</td>\n",
       "      <td>positive</td>\n",
       "    </tr>\n",
       "    <tr>\n",
       "      <th>1472</th>\n",
       "      <td>2023-10-01</td>\n",
       "      <td>negative</td>\n",
       "    </tr>\n",
       "    <tr>\n",
       "      <th>...</th>\n",
       "      <td>...</td>\n",
       "      <td>...</td>\n",
       "    </tr>\n",
       "    <tr>\n",
       "      <th>133053</th>\n",
       "      <td>2022-09-06</td>\n",
       "      <td>neutral</td>\n",
       "    </tr>\n",
       "    <tr>\n",
       "      <th>133056</th>\n",
       "      <td>2022-09-06</td>\n",
       "      <td>positive</td>\n",
       "    </tr>\n",
       "    <tr>\n",
       "      <th>136361</th>\n",
       "      <td>2022-08-26</td>\n",
       "      <td>negative</td>\n",
       "    </tr>\n",
       "    <tr>\n",
       "      <th>136422</th>\n",
       "      <td>2022-08-26</td>\n",
       "      <td>neutral</td>\n",
       "    </tr>\n",
       "    <tr>\n",
       "      <th>137955</th>\n",
       "      <td>2022-08-23</td>\n",
       "      <td>positive</td>\n",
       "    </tr>\n",
       "  </tbody>\n",
       "</table>\n",
       "<p>290 rows × 2 columns</p>\n",
       "</div>"
      ],
      "text/plain": [
       "       publishedDate sentimentAnalysis\n",
       "26        2023-10-04          positive\n",
       "178       2023-10-04          positive\n",
       "499       2023-10-03          positive\n",
       "1398      2023-10-02          positive\n",
       "1472      2023-10-01          negative\n",
       "...              ...               ...\n",
       "133053    2022-09-06           neutral\n",
       "133056    2022-09-06          positive\n",
       "136361    2022-08-26          negative\n",
       "136422    2022-08-26           neutral\n",
       "137955    2022-08-23          positive\n",
       "\n",
       "[290 rows x 2 columns]"
      ]
     },
     "execution_count": 15,
     "metadata": {},
     "output_type": "execute_result"
    }
   ],
   "source": [
    "predict_df = pd.DataFrame({\n",
    "    'publishedDate': pd.to_datetime(comparison_df['publishedDate']).dt.date,  # Convert to datetime and extract only the date\n",
    "    'sentimentAnalysis': comparison_df['Predicted Label']\n",
    "})\n",
    "predict_df"
   ]
  },
  {
   "cell_type": "markdown",
   "metadata": {
    "cell_id": "a4e155a348e7486b8ed339e8ea924ee5",
    "deepnote_cell_type": "text-cell-h3",
    "formattedRanges": []
   },
   "source": [
    "### a. Analysis #1"
   ]
  },
  {
   "cell_type": "code",
   "execution_count": null,
   "metadata": {
    "cell_id": "66c5b0c08f8044c5b7755b9f4d9e6b60",
    "deepnote_cell_type": "code",
    "execution_context_id": "e9548f45-3829-4af3-95f9-0434d3347dda",
    "execution_millis": 0,
    "execution_start": 1732532036077,
    "source_hash": "3fb5eb2e"
   },
   "outputs": [
    {
     "data": {
      "application/vnd.deepnote.dataframe.v3+json": {
       "column_count": 2,
       "columns": [
        {
         "dtype": "object",
         "name": "publishedDate",
         "stats": {
          "categories": [
           {
            "count": 2,
            "name": "2023-10-04"
           },
           {
            "count": 1,
            "name": "2023-10-03"
           },
           {
            "count": 3,
            "name": "3 others"
           }
          ],
          "nan_count": 0,
          "unique_count": 5
         }
        },
        {
         "dtype": "object",
         "name": "sentimentAnalysis",
         "stats": {
          "categories": [
           {
            "count": 5,
            "name": "positive"
           },
           {
            "count": 1,
            "name": "negative"
           }
          ],
          "nan_count": 0,
          "unique_count": 2
         }
        },
        {
         "dtype": "int64",
         "name": "_deepnote_index_column"
        }
       ],
       "row_count": 6,
       "rows": [
        {
         "_deepnote_index_column": 26,
         "publishedDate": "2023-10-04",
         "sentimentAnalysis": "positive"
        },
        {
         "_deepnote_index_column": 178,
         "publishedDate": "2023-10-04",
         "sentimentAnalysis": "positive"
        },
        {
         "_deepnote_index_column": 499,
         "publishedDate": "2023-10-03",
         "sentimentAnalysis": "positive"
        },
        {
         "_deepnote_index_column": 1398,
         "publishedDate": "2023-10-02",
         "sentimentAnalysis": "positive"
        },
        {
         "_deepnote_index_column": 1472,
         "publishedDate": "2023-10-01",
         "sentimentAnalysis": "negative"
        },
        {
         "_deepnote_index_column": 2086,
         "publishedDate": "2023-09-28",
         "sentimentAnalysis": "positive"
        }
       ]
      },
      "text/html": [
       "<div>\n",
       "<style scoped>\n",
       "    .dataframe tbody tr th:only-of-type {\n",
       "        vertical-align: middle;\n",
       "    }\n",
       "\n",
       "    .dataframe tbody tr th {\n",
       "        vertical-align: top;\n",
       "    }\n",
       "\n",
       "    .dataframe thead th {\n",
       "        text-align: right;\n",
       "    }\n",
       "</style>\n",
       "<table border=\"1\" class=\"dataframe\">\n",
       "  <thead>\n",
       "    <tr style=\"text-align: right;\">\n",
       "      <th></th>\n",
       "      <th>publishedDate</th>\n",
       "      <th>sentimentAnalysis</th>\n",
       "    </tr>\n",
       "  </thead>\n",
       "  <tbody>\n",
       "    <tr>\n",
       "      <th>26</th>\n",
       "      <td>2023-10-04</td>\n",
       "      <td>positive</td>\n",
       "    </tr>\n",
       "    <tr>\n",
       "      <th>178</th>\n",
       "      <td>2023-10-04</td>\n",
       "      <td>positive</td>\n",
       "    </tr>\n",
       "    <tr>\n",
       "      <th>499</th>\n",
       "      <td>2023-10-03</td>\n",
       "      <td>positive</td>\n",
       "    </tr>\n",
       "    <tr>\n",
       "      <th>1398</th>\n",
       "      <td>2023-10-02</td>\n",
       "      <td>positive</td>\n",
       "    </tr>\n",
       "    <tr>\n",
       "      <th>1472</th>\n",
       "      <td>2023-10-01</td>\n",
       "      <td>negative</td>\n",
       "    </tr>\n",
       "    <tr>\n",
       "      <th>2086</th>\n",
       "      <td>2023-09-28</td>\n",
       "      <td>positive</td>\n",
       "    </tr>\n",
       "  </tbody>\n",
       "</table>\n",
       "</div>"
      ],
      "text/plain": [
       "     publishedDate sentimentAnalysis\n",
       "26      2023-10-04          positive\n",
       "178     2023-10-04          positive\n",
       "499     2023-10-03          positive\n",
       "1398    2023-10-02          positive\n",
       "1472    2023-10-01          negative\n",
       "2086    2023-09-28          positive"
      ]
     },
     "execution_count": 16,
     "metadata": {},
     "output_type": "execute_result"
    }
   ],
   "source": [
    "predict_df_1 = predict_df.iloc[:6]\n",
    "predict_df_1"
   ]
  },
  {
   "cell_type": "code",
   "execution_count": 17,
   "metadata": {
    "cell_id": "29e96573e6fb46f2883cbb649cd33386",
    "deepnote_cell_type": "code",
    "deepnote_table_loading": false,
    "deepnote_table_state": {
     "cellFormattingRules": [],
     "conditionalFilters": [],
     "filters": [],
     "pageIndex": 0,
     "pageSize": 10,
     "sortBy": [],
     "wrappedTextColumnIds": []
    },
    "execution_context_id": "e9548f45-3829-4af3-95f9-0434d3347dda",
    "execution_millis": 0,
    "execution_start": 1732532036133,
    "source_hash": "db5ae07e"
   },
   "outputs": [
    {
     "data": {
      "application/vnd.deepnote.dataframe.v3+json": {
       "column_count": 2,
       "columns": [
        {
         "dtype": "datetime64[ns]",
         "name": "Date ",
         "stats": {
          "histogram": [
           {
            "bin_end": 1695695040000000000,
            "bin_start": 1695600000000000000,
            "count": 2
           },
           {
            "bin_end": 1695790080000000000,
            "bin_start": 1695695040000000000,
            "count": 1
           },
           {
            "bin_end": 1695885120000000000,
            "bin_start": 1695790080000000000,
            "count": 1
           },
           {
            "bin_end": 1695980160000000000,
            "bin_start": 1695885120000000000,
            "count": 1
           },
           {
            "bin_end": 1696075200000000000,
            "bin_start": 1695980160000000000,
            "count": 0
           },
           {
            "bin_end": 1696170240000000000,
            "bin_start": 1696075200000000000,
            "count": 0
           },
           {
            "bin_end": 1696265280000000000,
            "bin_start": 1696170240000000000,
            "count": 1
           },
           {
            "bin_end": 1696360320000000000,
            "bin_start": 1696265280000000000,
            "count": 1
           },
           {
            "bin_end": 1696455360000000000,
            "bin_start": 1696360320000000000,
            "count": 1
           },
           {
            "bin_end": 1696550400000000000,
            "bin_start": 1696455360000000000,
            "count": 2
           }
          ],
          "max": "2023-10-06 00:00:00",
          "min": "2023-09-25 00:00:00",
          "nan_count": 0,
          "unique_count": 10
         }
        },
        {
         "dtype": "float64",
         "name": "Close INTC",
         "stats": {
          "histogram": [
           {
            "bin_end": 34.06600151062012,
            "bin_start": 33.83000183105469,
            "count": 1
           },
           {
            "bin_end": 34.30200119018555,
            "bin_start": 34.06600151062012,
            "count": 1
           },
           {
            "bin_end": 34.538000869750974,
            "bin_start": 34.30200119018555,
            "count": 0
           },
           {
            "bin_end": 34.774000549316405,
            "bin_start": 34.538000869750974,
            "count": 1
           },
           {
            "bin_end": 35.010000228881836,
            "bin_start": 34.774000549316405,
            "count": 0
           },
           {
            "bin_end": 35.24599990844727,
            "bin_start": 35.010000228881836,
            "count": 1
           },
           {
            "bin_end": 35.4819995880127,
            "bin_start": 35.24599990844727,
            "count": 1
           },
           {
            "bin_end": 35.71799926757812,
            "bin_start": 35.4819995880127,
            "count": 2
           },
           {
            "bin_end": 35.95399894714355,
            "bin_start": 35.71799926757812,
            "count": 2
           },
           {
            "bin_end": 36.189998626708984,
            "bin_start": 35.95399894714355,
            "count": 1
           }
          ],
          "max": "36.189998626708984",
          "min": "33.83000183105469",
          "nan_count": 0,
          "unique_count": 10
         }
        },
        {
         "dtype": "int64",
         "name": "_deepnote_index_column"
        }
       ],
       "row_count": 10,
       "rows": [
        {
         "Close INTC": 34.290000915527344,
         "Date ": "2023-09-25 00:00:00",
         "_deepnote_index_column": 277
        },
        {
         "Close INTC": 33.83000183105469,
         "Date ": "2023-09-26 00:00:00",
         "_deepnote_index_column": 278
        },
        {
         "Close INTC": 34.61000061035156,
         "Date ": "2023-09-27 00:00:00",
         "_deepnote_index_column": 279
        },
        {
         "Close INTC": 35.18000030517578,
         "Date ": "2023-09-28 00:00:00",
         "_deepnote_index_column": 280
        },
        {
         "Close INTC": 35.54999923706055,
         "Date ": "2023-09-29 00:00:00",
         "_deepnote_index_column": 281
        },
        {
         "Close INTC": 35.459999084472656,
         "Date ": "2023-10-02 00:00:00",
         "_deepnote_index_column": 282
        },
        {
         "Close INTC": 35.689998626708984,
         "Date ": "2023-10-03 00:00:00",
         "_deepnote_index_column": 283
        },
        {
         "Close INTC": 35.93000030517578,
         "Date ": "2023-10-04 00:00:00",
         "_deepnote_index_column": 284
        },
        {
         "Close INTC": 35.88999938964844,
         "Date ": "2023-10-05 00:00:00",
         "_deepnote_index_column": 285
        },
        {
         "Close INTC": 36.189998626708984,
         "Date ": "2023-10-06 00:00:00",
         "_deepnote_index_column": 286
        }
       ]
      },
      "text/html": [
       "<div>\n",
       "<style scoped>\n",
       "    .dataframe tbody tr th:only-of-type {\n",
       "        vertical-align: middle;\n",
       "    }\n",
       "\n",
       "    .dataframe tbody tr th {\n",
       "        vertical-align: top;\n",
       "    }\n",
       "\n",
       "    .dataframe thead tr th {\n",
       "        text-align: left;\n",
       "    }\n",
       "</style>\n",
       "<table border=\"1\" class=\"dataframe\">\n",
       "  <thead>\n",
       "    <tr>\n",
       "      <th>Price</th>\n",
       "      <th>Date</th>\n",
       "      <th>Close</th>\n",
       "    </tr>\n",
       "    <tr>\n",
       "      <th>Ticker</th>\n",
       "      <th></th>\n",
       "      <th>INTC</th>\n",
       "    </tr>\n",
       "  </thead>\n",
       "  <tbody>\n",
       "    <tr>\n",
       "      <th>277</th>\n",
       "      <td>2023-09-25</td>\n",
       "      <td>34.290001</td>\n",
       "    </tr>\n",
       "    <tr>\n",
       "      <th>278</th>\n",
       "      <td>2023-09-26</td>\n",
       "      <td>33.830002</td>\n",
       "    </tr>\n",
       "    <tr>\n",
       "      <th>279</th>\n",
       "      <td>2023-09-27</td>\n",
       "      <td>34.610001</td>\n",
       "    </tr>\n",
       "    <tr>\n",
       "      <th>280</th>\n",
       "      <td>2023-09-28</td>\n",
       "      <td>35.180000</td>\n",
       "    </tr>\n",
       "    <tr>\n",
       "      <th>281</th>\n",
       "      <td>2023-09-29</td>\n",
       "      <td>35.549999</td>\n",
       "    </tr>\n",
       "    <tr>\n",
       "      <th>282</th>\n",
       "      <td>2023-10-02</td>\n",
       "      <td>35.459999</td>\n",
       "    </tr>\n",
       "    <tr>\n",
       "      <th>283</th>\n",
       "      <td>2023-10-03</td>\n",
       "      <td>35.689999</td>\n",
       "    </tr>\n",
       "    <tr>\n",
       "      <th>284</th>\n",
       "      <td>2023-10-04</td>\n",
       "      <td>35.930000</td>\n",
       "    </tr>\n",
       "    <tr>\n",
       "      <th>285</th>\n",
       "      <td>2023-10-05</td>\n",
       "      <td>35.889999</td>\n",
       "    </tr>\n",
       "    <tr>\n",
       "      <th>286</th>\n",
       "      <td>2023-10-06</td>\n",
       "      <td>36.189999</td>\n",
       "    </tr>\n",
       "  </tbody>\n",
       "</table>\n",
       "</div>"
      ],
      "text/plain": [
       "Price        Date      Close\n",
       "Ticker                  INTC\n",
       "277    2023-09-25  34.290001\n",
       "278    2023-09-26  33.830002\n",
       "279    2023-09-27  34.610001\n",
       "280    2023-09-28  35.180000\n",
       "281    2023-09-29  35.549999\n",
       "282    2023-10-02  35.459999\n",
       "283    2023-10-03  35.689999\n",
       "284    2023-10-04  35.930000\n",
       "285    2023-10-05  35.889999\n",
       "286    2023-10-06  36.189999"
      ]
     },
     "execution_count": 17,
     "metadata": {},
     "output_type": "execute_result"
    }
   ],
   "source": [
    "#get the timeframe 2023-09-25 to 2023-10-08 from stock data\n",
    "stock_data_ex_1 = stock_data[(stock_data['Date'] >= '2023-09-25') & (stock_data['Date'] <= '2023-10-08')]\n",
    "stock_data_ex_1"
   ]
  },
  {
   "cell_type": "code",
   "execution_count": 18,
   "metadata": {
    "cell_id": "26c51b0e826b4d00ab28d62f7be41a51",
    "deepnote_cell_type": "code",
    "execution_context_id": "d0fe3484-a288-42ec-b206-981a92786ed4",
    "execution_millis": 242,
    "execution_start": 1732532036185,
    "source_hash": "24e9131b"
   },
   "outputs": [
    {
     "name": "stderr",
     "output_type": "stream",
     "text": [
      "/shared-libs/python3.9/py/lib/python3.9/site-packages/matplotlib/text.py:694: FutureWarning: Calling float on a single element Series is deprecated and will raise a TypeError in the future. Use float(ser.iloc[0]) instead\n",
      "  posy = float(self.convert_yunits(self._y))\n",
      "/shared-libs/python3.9/py/lib/python3.9/site-packages/matplotlib/text.py:834: FutureWarning: Calling float on a single element Series is deprecated and will raise a TypeError in the future. Use float(ser.iloc[0]) instead\n",
      "  y = float(self.convert_yunits(self._y))\n"
     ]
    },
    {
     "data": {
      "image/png": "[encoded data removed]",
      "text/plain": [
       "<Figure size 1200x600 with 1 Axes>"
      ]
     },
     "metadata": {
      "image/png": {
       "height": 547,
       "width": 1010
      }
     },
     "output_type": "display_data"
    }
   ],
   "source": [
    "import matplotlib.pyplot as plt\n",
    "import matplotlib.dates as mdates\n",
    "from matplotlib.dates import DateFormatter\n",
    "\n",
    "plt.figure(figsize=(12, 6))\n",
    "\n",
    "plt.plot(stock_data_ex_1['Date'], stock_data_ex_1['Close'], label='Stock Price')\n",
    "\n",
    "# Add vertical lines with sentiment labels\n",
    "for date, sentiment in zip(predict_df_1['publishedDate'], predict_df_1['sentimentAnalysis']):\n",
    "    line_color = 'green' if sentiment == 'positive' else 'red' if sentiment == 'negative' else 'blue'\n",
    "    \n",
    "    plt.axvline(x=date, color=line_color, linestyle='--', alpha=0.7) \n",
    "    plt.text(\n",
    "        date, \n",
    "        stock_data_ex_1['Close'].min(),  \n",
    "        sentiment, \n",
    "        rotation=90,  \n",
    "        verticalalignment='bottom', \n",
    "        horizontalalignment='right', \n",
    "        fontsize=10, \n",
    "        color=line_color  \n",
    "    )\n",
    "\n",
    "# Labels and title\n",
    "plt.xlabel('Date')\n",
    "plt.ylabel('Stock Price')\n",
    "plt.title('Stock Price vs. Sentiment Analysis')\n",
    "plt.legend(['Stock Price', 'Sentiment Analysis'])\n",
    "plt.show()\n"
   ]
  },
  {
   "cell_type": "markdown",
   "metadata": {
    "cell_id": "ef0509d0c7b54a0896df82119bd0bc89",
    "deepnote_cell_type": "text-cell-h3",
    "formattedRanges": []
   },
   "source": [
    "### b. Analysis #2"
   ]
  },
  {
   "cell_type": "code",
   "execution_count": 19,
   "metadata": {
    "cell_id": "dcc5072de2654a368fa2d0ec0a6b5daa",
    "deepnote_cell_type": "code",
    "deepnote_table_loading": false,
    "deepnote_table_state": {
     "cellFormattingRules": [],
     "conditionalFilters": [],
     "filters": [],
     "pageIndex": 0,
     "pageSize": 10,
     "sortBy": [],
     "wrappedTextColumnIds": []
    },
    "execution_context_id": "e9548f45-3829-4af3-95f9-0434d3347dda",
    "execution_millis": 1,
    "execution_start": 1732532036469,
    "source_hash": "6e69d2bd"
   },
   "outputs": [
    {
     "data": {
      "application/vnd.deepnote.dataframe.v3+json": {
       "column_count": 2,
       "columns": [
        {
         "dtype": "datetime64[ns]",
         "name": "Date ",
         "stats": {
          "histogram": [
           {
            "bin_end": 1675313280000000000,
            "bin_start": 1675036800000000000,
            "count": 4
           },
           {
            "bin_end": 1675589760000000000,
            "bin_start": 1675313280000000000,
            "count": 1
           },
           {
            "bin_end": 1675866240000000000,
            "bin_start": 1675589760000000000,
            "count": 3
           },
           {
            "bin_end": 1676142720000000000,
            "bin_start": 1675866240000000000,
            "count": 2
           },
           {
            "bin_end": 1676419200000000000,
            "bin_start": 1676142720000000000,
            "count": 2
           },
           {
            "bin_end": 1676695680000000000,
            "bin_start": 1676419200000000000,
            "count": 3
           },
           {
            "bin_end": 1676972160000000000,
            "bin_start": 1676695680000000000,
            "count": 1
           },
           {
            "bin_end": 1677248640000000000,
            "bin_start": 1676972160000000000,
            "count": 3
           },
           {
            "bin_end": 1677525120000000000,
            "bin_start": 1677248640000000000,
            "count": 1
           },
           {
            "bin_end": 1677801600000000000,
            "bin_start": 1677525120000000000,
            "count": 4
           }
          ],
          "max": "2023-03-03 00:00:00",
          "min": "2023-01-30 00:00:00",
          "nan_count": 0,
          "unique_count": 24
         }
        },
        {
         "dtype": "float64",
         "name": "Close INTC",
         "stats": {
          "histogram": [
           {
            "bin_end": 25.441999626159667,
            "bin_start": 24.899999618530273,
            "count": 4
           },
           {
            "bin_end": 25.98399963378906,
            "bin_start": 25.441999626159667,
            "count": 2
           },
           {
            "bin_end": 26.52599964141846,
            "bin_start": 25.98399963378906,
            "count": 3
           },
           {
            "bin_end": 27.067999649047852,
            "bin_start": 26.52599964141846,
            "count": 0
           },
           {
            "bin_end": 27.609999656677246,
            "bin_start": 27.067999649047852,
            "count": 0
           },
           {
            "bin_end": 28.15199966430664,
            "bin_start": 27.609999656677246,
            "count": 4
           },
           {
            "bin_end": 28.693999671936034,
            "bin_start": 28.15199966430664,
            "count": 6
           },
           {
            "bin_end": 29.23599967956543,
            "bin_start": 28.693999671936034,
            "count": 3
           },
           {
            "bin_end": 29.777999687194825,
            "bin_start": 29.23599967956543,
            "count": 0
           },
           {
            "bin_end": 30.31999969482422,
            "bin_start": 29.777999687194825,
            "count": 2
           }
          ],
          "max": "30.31999969482422",
          "min": "24.899999618530273",
          "nan_count": 0,
          "unique_count": 24
         }
        },
        {
         "dtype": "int64",
         "name": "_deepnote_index_column"
        }
       ],
       "row_count": 24,
       "rows": [
        {
         "Close INTC": 27.950000762939453,
         "Date ": "2023-01-30 00:00:00",
         "_deepnote_index_column": 113
        },
        {
         "Close INTC": 28.260000228881836,
         "Date ": "2023-01-31 00:00:00",
         "_deepnote_index_column": 114
        },
        {
         "Close INTC": 29.06999969482422,
         "Date ": "2023-02-01 00:00:00",
         "_deepnote_index_column": 115
        },
        {
         "Close INTC": 30.190000534057617,
         "Date ": "2023-02-02 00:00:00",
         "_deepnote_index_column": 116
        },
        {
         "Close INTC": 30.31999969482422,
         "Date ": "2023-02-03 00:00:00",
         "_deepnote_index_column": 117
        },
        {
         "Close INTC": 28.690000534057617,
         "Date ": "2023-02-06 00:00:00",
         "_deepnote_index_column": 118
        },
        {
         "Close INTC": 29.049999237060547,
         "Date ": "2023-02-07 00:00:00",
         "_deepnote_index_column": 119
        },
        {
         "Close INTC": 28.239999771118164,
         "Date ": "2023-02-08 00:00:00",
         "_deepnote_index_column": 120
        },
        {
         "Close INTC": 27.729999542236328,
         "Date ": "2023-02-09 00:00:00",
         "_deepnote_index_column": 121
        },
        {
         "Close INTC": 27.799999237060547,
         "Date ": "2023-02-10 00:00:00",
         "_deepnote_index_column": 122
        }
       ]
      },
      "text/html": [
       "<div>\n",
       "<style scoped>\n",
       "    .dataframe tbody tr th:only-of-type {\n",
       "        vertical-align: middle;\n",
       "    }\n",
       "\n",
       "    .dataframe tbody tr th {\n",
       "        vertical-align: top;\n",
       "    }\n",
       "\n",
       "    .dataframe thead tr th {\n",
       "        text-align: left;\n",
       "    }\n",
       "</style>\n",
       "<table border=\"1\" class=\"dataframe\">\n",
       "  <thead>\n",
       "    <tr>\n",
       "      <th>Price</th>\n",
       "      <th>Date</th>\n",
       "      <th>Close</th>\n",
       "    </tr>\n",
       "    <tr>\n",
       "      <th>Ticker</th>\n",
       "      <th></th>\n",
       "      <th>INTC</th>\n",
       "    </tr>\n",
       "  </thead>\n",
       "  <tbody>\n",
       "    <tr>\n",
       "      <th>113</th>\n",
       "      <td>2023-01-30</td>\n",
       "      <td>27.950001</td>\n",
       "    </tr>\n",
       "    <tr>\n",
       "      <th>114</th>\n",
       "      <td>2023-01-31</td>\n",
       "      <td>28.260000</td>\n",
       "    </tr>\n",
       "    <tr>\n",
       "      <th>115</th>\n",
       "      <td>2023-02-01</td>\n",
       "      <td>29.070000</td>\n",
       "    </tr>\n",
       "    <tr>\n",
       "      <th>116</th>\n",
       "      <td>2023-02-02</td>\n",
       "      <td>30.190001</td>\n",
       "    </tr>\n",
       "    <tr>\n",
       "      <th>117</th>\n",
       "      <td>2023-02-03</td>\n",
       "      <td>30.320000</td>\n",
       "    </tr>\n",
       "    <tr>\n",
       "      <th>118</th>\n",
       "      <td>2023-02-06</td>\n",
       "      <td>28.690001</td>\n",
       "    </tr>\n",
       "    <tr>\n",
       "      <th>119</th>\n",
       "      <td>2023-02-07</td>\n",
       "      <td>29.049999</td>\n",
       "    </tr>\n",
       "    <tr>\n",
       "      <th>120</th>\n",
       "      <td>2023-02-08</td>\n",
       "      <td>28.240000</td>\n",
       "    </tr>\n",
       "    <tr>\n",
       "      <th>121</th>\n",
       "      <td>2023-02-09</td>\n",
       "      <td>27.730000</td>\n",
       "    </tr>\n",
       "    <tr>\n",
       "      <th>122</th>\n",
       "      <td>2023-02-10</td>\n",
       "      <td>27.799999</td>\n",
       "    </tr>\n",
       "    <tr>\n",
       "      <th>123</th>\n",
       "      <td>2023-02-13</td>\n",
       "      <td>28.549999</td>\n",
       "    </tr>\n",
       "    <tr>\n",
       "      <th>124</th>\n",
       "      <td>2023-02-14</td>\n",
       "      <td>28.639999</td>\n",
       "    </tr>\n",
       "    <tr>\n",
       "      <th>125</th>\n",
       "      <td>2023-02-15</td>\n",
       "      <td>28.850000</td>\n",
       "    </tr>\n",
       "    <tr>\n",
       "      <th>126</th>\n",
       "      <td>2023-02-16</td>\n",
       "      <td>28.200001</td>\n",
       "    </tr>\n",
       "    <tr>\n",
       "      <th>127</th>\n",
       "      <td>2023-02-17</td>\n",
       "      <td>27.610001</td>\n",
       "    </tr>\n",
       "    <tr>\n",
       "      <th>128</th>\n",
       "      <td>2023-02-21</td>\n",
       "      <td>26.059999</td>\n",
       "    </tr>\n",
       "    <tr>\n",
       "      <th>129</th>\n",
       "      <td>2023-02-22</td>\n",
       "      <td>25.469999</td>\n",
       "    </tr>\n",
       "    <tr>\n",
       "      <th>130</th>\n",
       "      <td>2023-02-23</td>\n",
       "      <td>25.610001</td>\n",
       "    </tr>\n",
       "    <tr>\n",
       "      <th>131</th>\n",
       "      <td>2023-02-24</td>\n",
       "      <td>25.139999</td>\n",
       "    </tr>\n",
       "    <tr>\n",
       "      <th>132</th>\n",
       "      <td>2023-02-27</td>\n",
       "      <td>24.900000</td>\n",
       "    </tr>\n",
       "    <tr>\n",
       "      <th>133</th>\n",
       "      <td>2023-02-28</td>\n",
       "      <td>24.930000</td>\n",
       "    </tr>\n",
       "    <tr>\n",
       "      <th>134</th>\n",
       "      <td>2023-03-01</td>\n",
       "      <td>25.330000</td>\n",
       "    </tr>\n",
       "    <tr>\n",
       "      <th>135</th>\n",
       "      <td>2023-03-02</td>\n",
       "      <td>26.200001</td>\n",
       "    </tr>\n",
       "    <tr>\n",
       "      <th>136</th>\n",
       "      <td>2023-03-03</td>\n",
       "      <td>26.400000</td>\n",
       "    </tr>\n",
       "  </tbody>\n",
       "</table>\n",
       "</div>"
      ],
      "text/plain": [
       "Price        Date      Close\n",
       "Ticker                  INTC\n",
       "113    2023-01-30  27.950001\n",
       "114    2023-01-31  28.260000\n",
       "115    2023-02-01  29.070000\n",
       "116    2023-02-02  30.190001\n",
       "117    2023-02-03  30.320000\n",
       "118    2023-02-06  28.690001\n",
       "119    2023-02-07  29.049999\n",
       "120    2023-02-08  28.240000\n",
       "121    2023-02-09  27.730000\n",
       "122    2023-02-10  27.799999\n",
       "123    2023-02-13  28.549999\n",
       "124    2023-02-14  28.639999\n",
       "125    2023-02-15  28.850000\n",
       "126    2023-02-16  28.200001\n",
       "127    2023-02-17  27.610001\n",
       "128    2023-02-21  26.059999\n",
       "129    2023-02-22  25.469999\n",
       "130    2023-02-23  25.610001\n",
       "131    2023-02-24  25.139999\n",
       "132    2023-02-27  24.900000\n",
       "133    2023-02-28  24.930000\n",
       "134    2023-03-01  25.330000\n",
       "135    2023-03-02  26.200001\n",
       "136    2023-03-03  26.400000"
      ]
     },
     "execution_count": 19,
     "metadata": {},
     "output_type": "execute_result"
    }
   ],
   "source": [
    "#get stock data from 2023-01-29 to 2023-02-29\n",
    "# Ensure the Date column is in datetime format\n",
    "stock_data['Date'] = pd.to_datetime(stock_data['Date'])\n",
    "\n",
    "# Filter the stock data between 2023-01-29 and 2023-02-29\n",
    "stock_data_ex_2 = stock_data[\n",
    "    (stock_data['Date'] >= pd.to_datetime('2023-01-29')) & \n",
    "    (stock_data['Date'] <= pd.to_datetime('2023-03-05'))\n",
    "]\n",
    "stock_data_ex_2\n"
   ]
  },
  {
   "cell_type": "code",
   "execution_count": 20,
   "metadata": {
    "cell_id": "261f47b5617d471984abb5c9b6ad0c04",
    "deepnote_cell_type": "code",
    "deepnote_table_loading": false,
    "deepnote_table_state": {
     "cellFormattingRules": [],
     "conditionalFilters": [],
     "filters": [],
     "pageIndex": 0,
     "pageSize": 10,
     "sortBy": [],
     "wrappedTextColumnIds": []
    },
    "execution_context_id": "d0fe3484-a288-42ec-b206-981a92786ed4",
    "execution_millis": 0,
    "execution_start": 1732532036533,
    "source_hash": "93d7030"
   },
   "outputs": [
    {
     "data": {
      "application/vnd.deepnote.dataframe.v3+json": {
       "column_count": 2,
       "columns": [
        {
         "dtype": "object",
         "name": "publishedDate",
         "stats": {
          "categories": [
           {
            "count": 1,
            "name": "2023-02-28"
           },
           {
            "count": 1,
            "name": "2023-02-27"
           },
           {
            "count": 8,
            "name": "8 others"
           }
          ],
          "nan_count": 0,
          "unique_count": 10
         }
        },
        {
         "dtype": "object",
         "name": "sentimentAnalysis",
         "stats": {
          "categories": [
           {
            "count": 4,
            "name": "positive"
           },
           {
            "count": 4,
            "name": "negative"
           },
           {
            "count": 2,
            "name": "neutral"
           }
          ],
          "nan_count": 0,
          "unique_count": 3
         }
        },
        {
         "dtype": "int64",
         "name": "_deepnote_index_column"
        }
       ],
       "row_count": 10,
       "rows": [
        {
         "_deepnote_index_column": 73286,
         "publishedDate": "2023-02-28",
         "sentimentAnalysis": "positive"
        },
        {
         "_deepnote_index_column": 73835,
         "publishedDate": "2023-02-27",
         "sentimentAnalysis": "neutral"
        },
        {
         "_deepnote_index_column": 74105,
         "publishedDate": "2023-02-24",
         "sentimentAnalysis": "negative"
        },
        {
         "_deepnote_index_column": 74278,
         "publishedDate": "2023-02-23",
         "sentimentAnalysis": "negative"
        },
        {
         "_deepnote_index_column": 74782,
         "publishedDate": "2023-02-16",
         "sentimentAnalysis": "neutral"
        },
        {
         "_deepnote_index_column": 76138,
         "publishedDate": "2023-02-10",
         "sentimentAnalysis": "positive"
        },
        {
         "_deepnote_index_column": 76895,
         "publishedDate": "2023-02-08",
         "sentimentAnalysis": "negative"
        },
        {
         "_deepnote_index_column": 78496,
         "publishedDate": "2023-02-03",
         "sentimentAnalysis": "positive"
        },
        {
         "_deepnote_index_column": 79647,
         "publishedDate": "2023-02-01",
         "sentimentAnalysis": "negative"
        },
        {
         "_deepnote_index_column": 80656,
         "publishedDate": "2023-01-30",
         "sentimentAnalysis": "positive"
        }
       ]
      },
      "text/html": [
       "<div>\n",
       "<style scoped>\n",
       "    .dataframe tbody tr th:only-of-type {\n",
       "        vertical-align: middle;\n",
       "    }\n",
       "\n",
       "    .dataframe tbody tr th {\n",
       "        vertical-align: top;\n",
       "    }\n",
       "\n",
       "    .dataframe thead th {\n",
       "        text-align: right;\n",
       "    }\n",
       "</style>\n",
       "<table border=\"1\" class=\"dataframe\">\n",
       "  <thead>\n",
       "    <tr style=\"text-align: right;\">\n",
       "      <th></th>\n",
       "      <th>publishedDate</th>\n",
       "      <th>sentimentAnalysis</th>\n",
       "    </tr>\n",
       "  </thead>\n",
       "  <tbody>\n",
       "    <tr>\n",
       "      <th>73286</th>\n",
       "      <td>2023-02-28</td>\n",
       "      <td>positive</td>\n",
       "    </tr>\n",
       "    <tr>\n",
       "      <th>73835</th>\n",
       "      <td>2023-02-27</td>\n",
       "      <td>neutral</td>\n",
       "    </tr>\n",
       "    <tr>\n",
       "      <th>74105</th>\n",
       "      <td>2023-02-24</td>\n",
       "      <td>negative</td>\n",
       "    </tr>\n",
       "    <tr>\n",
       "      <th>74278</th>\n",
       "      <td>2023-02-23</td>\n",
       "      <td>negative</td>\n",
       "    </tr>\n",
       "    <tr>\n",
       "      <th>74782</th>\n",
       "      <td>2023-02-16</td>\n",
       "      <td>neutral</td>\n",
       "    </tr>\n",
       "    <tr>\n",
       "      <th>76138</th>\n",
       "      <td>2023-02-10</td>\n",
       "      <td>positive</td>\n",
       "    </tr>\n",
       "    <tr>\n",
       "      <th>76895</th>\n",
       "      <td>2023-02-08</td>\n",
       "      <td>negative</td>\n",
       "    </tr>\n",
       "    <tr>\n",
       "      <th>78496</th>\n",
       "      <td>2023-02-03</td>\n",
       "      <td>positive</td>\n",
       "    </tr>\n",
       "    <tr>\n",
       "      <th>79647</th>\n",
       "      <td>2023-02-01</td>\n",
       "      <td>negative</td>\n",
       "    </tr>\n",
       "    <tr>\n",
       "      <th>80656</th>\n",
       "      <td>2023-01-30</td>\n",
       "      <td>positive</td>\n",
       "    </tr>\n",
       "  </tbody>\n",
       "</table>\n",
       "</div>"
      ],
      "text/plain": [
       "      publishedDate sentimentAnalysis\n",
       "73286    2023-02-28          positive\n",
       "73835    2023-02-27           neutral\n",
       "74105    2023-02-24          negative\n",
       "74278    2023-02-23          negative\n",
       "74782    2023-02-16           neutral\n",
       "76138    2023-02-10          positive\n",
       "76895    2023-02-08          negative\n",
       "78496    2023-02-03          positive\n",
       "79647    2023-02-01          negative\n",
       "80656    2023-01-30          positive"
      ]
     },
     "execution_count": 20,
     "metadata": {},
     "output_type": "execute_result"
    }
   ],
   "source": [
    "from datetime import date\n",
    "\n",
    "# Convert the string dates to datetime.date for comparison\n",
    "start_date = date(2023, 1, 29)\n",
    "end_date = date(2023, 2, 28)\n",
    "\n",
    "# Filter the DataFrame based on the date range\n",
    "predict_df_2 = predict_df[(predict_df['publishedDate'] >= start_date) & (predict_df['publishedDate'] <= end_date)]\n",
    "\n",
    "# Remove specific rows by index\n",
    "predict_df_2 = predict_df_2.drop([74264, 74223, 78700], errors='ignore')  # Use `errors='ignore'` in case the indices don't exist\n",
    "\n",
    "# Display the filtered DataFrame\n",
    "predict_df_2\n"
   ]
  },
  {
   "cell_type": "code",
   "execution_count": 21,
   "metadata": {
    "cell_id": "39a5275a97c2407f9e5c604d2129ea42",
    "deepnote_cell_type": "code",
    "execution_context_id": "d0fe3484-a288-42ec-b206-981a92786ed4",
    "execution_millis": 248,
    "execution_start": 1732532036593,
    "source_hash": "d76055db"
   },
   "outputs": [
    {
     "name": "stderr",
     "output_type": "stream",
     "text": [
      "/shared-libs/python3.9/py/lib/python3.9/site-packages/matplotlib/text.py:694: FutureWarning: Calling float on a single element Series is deprecated and will raise a TypeError in the future. Use float(ser.iloc[0]) instead\n",
      "  posy = float(self.convert_yunits(self._y))\n",
      "/shared-libs/python3.9/py/lib/python3.9/site-packages/matplotlib/text.py:834: FutureWarning: Calling float on a single element Series is deprecated and will raise a TypeError in the future. Use float(ser.iloc[0]) instead\n",
      "  y = float(self.convert_yunits(self._y))\n"
     ]
    },
    {
     "data": {
      "image/png": "[encoded data removed]",
      "text/plain": [
       "<Figure size 1200x600 with 1 Axes>"
      ]
     },
     "metadata": {
      "image/png": {
       "height": 547,
       "width": 996
      }
     },
     "output_type": "display_data"
    }
   ],
   "source": [
    "import matplotlib.pyplot as plt\n",
    "import matplotlib.dates as mdates\n",
    "from matplotlib.dates import DateFormatter\n",
    "\n",
    "plt.figure(figsize=(12, 6))\n",
    "\n",
    "plt.plot(stock_data_ex_2['Date'], stock_data_ex_2['Close'], label='Stock Price')\n",
    "\n",
    "# Add vertical lines with sentiment labels beside the line\n",
    "for date, sentiment in zip(predict_df_2['publishedDate'], predict_df_2['sentimentAnalysis']):\n",
    "    line_color = 'green' if sentiment == 'positive' else 'red' if sentiment == 'negative' else 'blue'\n",
    "    \n",
    "    plt.axvline(x=date, color=line_color, linestyle='--', alpha=0.7)\n",
    "    plt.text(\n",
    "        date, \n",
    "        stock_data_ex_2['Close'].min(), \n",
    "        sentiment, \n",
    "        rotation=90, \n",
    "        verticalalignment='bottom',  \n",
    "        horizontalalignment='right',  \n",
    "        fontsize=10, \n",
    "        color=line_color  \n",
    "    )\n",
    "\n",
    "# Labels and title\n",
    "plt.xlabel('Date')\n",
    "plt.ylabel('Stock Price')\n",
    "plt.title('Stock Price vs. Sentiment Analysis')\n",
    "plt.legend(['Stock Price', 'Sentiment Analysis'])\n",
    "plt.show()\n"
   ]
  },
  {
   "cell_type": "markdown",
   "metadata": {
    "cell_id": "142108ad43694d60885447f520c111d9",
    "deepnote_cell_type": "text-cell-h1",
    "formattedRanges": []
   },
   "source": [
    "# Sentiment Analysis with a Model that We Fine-tuned Ourselves"
   ]
  },
  {
   "cell_type": "markdown",
   "metadata": {
    "cell_id": "08a85e8f2c454b60bfc19bf2479734fa",
    "deepnote_cell_type": "text-cell-h2",
    "formattedRanges": []
   },
   "source": [
    "## Data Loading and Preprocessing"
   ]
  },
  {
   "cell_type": "code",
   "execution_count": null,
   "metadata": {
    "cell_id": "8246c20654c9454eb7c85b1d1d5447de",
    "deepnote_cell_type": "code",
    "execution_context_id": "d0fe3484-a288-42ec-b206-981a92786ed4",
    "execution_millis": 546,
    "execution_start": 1732532036891,
    "source_hash": "30a3972"
   },
   "outputs": [
    {
     "data": {
      "text/plain": [
       "{'symbol': ['HE', 'CRS', 'BB', 'TECK', 'AGF'],\n",
       " 'publishedDate': ['2023-10-04T21:54:28.000Z',\n",
       "  '2023-10-04T21:40:00.000Z',\n",
       "  '2023-10-04T21:34:09.000Z',\n",
       "  '2023-10-04T21:17:00.000Z',\n",
       "  '2023-10-04T21:13:38.000Z'],\n",
       " 'title': ['HE REMINDER: Kessler Topaz Meltzer & Check, LLP Reminds Hawaiian Electric Industries, Inc. (HE) Shareholders of Securities Fraud Class Action Lawsuit and Encourages Investors with Substantial Losses to Contact the Firm',\n",
       "  'Carpenter Technology Announces Conference Call and Webcast',\n",
       "  \"What's Going On With BlackBerry Stock After Hours?\",\n",
       "  'Teck to Release Third Quarter 2023 Results on October 24, 2023',\n",
       "  'AGF Reports September 2023 Assets Under Management and Fee-Earning Assets'],\n",
       " 'image': ['/next-assets/images/schema-image-default.png',\n",
       "  'https://ml.globenewswire.com/Resource/Download/7c55611a-3a49-4ccf-ba73-ce17859753db',\n",
       "  'https://cdn.benzinga.com/files/images/story/2023/10/04/noc_10.jpg?optimize=medium&dpr=1&auto=webp&height=800&width=1456&fit=crop',\n",
       "  'https://ml.globenewswire.com/Resource/Download/4d859d20-8bc9-4aa6-9ff8-006dbd1d33f2',\n",
       "  '/next-assets/images/schema-image-default.png'],\n",
       " 'site': ['benzinga',\n",
       "  'globenewswire',\n",
       "  'benzinga',\n",
       "  'globenewswire',\n",
       "  'benzinga'],\n",
       " 'text': ['RADNOR, Pa., Oct. 04, 2023 (GLOBE NEWSWIRE) -- The law firm of Kessler Topaz Meltzer & Check, LLP (www.ktmc.com) informs investors that a securities class action lawsuit has been filed in the United States District Court for the Northern District of California against Hawaiian Electric Industries, Inc. (\"Hawaiian Electric\") (NYSE:HE). The action charges Hawaiian Electric with violations of the federal securities laws, including omissions and fraudulent misrepresentations relating to the compa...',\n",
       "  'PHILADELPHIA, Oct. 04, 2023 (GLOBE NEWSWIRE) -- Carpenter Technology Corporation (NYSE: CRS) plans to host a conference call and webcast on Thursday, October 26, 2023 at 10:00 a.m. ET to discuss the results of operations for the first quarter of fiscal year 2024, ended September 30, 2023. The call and webcast will follow the release of first quarter fiscal 2024 financial results before the market opens on Thursday, October 26, 2023...',\n",
       "  \"BlackBerry Ltd (NYSE: BB) shares are trading higher in Wednesday's after-hours session after the company announced intent to separate its business units. What Happened: As a result of the company's previously announced strategic review to drive shareholder value, BlackBerry's board determined that separating its IoT and Cybersecurity businesses is the best strategy for the company. BlackBerry plans to pursue an IPO for its IoT business sometime in the ...Full story available on Benzinga.com...\",\n",
       "  'VANCOUVER, British Columbia, Oct. 04, 2023 (GLOBE NEWSWIRE) -- Teck Resources Limited (TSX: TECK.A and TECK.B, NYSE: TECK) (“Teck”) will release its third quarter 2023 earnings results before market open on Tuesday, October 24, 2023...',\n",
       "  'TORONTO, Oct. 04, 2023 (GLOBE NEWSWIRE) -- AGF Management Limited reported total assets under management (AUM) and fee-earning assets1 of $41.0 billion as at September 30, 2023. AUM ($ billions) September 30, 2023 August 31, 2023 % ChangeMonth-Over-Month September 30, 2022 % Change Year-Over-Year Total Mutual Fund (including retail pooled funds) $23.5 $24.4 $21.7 Exchange-traded funds + Separately managed accounts $1.4 $1.3 $1.1 Segregated accounts and Sub-advisory + AGF Priva...'],\n",
       " 'url': ['https://www.benzinga.com/pressreleases/23/10/g35098825/he-reminder-kessler-topaz-meltzer-check-llp-reminds-hawaiian-electric-industries-inc-he-shareholde',\n",
       "  'https://www.globenewswire.com/news-release/2023/10/04/2754991/0/en/Carpenter-Technology-Announces-Conference-Call-and-Webcast.html',\n",
       "  'https://www.benzinga.com/news/23/10/35098537/whats-going-on-with-blackberry-stock-after-hours',\n",
       "  'https://www.globenewswire.com/news-release/2023/10/04/2754989/0/en/Teck-to-Release-Third-Quarter-2023-Results-on-October-24-2023.html',\n",
       "  'https://www.benzinga.com/pressreleases/23/10/g35098361/agf-reports-september-2023-assets-under-management-and-fee-earning-assets'],\n",
       " 'sentiment': ['Negative', 'Positive', 'Positive', 'Positive', 'Positive'],\n",
       " 'sentimentScore': [-0.6417, 0.4767, 0.9895, 0.83, 0.9768]}"
      ]
     },
     "execution_count": 22,
     "metadata": {},
     "output_type": "execute_result"
    }
   ],
   "source": [
    "from datasets import load_dataset\n",
    "from transformers import pipeline\n",
    "import pandas as pd\n",
    "\n",
    "ds2 = load_dataset(\"NickyNicky/finance-financialmodelingprep-stock-news-sentiments-rss-feed\", split=\"train\")\n",
    "ds2[:5]"
   ]
  },
  {
   "cell_type": "code",
   "execution_count": null,
   "metadata": {
    "cell_id": "f62caeb493cd45f6bd038fa832634b15",
    "deepnote_cell_type": "code",
    "execution_context_id": "d0fe3484-a288-42ec-b206-981a92786ed4",
    "execution_millis": 10659,
    "execution_start": 1732532037481,
    "source_hash": "d0163bab"
   },
   "outputs": [
    {
     "data": {
      "application/vnd.deepnote.dataframe.v3+json": {
       "column_count": 4,
       "columns": [
        {
         "dtype": "object",
         "name": "symbol",
         "stats": {
          "categories": [
           {
            "count": 290,
            "name": "INTC"
           }
          ],
          "nan_count": 0,
          "unique_count": 1
         }
        },
        {
         "dtype": "object",
         "name": "publishedDate",
         "stats": {
          "categories": [
           {
            "count": 1,
            "name": "2023-10-04T20:20:37.000Z"
           },
           {
            "count": 1,
            "name": "2023-10-04T13:57:43.000Z"
           },
           {
            "count": 288,
            "name": "288 others"
           }
          ],
          "nan_count": 0,
          "unique_count": 290
         }
        },
        {
         "dtype": "object",
         "name": "text",
         "stats": {
          "categories": [
           {
            "count": 2,
            "name": "This article was first featured in Yahoo Finance Tech, a weekly newsletter highlighting our original content on the industry. Get it sent directly to your inbox every Wednesday. Subscribe."
           },
           {
            "count": 2,
            "name": "Intel                   ‘s disappointing results and warning of a contracting data-center market knocked the stock in some of its key rivals on Friday. Intel                    (ticker: INTC) shares were down 10% in premarket trading after the chip maker missed expectations for the fourth quarter and provided a revenue forecast for its March quarter far below expectations. Subscribe                                or                              Sign In                            to continue read"
           },
           {
            "count": 286,
            "name": "286 others"
           }
          ],
          "nan_count": 0,
          "unique_count": 288
         }
        },
        {
         "dtype": "object",
         "name": "sentiment",
         "stats": {
          "categories": [
           {
            "count": 244,
            "name": "Positive"
           },
           {
            "count": 41,
            "name": "Negative"
           },
           {
            "count": 5,
            "name": "Neutral"
           }
          ],
          "nan_count": 0,
          "unique_count": 3
         }
        },
        {
         "dtype": "int64",
         "name": "_deepnote_index_column"
        }
       ],
       "row_count": 290,
       "rows": [
        {
         "_deepnote_index_column": 26,
         "publishedDate": "2023-10-04T20:20:37.000Z",
         "sentiment": "Positive",
         "symbol": "INTC",
         "text": "Rosenblatt analyst Hans Mosesmann reiterated Intel Corp (NASDAQ: INTC) with a Sell and a $17 price target. Intel shared plans to spin off its Programmable Solutions Group business as a standalone business, giving it flexibility for accelerated growth and helping it to compete more effectively. The move is more tactical than strategic, as Intel is cash-starved, the analyst writes. Intel mismanaged Altera early on and has only recently begun a reinvestment and focus initiative likely related to th..."
        },
        {
         "_deepnote_index_column": 178,
         "publishedDate": "2023-10-04T13:57:43.000Z",
         "sentiment": "Positive",
         "symbol": "INTC",
         "text": "Amid an uninspiring day on Wall Street, shares of athletic apparel stalwart Nike (NYSE:NKE) did little to change the atmosphere, gaining under 1%. However, an insider acquisition of NKE stock raised eyebrows for its relative rarity. In addition, the tacit endorsement of the business coincides with seemingly positive action in the options market. According to a filing with the U.S. Securities and Exchange Commission (SEC), Director Bob Swan acquired 13,072 shares of NKE stock on Oct. 2. Further,..."
        },
        {
         "_deepnote_index_column": 499,
         "publishedDate": "2023-10-03T20:33:45.000Z",
         "sentiment": "Positive",
         "symbol": "INTC",
         "text": "Intel Corp (NASDAQ: INTC) shares are trading higher in Tuesday's after-hours session after the company announced that it plans to operate its Programmable Solutions Group as a standalone business. What To Know: Intel said it intends to separate its Programmable Solutions Group operations as its own business, giving it the flexibility it needs to accelerate growth and more effectively compete in the industry. Sandra Rivera, executive vice president at Intel, will become the CEO of Intel's Progra..."
        },
        {
         "_deepnote_index_column": 1398,
         "publishedDate": "2023-10-02T06:45:19.000Z",
         "sentiment": "Positive",
         "symbol": "INTC",
         "text": "It’s an understatement to say that Intel (NASDAQ:INTC) stock has a long way to go. The company clearly has a lot on its plate. To get back on track and spark a rebound for INTC stock, the chip maker’s management is pursuing myriad turnaround efforts. However, based on several positive developments, the company is clearly making progress with its turnaround plans. The market seemingly agrees, as seen from INTC’s more than 20% jump higher over the past six months. While not for certain, if Intel c..."
        },
        {
         "_deepnote_index_column": 1472,
         "publishedDate": "2023-10-01T14:42:39.000Z",
         "sentiment": "Positive",
         "symbol": "INTC",
         "text": "The case for investing in growth stocks has been muddled for quite some time. For example, 2022 was a terrible year for growth stocks across the board. Rapid rate hikes beginning in March of that year caused their downturn. The negative correlation between rising interest rates and high-performing growth stocks is well known: The price decline wasn’t a surprise. This year, growth stocks have been harder to predict. We’re constantly pulled in both directions by the threat of additional rate h..."
        },
        {
         "_deepnote_index_column": 2086,
         "publishedDate": "2023-09-28T19:54:39.000Z",
         "sentiment": "Positive",
         "symbol": "INTC",
         "text": "The top Dow stocks serve as a bellwether for the health of the U.S. economy. This year, the Dow has trailed the other two major U.S. indices with a 1% gain. Meanwhile, the tech-heavy NASDAQ gained 25% year to date, as the S&P 500 index shot up about 11%. While the rally has not yet favored the more mature and established blue-chip stocks that comprise the 30 names in the Dow, that could soon change. So, we wanted to take a quick look at the very Dow stocks to strongly consider. Dow Stocks: Appl..."
        },
        {
         "_deepnote_index_column": 2247,
         "publishedDate": "2023-09-28T14:03:09.000Z",
         "sentiment": "Positive",
         "symbol": "INTC",
         "text": "The Dow 30 is a select group of stocks representing prominent companies in a variety of industries and sectors. A common characteristic of Dow stocks is their status as blue-chip stocks. Since blue-chip stocks are known for their stability, Dow stocks wouldn’t normally be on a list of stocks to sell. However, many of the stocks on the list do serve as proxies for the broader market. And with all the volatility in the market today, it’s not surprising that some of these 30 stocks might not be gre..."
        },
        {
         "_deepnote_index_column": 2488,
         "publishedDate": "2023-09-28T08:53:15.000Z",
         "sentiment": "Positive",
         "symbol": "INTC",
         "text": "In the world of technology, some stocks shine brighter than others, even amidst challenges and uncertainties. The article delves into the fascinating progression of three tech giants as they embark on remarkable turnarounds propelled by innovative strategies and cutting-edge technology. It has also led to the rise of turnaround stocks to buy. The first is a social media behemoth with an astonishing 3.8 billion monthly active users. It is not merely a platform for connecting people but a robust e..."
        },
        {
         "_deepnote_index_column": 2598,
         "publishedDate": "2023-09-27T22:15:30.000Z",
         "sentiment": "Positive",
         "symbol": "INTC",
         "text": "Wall Street has been very upset about the results of the Federal Reserve meeting earlier this month. However, there are still many reasons to be optimistic about U.S. stocks — especially safer large-cap stocks — going forward. For one, I don’t think that the results of the meeting were actually as hawkish as the Street believes. At the meeting, seven of the 19 Fed members, or nearly 40% of them, did not expect the central bank to increase rates again this year. In addition, we have to consider..."
        },
        {
         "_deepnote_index_column": 4106,
         "publishedDate": "2023-09-25T07:00:15.000Z",
         "sentiment": "Positive",
         "symbol": "INTC",
         "text": "There’s nothing wrong with taking a flyer on an up-and-coming stock. Sometimes penny stocks can work, but a good portfolio likely has its fair share of great blue-chip stocks as well to provide a stable foundation. Blue-chip stocks are those that belong to companies that are among the clear leaders in their industries and sectors, with a solid position, if not a dominant competitive advantage. They almost always are large-cap stocks because they’ve matured enough to have a market capitalization..."
        }
       ]
      },
      "text/html": [
       "<div>\n",
       "<style scoped>\n",
       "    .dataframe tbody tr th:only-of-type {\n",
       "        vertical-align: middle;\n",
       "    }\n",
       "\n",
       "    .dataframe tbody tr th {\n",
       "        vertical-align: top;\n",
       "    }\n",
       "\n",
       "    .dataframe thead th {\n",
       "        text-align: right;\n",
       "    }\n",
       "</style>\n",
       "<table border=\"1\" class=\"dataframe\">\n",
       "  <thead>\n",
       "    <tr style=\"text-align: right;\">\n",
       "      <th></th>\n",
       "      <th>symbol</th>\n",
       "      <th>publishedDate</th>\n",
       "      <th>text</th>\n",
       "      <th>sentiment</th>\n",
       "    </tr>\n",
       "  </thead>\n",
       "  <tbody>\n",
       "    <tr>\n",
       "      <th>26</th>\n",
       "      <td>INTC</td>\n",
       "      <td>2023-10-04T20:20:37.000Z</td>\n",
       "      <td>Rosenblatt analyst Hans Mosesmann reiterated I...</td>\n",
       "      <td>Positive</td>\n",
       "    </tr>\n",
       "    <tr>\n",
       "      <th>178</th>\n",
       "      <td>INTC</td>\n",
       "      <td>2023-10-04T13:57:43.000Z</td>\n",
       "      <td>Amid an uninspiring day on Wall Street, shares...</td>\n",
       "      <td>Positive</td>\n",
       "    </tr>\n",
       "    <tr>\n",
       "      <th>499</th>\n",
       "      <td>INTC</td>\n",
       "      <td>2023-10-03T20:33:45.000Z</td>\n",
       "      <td>Intel Corp (NASDAQ: INTC) shares are trading h...</td>\n",
       "      <td>Positive</td>\n",
       "    </tr>\n",
       "    <tr>\n",
       "      <th>1398</th>\n",
       "      <td>INTC</td>\n",
       "      <td>2023-10-02T06:45:19.000Z</td>\n",
       "      <td>It’s an understatement to say that Intel (NASD...</td>\n",
       "      <td>Positive</td>\n",
       "    </tr>\n",
       "    <tr>\n",
       "      <th>1472</th>\n",
       "      <td>INTC</td>\n",
       "      <td>2023-10-01T14:42:39.000Z</td>\n",
       "      <td>The case for investing in growth stocks has be...</td>\n",
       "      <td>Positive</td>\n",
       "    </tr>\n",
       "    <tr>\n",
       "      <th>...</th>\n",
       "      <td>...</td>\n",
       "      <td>...</td>\n",
       "      <td>...</td>\n",
       "      <td>...</td>\n",
       "    </tr>\n",
       "    <tr>\n",
       "      <th>133053</th>\n",
       "      <td>INTC</td>\n",
       "      <td>2022-09-06T10:40:32.000Z</td>\n",
       "      <td>Source: Shutterstock Today, a number of chip s...</td>\n",
       "      <td>Positive</td>\n",
       "    </tr>\n",
       "    <tr>\n",
       "      <th>133056</th>\n",
       "      <td>INTC</td>\n",
       "      <td>2022-09-06T10:33:56.000Z</td>\n",
       "      <td>Semiconductor stocks rose over the weekend aft...</td>\n",
       "      <td>Positive</td>\n",
       "    </tr>\n",
       "    <tr>\n",
       "      <th>136361</th>\n",
       "      <td>INTC</td>\n",
       "      <td>2022-08-26T16:28:00.000Z</td>\n",
       "      <td>Shares of                        Intel        ...</td>\n",
       "      <td>Negative</td>\n",
       "    </tr>\n",
       "    <tr>\n",
       "      <th>136422</th>\n",
       "      <td>INTC</td>\n",
       "      <td>2022-08-26T14:25:54.000Z</td>\n",
       "      <td>Intel (NASDAQ:INTC) stock is in focus followin...</td>\n",
       "      <td>Positive</td>\n",
       "    </tr>\n",
       "    <tr>\n",
       "      <th>137955</th>\n",
       "      <td>INTC</td>\n",
       "      <td>2022-08-23T14:17:59.000Z</td>\n",
       "      <td>© REUTERS Intel (INTC) Signs Deal with Brookfi...</td>\n",
       "      <td>Positive</td>\n",
       "    </tr>\n",
       "  </tbody>\n",
       "</table>\n",
       "<p>290 rows × 4 columns</p>\n",
       "</div>"
      ],
      "text/plain": [
       "       symbol             publishedDate  \\\n",
       "26       INTC  2023-10-04T20:20:37.000Z   \n",
       "178      INTC  2023-10-04T13:57:43.000Z   \n",
       "499      INTC  2023-10-03T20:33:45.000Z   \n",
       "1398     INTC  2023-10-02T06:45:19.000Z   \n",
       "1472     INTC  2023-10-01T14:42:39.000Z   \n",
       "...       ...                       ...   \n",
       "133053   INTC  2022-09-06T10:40:32.000Z   \n",
       "133056   INTC  2022-09-06T10:33:56.000Z   \n",
       "136361   INTC  2022-08-26T16:28:00.000Z   \n",
       "136422   INTC  2022-08-26T14:25:54.000Z   \n",
       "137955   INTC  2022-08-23T14:17:59.000Z   \n",
       "\n",
       "                                                     text sentiment  \n",
       "26      Rosenblatt analyst Hans Mosesmann reiterated I...  Positive  \n",
       "178     Amid an uninspiring day on Wall Street, shares...  Positive  \n",
       "499     Intel Corp (NASDAQ: INTC) shares are trading h...  Positive  \n",
       "1398    It’s an understatement to say that Intel (NASD...  Positive  \n",
       "1472    The case for investing in growth stocks has be...  Positive  \n",
       "...                                                   ...       ...  \n",
       "133053  Source: Shutterstock Today, a number of chip s...  Positive  \n",
       "133056  Semiconductor stocks rose over the weekend aft...  Positive  \n",
       "136361  Shares of                        Intel        ...  Negative  \n",
       "136422  Intel (NASDAQ:INTC) stock is in focus followin...  Positive  \n",
       "137955  © REUTERS Intel (INTC) Signs Deal with Brookfi...  Positive  \n",
       "\n",
       "[290 rows x 4 columns]"
      ]
     },
     "execution_count": 23,
     "metadata": {},
     "output_type": "execute_result"
    }
   ],
   "source": [
    "ds2 = pd.DataFrame(ds2)\n",
    "df2 = ds2.drop(columns=[\"image\", \"title\", \"image\", \"site\", \"url\", \"sentimentScore\"], axis=1)\n",
    "\n",
    "#Filter the symbol\n",
    "df2 = df2[df2[\"symbol\"] == \"INTC\"]\n",
    "df2"
   ]
  },
  {
   "cell_type": "code",
   "execution_count": 24,
   "metadata": {
    "cell_id": "d0a8623bbb184e5e9b716db216012665",
    "deepnote_cell_type": "code",
    "execution_context_id": "d0fe3484-a288-42ec-b206-981a92786ed4",
    "execution_millis": 0,
    "execution_start": 1732532048185,
    "source_hash": "e80acb41"
   },
   "outputs": [
    {
     "data": {
      "text/plain": [
       "sentiment\n",
       "Positive    244\n",
       "Negative     41\n",
       "Neutral       5\n",
       "Name: count, dtype: int64"
      ]
     },
     "execution_count": 24,
     "metadata": {},
     "output_type": "execute_result"
    }
   ],
   "source": [
    "df2['sentiment'].value_counts()"
   ]
  },
  {
   "cell_type": "markdown",
   "metadata": {
    "cell_id": "58745d92cf274f7398ee0ec5dacfebdc",
    "deepnote_cell_type": "text-cell-h2",
    "formattedRanges": []
   },
   "source": [
    "## Data Loading and Preprocessing"
   ]
  },
  {
   "cell_type": "code",
   "execution_count": 25,
   "metadata": {
    "cell_id": "160b9342d3114438aa416101a9d0700a",
    "deepnote_cell_type": "code",
    "execution_context_id": "d0fe3484-a288-42ec-b206-981a92786ed4",
    "execution_millis": 714,
    "execution_start": 1732532048233,
    "source_hash": "2a73340"
   },
   "outputs": [],
   "source": [
    "from transformers import pipeline\n",
    "\n",
    "sentiment_analyzer_ft = pipeline(\"text-classification\", model=\"msr2903/mrm8488-distilroberta-fine-tuned-financial-sentiment\")"
   ]
  },
  {
   "cell_type": "code",
   "execution_count": null,
   "metadata": {
    "cell_id": "684896886ffa40188e6886ed73ed2dd5",
    "deepnote_cell_type": "code",
    "execution_context_id": "d0fe3484-a288-42ec-b206-981a92786ed4",
    "execution_millis": 152902,
    "execution_start": 1732532048997,
    "source_hash": "2526cf01"
   },
   "outputs": [
    {
     "data": {
      "text/plain": [
       "[{'label': 'positive', 'score': 0.9995642304420471},\n",
       " {'label': 'positive', 'score': 0.999630331993103},\n",
       " {'label': 'positive', 'score': 0.9996618032455444},\n",
       " {'label': 'positive', 'score': 0.9995506405830383},\n",
       " {'label': 'positive', 'score': 0.9995301961898804},\n",
       " {'label': 'positive', 'score': 0.9996601343154907},\n",
       " {'label': 'positive', 'score': 0.999508261680603},\n",
       " {'label': 'positive', 'score': 0.99967360496521},\n",
       " {'label': 'positive', 'score': 0.9994412064552307},\n",
       " {'label': 'positive', 'score': 0.9996708631515503},\n",
       " {'label': 'positive', 'score': 0.9996740818023682},\n",
       " {'label': 'positive', 'score': 0.9995967745780945},\n",
       " {'label': 'positive', 'score': 0.9996658563613892},\n",
       " {'label': 'positive', 'score': 0.999340832233429},\n",
       " {'label': 'positive', 'score': 0.9979454874992371},\n",
       " {'label': 'positive', 'score': 0.9987840056419373},\n",
       " {'label': 'positive', 'score': 0.9995200634002686},\n",
       " {'label': 'positive', 'score': 0.9988464117050171},\n",
       " {'label': 'positive', 'score': 0.9995087385177612},\n",
       " {'label': 'positive', 'score': 0.9995484948158264},\n",
       " {'label': 'positive', 'score': 0.9996618032455444},\n",
       " {'label': 'positive', 'score': 0.9934818148612976},\n",
       " {'label': 'positive', 'score': 0.9995976090431213},\n",
       " {'label': 'positive', 'score': 0.9991376399993896},\n",
       " {'label': 'positive', 'score': 0.9996402263641357},\n",
       " {'label': 'positive', 'score': 0.9996687173843384},\n",
       " {'label': 'positive', 'score': 0.9988436698913574},\n",
       " {'label': 'positive', 'score': 0.9995354413986206},\n",
       " {'label': 'positive', 'score': 0.9992928504943848},\n",
       " {'label': 'positive', 'score': 0.9993051290512085},\n",
       " {'label': 'negative', 'score': 0.5669065713882446},\n",
       " {'label': 'positive', 'score': 0.9950944185256958},\n",
       " {'label': 'positive', 'score': 0.9994155168533325},\n",
       " {'label': 'positive', 'score': 0.9996588230133057},\n",
       " {'label': 'positive', 'score': 0.9968673586845398},\n",
       " {'label': 'positive', 'score': 0.9996775388717651},\n",
       " {'label': 'positive', 'score': 0.999659538269043},\n",
       " {'label': 'positive', 'score': 0.9996762275695801},\n",
       " {'label': 'positive', 'score': 0.9994986057281494},\n",
       " {'label': 'positive', 'score': 0.9994171857833862},\n",
       " {'label': 'positive', 'score': 0.9994856119155884},\n",
       " {'label': 'positive', 'score': 0.9981731176376343},\n",
       " {'label': 'positive', 'score': 0.9996671676635742},\n",
       " {'label': 'positive', 'score': 0.9996050000190735},\n",
       " {'label': 'positive', 'score': 0.9995393753051758},\n",
       " {'label': 'positive', 'score': 0.9965299963951111},\n",
       " {'label': 'positive', 'score': 0.9996374845504761},\n",
       " {'label': 'positive', 'score': 0.9988258481025696},\n",
       " {'label': 'positive', 'score': 0.9996533393859863},\n",
       " {'label': 'positive', 'score': 0.999677300453186},\n",
       " {'label': 'positive', 'score': 0.9996778964996338},\n",
       " {'label': 'positive', 'score': 0.9995179176330566},\n",
       " {'label': 'positive', 'score': 0.9996693134307861},\n",
       " {'label': 'positive', 'score': 0.999671459197998},\n",
       " {'label': 'positive', 'score': 0.9996585845947266},\n",
       " {'label': 'positive', 'score': 0.9725924730300903},\n",
       " {'label': 'positive', 'score': 0.9992006421089172},\n",
       " {'label': 'positive', 'score': 0.9983566403388977},\n",
       " {'label': 'positive', 'score': 0.9994200468063354},\n",
       " {'label': 'positive', 'score': 0.999505877494812},\n",
       " {'label': 'positive', 'score': 0.9990383386611938},\n",
       " {'label': 'positive', 'score': 0.9996641874313354},\n",
       " {'label': 'positive', 'score': 0.9995717406272888},\n",
       " {'label': 'positive', 'score': 0.9995203018188477},\n",
       " {'label': 'neutral', 'score': 0.9977728724479675},\n",
       " {'label': 'positive', 'score': 0.9989187717437744},\n",
       " {'label': 'positive', 'score': 0.9985494017601013},\n",
       " {'label': 'positive', 'score': 0.9913163185119629},\n",
       " {'label': 'positive', 'score': 0.9988729357719421},\n",
       " {'label': 'positive', 'score': 0.9897246360778809},\n",
       " {'label': 'positive', 'score': 0.9957215785980225},\n",
       " {'label': 'positive', 'score': 0.9976800084114075},\n",
       " {'label': 'positive', 'score': 0.9776830077171326},\n",
       " {'label': 'positive', 'score': 0.9987738728523254},\n",
       " {'label': 'positive', 'score': 0.9996168613433838},\n",
       " {'label': 'positive', 'score': 0.9995930790901184},\n",
       " {'label': 'positive', 'score': 0.9995812773704529},\n",
       " {'label': 'positive', 'score': 0.9930770397186279},\n",
       " {'label': 'positive', 'score': 0.9995341300964355},\n",
       " {'label': 'positive', 'score': 0.9982068538665771},\n",
       " {'label': 'positive', 'score': 0.9988258481025696},\n",
       " {'label': 'positive', 'score': 0.9992548823356628},\n",
       " {'label': 'positive', 'score': 0.9978849291801453},\n",
       " {'label': 'negative', 'score': 0.9940115809440613},\n",
       " {'label': 'positive', 'score': 0.9996429681777954},\n",
       " {'label': 'positive', 'score': 0.9996424913406372},\n",
       " {'label': 'negative', 'score': 0.9977117776870728},\n",
       " {'label': 'positive', 'score': 0.9996747970581055},\n",
       " {'label': 'negative', 'score': 0.9974749684333801},\n",
       " {'label': 'positive', 'score': 0.9996660947799683},\n",
       " {'label': 'positive', 'score': 0.9993274211883545},\n",
       " {'label': 'positive', 'score': 0.9994458556175232},\n",
       " {'label': 'positive', 'score': 0.9993778467178345},\n",
       " {'label': 'positive', 'score': 0.9996498823165894},\n",
       " {'label': 'positive', 'score': 0.9996321201324463},\n",
       " {'label': 'positive', 'score': 0.9996635913848877},\n",
       " {'label': 'positive', 'score': 0.9988460540771484},\n",
       " {'label': 'positive', 'score': 0.9978779554367065},\n",
       " {'label': 'positive', 'score': 0.9996227025985718},\n",
       " {'label': 'positive', 'score': 0.9995667338371277},\n",
       " {'label': 'positive', 'score': 0.9995905756950378},\n",
       " {'label': 'positive', 'score': 0.9992042183876038},\n",
       " {'label': 'negative', 'score': 0.997643768787384},\n",
       " {'label': 'positive', 'score': 0.9994235038757324},\n",
       " {'label': 'positive', 'score': 0.9995025396347046},\n",
       " {'label': 'positive', 'score': 0.9996575117111206},\n",
       " {'label': 'positive', 'score': 0.9996582269668579},\n",
       " {'label': 'positive', 'score': 0.9992865920066833},\n",
       " {'label': 'positive', 'score': 0.999171257019043},\n",
       " {'label': 'positive', 'score': 0.998738706111908},\n",
       " {'label': 'positive', 'score': 0.9993945360183716},\n",
       " {'label': 'positive', 'score': 0.9980484247207642},\n",
       " {'label': 'positive', 'score': 0.9993036985397339},\n",
       " {'label': 'positive', 'score': 0.9983465671539307},\n",
       " {'label': 'positive', 'score': 0.9995817542076111},\n",
       " {'label': 'positive', 'score': 0.9987911581993103},\n",
       " {'label': 'positive', 'score': 0.9982941746711731},\n",
       " {'label': 'positive', 'score': 0.9996364116668701},\n",
       " {'label': 'positive', 'score': 0.9995306730270386},\n",
       " {'label': 'positive', 'score': 0.9994128942489624},\n",
       " {'label': 'positive', 'score': 0.9996747970581055},\n",
       " {'label': 'positive', 'score': 0.9996594190597534},\n",
       " {'label': 'positive', 'score': 0.9996261596679688},\n",
       " {'label': 'positive', 'score': 0.9993147850036621},\n",
       " {'label': 'positive', 'score': 0.999421238899231},\n",
       " {'label': 'negative', 'score': 0.9974371194839478},\n",
       " {'label': 'positive', 'score': 0.9996539354324341},\n",
       " {'label': 'positive', 'score': 0.9996691942214966},\n",
       " {'label': 'positive', 'score': 0.9995735287666321},\n",
       " {'label': 'positive', 'score': 0.9994931221008301},\n",
       " {'label': 'negative', 'score': 0.997546374797821},\n",
       " {'label': 'positive', 'score': 0.9994133710861206},\n",
       " {'label': 'positive', 'score': 0.9993226528167725},\n",
       " {'label': 'positive', 'score': 0.9991466999053955},\n",
       " {'label': 'positive', 'score': 0.9995909333229065},\n",
       " {'label': 'positive', 'score': 0.9995465874671936},\n",
       " {'label': 'positive', 'score': 0.9991568326950073},\n",
       " {'label': 'positive', 'score': 0.9996770620346069},\n",
       " {'label': 'positive', 'score': 0.9996631145477295},\n",
       " {'label': 'positive', 'score': 0.9996097683906555},\n",
       " {'label': 'positive', 'score': 0.9992054104804993},\n",
       " {'label': 'positive', 'score': 0.9996614456176758},\n",
       " {'label': 'positive', 'score': 0.9996517896652222},\n",
       " {'label': 'positive', 'score': 0.9994390606880188},\n",
       " {'label': 'positive', 'score': 0.9993191957473755},\n",
       " {'label': 'negative', 'score': 0.9935997724533081},\n",
       " {'label': 'positive', 'score': 0.9992454051971436},\n",
       " {'label': 'positive', 'score': 0.9995787739753723},\n",
       " {'label': 'negative', 'score': 0.9974139928817749},\n",
       " {'label': 'positive', 'score': 0.9992473125457764},\n",
       " {'label': 'positive', 'score': 0.9984519481658936},\n",
       " {'label': 'negative', 'score': 0.9337300062179565},\n",
       " {'label': 'positive', 'score': 0.9996009469032288},\n",
       " {'label': 'positive', 'score': 0.998248815536499},\n",
       " {'label': 'negative', 'score': 0.9962659478187561},\n",
       " {'label': 'positive', 'score': 0.9995749592781067},\n",
       " {'label': 'negative', 'score': 0.9958752989768982},\n",
       " {'label': 'positive', 'score': 0.9996469020843506},\n",
       " {'label': 'negative', 'score': 0.9959606528282166},\n",
       " {'label': 'positive', 'score': 0.9932407140731812},\n",
       " {'label': 'positive', 'score': 0.9975858926773071},\n",
       " {'label': 'positive', 'score': 0.9958828687667847},\n",
       " {'label': 'negative', 'score': 0.982748806476593},\n",
       " {'label': 'positive', 'score': 0.9996455907821655},\n",
       " {'label': 'positive', 'score': 0.9996755123138428},\n",
       " {'label': 'negative', 'score': 0.9962762594223022},\n",
       " {'label': 'positive', 'score': 0.9962416887283325},\n",
       " {'label': 'positive', 'score': 0.999330997467041},\n",
       " {'label': 'positive', 'score': 0.9979199767112732},\n",
       " {'label': 'positive', 'score': 0.9992945194244385},\n",
       " {'label': 'negative', 'score': 0.9964738488197327},\n",
       " {'label': 'negative', 'score': 0.9968051910400391},\n",
       " {'label': 'positive', 'score': 0.9985926747322083},\n",
       " {'label': 'positive', 'score': 0.9996115565299988},\n",
       " {'label': 'positive', 'score': 0.9988952875137329},\n",
       " {'label': 'positive', 'score': 0.9996746778488159},\n",
       " {'label': 'positive', 'score': 0.998969554901123},\n",
       " {'label': 'positive', 'score': 0.9996048808097839},\n",
       " {'label': 'positive', 'score': 0.9994090795516968},\n",
       " {'label': 'positive', 'score': 0.9995777010917664},\n",
       " {'label': 'positive', 'score': 0.9993707537651062},\n",
       " {'label': 'positive', 'score': 0.9974895715713501},\n",
       " {'label': 'positive', 'score': 0.9991692304611206},\n",
       " {'label': 'positive', 'score': 0.9979007244110107},\n",
       " {'label': 'positive', 'score': 0.9991567134857178},\n",
       " {'label': 'positive', 'score': 0.9991023540496826},\n",
       " {'label': 'positive', 'score': 0.9991301894187927},\n",
       " {'label': 'positive', 'score': 0.9994997978210449},\n",
       " {'label': 'positive', 'score': 0.994666337966919},\n",
       " {'label': 'positive', 'score': 0.9995980858802795},\n",
       " {'label': 'positive', 'score': 0.9994722008705139},\n",
       " {'label': 'positive', 'score': 0.9985775947570801},\n",
       " {'label': 'positive', 'score': 0.9942452311515808},\n",
       " {'label': 'negative', 'score': 0.9965509176254272},\n",
       " {'label': 'negative', 'score': 0.9973098039627075},\n",
       " {'label': 'positive', 'score': 0.9996210336685181},\n",
       " {'label': 'positive', 'score': 0.9996598958969116},\n",
       " {'label': 'positive', 'score': 0.9996235370635986},\n",
       " {'label': 'positive', 'score': 0.9996597766876221},\n",
       " {'label': 'positive', 'score': 0.9993090629577637},\n",
       " {'label': 'negative', 'score': 0.9975875616073608},\n",
       " {'label': 'positive', 'score': 0.9991766810417175},\n",
       " {'label': 'positive', 'score': 0.924930989742279},\n",
       " {'label': 'positive', 'score': 0.9991750121116638},\n",
       " {'label': 'positive', 'score': 0.989211916923523},\n",
       " {'label': 'positive', 'score': 0.9973946809768677},\n",
       " {'label': 'negative', 'score': 0.9106044173240662},\n",
       " {'label': 'positive', 'score': 0.999315619468689},\n",
       " {'label': 'negative', 'score': 0.9975036978721619},\n",
       " {'label': 'positive', 'score': 0.9975814819335938},\n",
       " {'label': 'negative', 'score': 0.994282603263855},\n",
       " {'label': 'neutral', 'score': 0.8749421238899231},\n",
       " {'label': 'negative', 'score': 0.9941750168800354},\n",
       " {'label': 'positive', 'score': 0.9809345602989197},\n",
       " {'label': 'negative', 'score': 0.9973288774490356},\n",
       " {'label': 'negative', 'score': 0.9973288774490356},\n",
       " {'label': 'negative', 'score': 0.9945818781852722},\n",
       " {'label': 'positive', 'score': 0.9963165521621704},\n",
       " {'label': 'positive', 'score': 0.9977669715881348},\n",
       " {'label': 'negative', 'score': 0.9964950680732727},\n",
       " {'label': 'negative', 'score': 0.9965456128120422},\n",
       " {'label': 'positive', 'score': 0.9994113445281982},\n",
       " {'label': 'positive', 'score': 0.9971762895584106},\n",
       " {'label': 'neutral', 'score': 0.5497055649757385},\n",
       " {'label': 'positive', 'score': 0.9983296990394592},\n",
       " {'label': 'positive', 'score': 0.9786195158958435},\n",
       " {'label': 'positive', 'score': 0.9996026158332825},\n",
       " {'label': 'positive', 'score': 0.9987896084785461},\n",
       " {'label': 'positive', 'score': 0.9868762493133545},\n",
       " {'label': 'positive', 'score': 0.9993793964385986},\n",
       " {'label': 'positive', 'score': 0.9979567527770996},\n",
       " {'label': 'positive', 'score': 0.9976599216461182},\n",
       " {'label': 'positive', 'score': 0.9995197057723999},\n",
       " {'label': 'positive', 'score': 0.9979289770126343},\n",
       " {'label': 'positive', 'score': 0.9996078610420227},\n",
       " {'label': 'positive', 'score': 0.9987275004386902},\n",
       " {'label': 'positive', 'score': 0.9968711733818054},\n",
       " {'label': 'positive', 'score': 0.9994657635688782},\n",
       " {'label': 'positive', 'score': 0.9993098974227905},\n",
       " {'label': 'positive', 'score': 0.995272696018219},\n",
       " {'label': 'positive', 'score': 0.9971703886985779},\n",
       " {'label': 'positive', 'score': 0.9992538094520569},\n",
       " {'label': 'positive', 'score': 0.9993423819541931},\n",
       " {'label': 'positive', 'score': 0.9995934367179871},\n",
       " {'label': 'positive', 'score': 0.9972358345985413},\n",
       " {'label': 'negative', 'score': 0.9965450167655945},\n",
       " {'label': 'positive', 'score': 0.9824288487434387},\n",
       " {'label': 'positive', 'score': 0.9995267391204834},\n",
       " {'label': 'negative', 'score': 0.9967767596244812},\n",
       " {'label': 'positive', 'score': 0.9990288019180298},\n",
       " {'label': 'negative', 'score': 0.9967681169509888},\n",
       " {'label': 'positive', 'score': 0.999241828918457},\n",
       " {'label': 'positive', 'score': 0.9994089603424072},\n",
       " {'label': 'positive', 'score': 0.9975622892379761},\n",
       " {'label': 'positive', 'score': 0.999271810054779},\n",
       " {'label': 'positive', 'score': 0.9992788434028625},\n",
       " {'label': 'negative', 'score': 0.9974082112312317},\n",
       " {'label': 'positive', 'score': 0.9976662397384644},\n",
       " {'label': 'positive', 'score': 0.7546799778938293},\n",
       " {'label': 'positive', 'score': 0.9991651773452759},\n",
       " {'label': 'positive', 'score': 0.9995191097259521},\n",
       " {'label': 'positive', 'score': 0.9993391633033752},\n",
       " {'label': 'positive', 'score': 0.9994833469390869},\n",
       " {'label': 'positive', 'score': 0.9996408224105835},\n",
       " {'label': 'positive', 'score': 0.9993927478790283},\n",
       " {'label': 'positive', 'score': 0.9995554089546204},\n",
       " {'label': 'negative', 'score': 0.9794889688491821},\n",
       " {'label': 'negative', 'score': 0.99613356590271},\n",
       " {'label': 'positive', 'score': 0.9733818769454956},\n",
       " {'label': 'positive', 'score': 0.9996473789215088},\n",
       " {'label': 'negative', 'score': 0.9976409673690796},\n",
       " {'label': 'negative', 'score': 0.9972152709960938},\n",
       " {'label': 'negative', 'score': 0.9971944093704224},\n",
       " {'label': 'positive', 'score': 0.9977129697799683},\n",
       " {'label': 'positive', 'score': 0.9994028806686401},\n",
       " {'label': 'positive', 'score': 0.9991820454597473},\n",
       " {'label': 'positive', 'score': 0.9994931221008301},\n",
       " {'label': 'positive', 'score': 0.9989978671073914},\n",
       " {'label': 'positive', 'score': 0.9941264390945435},\n",
       " {'label': 'positive', 'score': 0.9777307510375977},\n",
       " {'label': 'positive', 'score': 0.9992157220840454},\n",
       " {'label': 'positive', 'score': 0.9854251742362976},\n",
       " {'label': 'negative', 'score': 0.9967014193534851},\n",
       " {'label': 'positive', 'score': 0.9980984330177307},\n",
       " {'label': 'negative', 'score': 0.9882615208625793},\n",
       " {'label': 'positive', 'score': 0.999504804611206},\n",
       " {'label': 'positive', 'score': 0.9994148015975952},\n",
       " {'label': 'negative', 'score': 0.9963789582252502},\n",
       " {'label': 'positive', 'score': 0.9996695518493652},\n",
       " {'label': 'positive', 'score': 0.9996212720870972}]"
      ]
     },
     "execution_count": 26,
     "metadata": {},
     "output_type": "execute_result"
    }
   ],
   "source": [
    "def preprocess_text(text):\n",
    "    text = text.lower()\n",
    "    text = text.strip()\n",
    "    return text\n",
    "\n",
    "sample_df_text2 = df2[\"text\"].apply(preprocess_text)\n",
    "\n",
    "text_list_ft = sample_df_text2.tolist()\n",
    "\n",
    "results_ft = sentiment_analyzer_ft(text_list_ft)\n",
    "results_ft"
   ]
  },
  {
   "cell_type": "markdown",
   "metadata": {
    "cell_id": "fdfc6b929b0149f5a92116c0df5e098c",
    "deepnote_cell_type": "text-cell-h2",
    "formattedRanges": []
   },
   "source": [
    "## Results"
   ]
  },
  {
   "cell_type": "code",
   "execution_count": null,
   "metadata": {
    "cell_id": "6783ec2ca69747ab9446921abd22abf9",
    "deepnote_cell_type": "code",
    "execution_context_id": "d0fe3484-a288-42ec-b206-981a92786ed4",
    "execution_millis": 12,
    "execution_start": 1732532201966,
    "source_hash": "a10f93"
   },
   "outputs": [
    {
     "data": {
      "application/vnd.deepnote.dataframe.v3+json": {
       "column_count": 3,
       "columns": [
        {
         "dtype": "object",
         "name": "True Label",
         "stats": {
          "categories": [
           {
            "count": 244,
            "name": "positive"
           },
           {
            "count": 41,
            "name": "negative"
           },
           {
            "count": 5,
            "name": "neutral"
           }
          ],
          "nan_count": 0,
          "unique_count": 3
         }
        },
        {
         "dtype": "object",
         "name": "Predicted Label",
         "stats": {
          "categories": [
           {
            "count": 246,
            "name": "positive"
           },
           {
            "count": 41,
            "name": "negative"
           },
           {
            "count": 3,
            "name": "neutral"
           }
          ],
          "nan_count": 0,
          "unique_count": 3
         }
        },
        {
         "dtype": "float64",
         "name": "Confidence Score",
         "stats": {
          "histogram": [
           {
            "bin_end": 0.5947027981281281,
            "bin_start": 0.5497055649757385,
            "count": 2
           },
           {
            "bin_end": 0.6397000312805176,
            "bin_start": 0.5947027981281281,
            "count": 0
           },
           {
            "bin_end": 0.6846972644329071,
            "bin_start": 0.6397000312805176,
            "count": 0
           },
           {
            "bin_end": 0.7296944975852966,
            "bin_start": 0.6846972644329071,
            "count": 0
           },
           {
            "bin_end": 0.7746917307376862,
            "bin_start": 0.7296944975852966,
            "count": 1
           },
           {
            "bin_end": 0.8196889638900757,
            "bin_start": 0.7746917307376862,
            "count": 0
           },
           {
            "bin_end": 0.8646861970424653,
            "bin_start": 0.8196889638900757,
            "count": 0
           },
           {
            "bin_end": 0.9096834301948548,
            "bin_start": 0.8646861970424653,
            "count": 1
           },
           {
            "bin_end": 0.9546806633472442,
            "bin_start": 0.9096834301948548,
            "count": 3
           },
           {
            "bin_end": 0.9996778964996338,
            "bin_start": 0.9546806633472442,
            "count": 283
           }
          ],
          "max": "0.9996778964996338",
          "min": "0.5497055649757385",
          "nan_count": 0,
          "unique_count": 285
         }
        },
        {
         "dtype": "int64",
         "name": "_deepnote_index_column"
        }
       ],
       "row_count": 290,
       "rows": [
        {
         "Confidence Score": 0.9995642304420471,
         "Predicted Label": "positive",
         "True Label": "positive",
         "_deepnote_index_column": 26
        },
        {
         "Confidence Score": 0.999630331993103,
         "Predicted Label": "positive",
         "True Label": "positive",
         "_deepnote_index_column": 178
        },
        {
         "Confidence Score": 0.9996618032455444,
         "Predicted Label": "positive",
         "True Label": "positive",
         "_deepnote_index_column": 499
        },
        {
         "Confidence Score": 0.9995506405830383,
         "Predicted Label": "positive",
         "True Label": "positive",
         "_deepnote_index_column": 1398
        },
        {
         "Confidence Score": 0.9995301961898804,
         "Predicted Label": "positive",
         "True Label": "positive",
         "_deepnote_index_column": 1472
        },
        {
         "Confidence Score": 0.9996601343154907,
         "Predicted Label": "positive",
         "True Label": "positive",
         "_deepnote_index_column": 2086
        },
        {
         "Confidence Score": 0.999508261680603,
         "Predicted Label": "positive",
         "True Label": "positive",
         "_deepnote_index_column": 2247
        },
        {
         "Confidence Score": 0.99967360496521,
         "Predicted Label": "positive",
         "True Label": "positive",
         "_deepnote_index_column": 2488
        },
        {
         "Confidence Score": 0.9994412064552307,
         "Predicted Label": "positive",
         "True Label": "positive",
         "_deepnote_index_column": 2598
        },
        {
         "Confidence Score": 0.9996708631515503,
         "Predicted Label": "positive",
         "True Label": "positive",
         "_deepnote_index_column": 4106
        }
       ]
      },
      "text/html": [
       "<div>\n",
       "<style scoped>\n",
       "    .dataframe tbody tr th:only-of-type {\n",
       "        vertical-align: middle;\n",
       "    }\n",
       "\n",
       "    .dataframe tbody tr th {\n",
       "        vertical-align: top;\n",
       "    }\n",
       "\n",
       "    .dataframe thead th {\n",
       "        text-align: right;\n",
       "    }\n",
       "</style>\n",
       "<table border=\"1\" class=\"dataframe\">\n",
       "  <thead>\n",
       "    <tr style=\"text-align: right;\">\n",
       "      <th></th>\n",
       "      <th>True Label</th>\n",
       "      <th>Predicted Label</th>\n",
       "      <th>Confidence Score</th>\n",
       "    </tr>\n",
       "  </thead>\n",
       "  <tbody>\n",
       "    <tr>\n",
       "      <th>26</th>\n",
       "      <td>positive</td>\n",
       "      <td>positive</td>\n",
       "      <td>0.999564</td>\n",
       "    </tr>\n",
       "    <tr>\n",
       "      <th>178</th>\n",
       "      <td>positive</td>\n",
       "      <td>positive</td>\n",
       "      <td>0.999630</td>\n",
       "    </tr>\n",
       "    <tr>\n",
       "      <th>499</th>\n",
       "      <td>positive</td>\n",
       "      <td>positive</td>\n",
       "      <td>0.999662</td>\n",
       "    </tr>\n",
       "    <tr>\n",
       "      <th>1398</th>\n",
       "      <td>positive</td>\n",
       "      <td>positive</td>\n",
       "      <td>0.999551</td>\n",
       "    </tr>\n",
       "    <tr>\n",
       "      <th>1472</th>\n",
       "      <td>positive</td>\n",
       "      <td>positive</td>\n",
       "      <td>0.999530</td>\n",
       "    </tr>\n",
       "    <tr>\n",
       "      <th>...</th>\n",
       "      <td>...</td>\n",
       "      <td>...</td>\n",
       "      <td>...</td>\n",
       "    </tr>\n",
       "    <tr>\n",
       "      <th>133053</th>\n",
       "      <td>positive</td>\n",
       "      <td>positive</td>\n",
       "      <td>0.999505</td>\n",
       "    </tr>\n",
       "    <tr>\n",
       "      <th>133056</th>\n",
       "      <td>positive</td>\n",
       "      <td>positive</td>\n",
       "      <td>0.999415</td>\n",
       "    </tr>\n",
       "    <tr>\n",
       "      <th>136361</th>\n",
       "      <td>negative</td>\n",
       "      <td>negative</td>\n",
       "      <td>0.996379</td>\n",
       "    </tr>\n",
       "    <tr>\n",
       "      <th>136422</th>\n",
       "      <td>positive</td>\n",
       "      <td>positive</td>\n",
       "      <td>0.999670</td>\n",
       "    </tr>\n",
       "    <tr>\n",
       "      <th>137955</th>\n",
       "      <td>positive</td>\n",
       "      <td>positive</td>\n",
       "      <td>0.999621</td>\n",
       "    </tr>\n",
       "  </tbody>\n",
       "</table>\n",
       "<p>290 rows × 3 columns</p>\n",
       "</div>"
      ],
      "text/plain": [
       "       True Label Predicted Label  Confidence Score\n",
       "26       positive        positive          0.999564\n",
       "178      positive        positive          0.999630\n",
       "499      positive        positive          0.999662\n",
       "1398     positive        positive          0.999551\n",
       "1472     positive        positive          0.999530\n",
       "...           ...             ...               ...\n",
       "133053   positive        positive          0.999505\n",
       "133056   positive        positive          0.999415\n",
       "136361   negative        negative          0.996379\n",
       "136422   positive        positive          0.999670\n",
       "137955   positive        positive          0.999621\n",
       "\n",
       "[290 rows x 3 columns]"
      ]
     },
     "execution_count": 27,
     "metadata": {},
     "output_type": "execute_result"
    }
   ],
   "source": [
    "true_labels_ft = df2['sentiment']\n",
    "\n",
    "true_labels_ft = true_labels_ft.str.lower()\n",
    "\n",
    "predicted_labels_ft = [result['label'] for result in results_ft]\n",
    "\n",
    "comparison_df_ft = pd.DataFrame({\n",
    "    'True Label': true_labels_ft,\n",
    "    'Predicted Label': predicted_labels_ft,\n",
    "    'Confidence Score': [result['score'] for result in results_ft]\n",
    "})\n",
    "comparison_df_ft"
   ]
  },
  {
   "cell_type": "code",
   "execution_count": null,
   "metadata": {
    "cell_id": "e07d22a09b2c41ffb73630f88eeac677",
    "deepnote_cell_type": "code",
    "execution_context_id": "d0fe3484-a288-42ec-b206-981a92786ed4",
    "execution_millis": 0,
    "execution_start": 1732532202021,
    "source_hash": "5b6ee1b1"
   },
   "outputs": [
    {
     "data": {
      "application/vnd.deepnote.dataframe.v3+json": {
       "column_count": 4,
       "columns": [
        {
         "dtype": "object",
         "name": "True Label",
         "stats": {
          "categories": [
           {
            "count": 244,
            "name": "positive"
           },
           {
            "count": 41,
            "name": "negative"
           },
           {
            "count": 5,
            "name": "neutral"
           }
          ],
          "nan_count": 0,
          "unique_count": 3
         }
        },
        {
         "dtype": "object",
         "name": "Predicted Label",
         "stats": {
          "categories": [
           {
            "count": 246,
            "name": "positive"
           },
           {
            "count": 41,
            "name": "negative"
           },
           {
            "count": 3,
            "name": "neutral"
           }
          ],
          "nan_count": 0,
          "unique_count": 3
         }
        },
        {
         "dtype": "float64",
         "name": "Confidence Score",
         "stats": {
          "histogram": [
           {
            "bin_end": 0.5947027981281281,
            "bin_start": 0.5497055649757385,
            "count": 2
           },
           {
            "bin_end": 0.6397000312805176,
            "bin_start": 0.5947027981281281,
            "count": 0
           },
           {
            "bin_end": 0.6846972644329071,
            "bin_start": 0.6397000312805176,
            "count": 0
           },
           {
            "bin_end": 0.7296944975852966,
            "bin_start": 0.6846972644329071,
            "count": 0
           },
           {
            "bin_end": 0.7746917307376862,
            "bin_start": 0.7296944975852966,
            "count": 1
           },
           {
            "bin_end": 0.8196889638900757,
            "bin_start": 0.7746917307376862,
            "count": 0
           },
           {
            "bin_end": 0.8646861970424653,
            "bin_start": 0.8196889638900757,
            "count": 0
           },
           {
            "bin_end": 0.9096834301948548,
            "bin_start": 0.8646861970424653,
            "count": 1
           },
           {
            "bin_end": 0.9546806633472442,
            "bin_start": 0.9096834301948548,
            "count": 3
           },
           {
            "bin_end": 0.9996778964996338,
            "bin_start": 0.9546806633472442,
            "count": 283
           }
          ],
          "max": "0.9996778964996338",
          "min": "0.5497055649757385",
          "nan_count": 0,
          "unique_count": 285
         }
        },
        {
         "dtype": "object",
         "name": "publishedDate",
         "stats": {
          "categories": [
           {
            "count": 1,
            "name": "2023-10-04T20:20:37.000Z"
           },
           {
            "count": 1,
            "name": "2023-10-04T13:57:43.000Z"
           },
           {
            "count": 288,
            "name": "288 others"
           }
          ],
          "nan_count": 0,
          "unique_count": 290
         }
        },
        {
         "dtype": "int64",
         "name": "_deepnote_index_column"
        }
       ],
       "row_count": 290,
       "rows": [
        {
         "Confidence Score": 0.9995642304420471,
         "Predicted Label": "positive",
         "True Label": "positive",
         "_deepnote_index_column": 26,
         "publishedDate": "2023-10-04T20:20:37.000Z"
        },
        {
         "Confidence Score": 0.999630331993103,
         "Predicted Label": "positive",
         "True Label": "positive",
         "_deepnote_index_column": 178,
         "publishedDate": "2023-10-04T13:57:43.000Z"
        },
        {
         "Confidence Score": 0.9996618032455444,
         "Predicted Label": "positive",
         "True Label": "positive",
         "_deepnote_index_column": 499,
         "publishedDate": "2023-10-03T20:33:45.000Z"
        },
        {
         "Confidence Score": 0.9995506405830383,
         "Predicted Label": "positive",
         "True Label": "positive",
         "_deepnote_index_column": 1398,
         "publishedDate": "2023-10-02T06:45:19.000Z"
        },
        {
         "Confidence Score": 0.9995301961898804,
         "Predicted Label": "positive",
         "True Label": "positive",
         "_deepnote_index_column": 1472,
         "publishedDate": "2023-10-01T14:42:39.000Z"
        },
        {
         "Confidence Score": 0.9996601343154907,
         "Predicted Label": "positive",
         "True Label": "positive",
         "_deepnote_index_column": 2086,
         "publishedDate": "2023-09-28T19:54:39.000Z"
        },
        {
         "Confidence Score": 0.999508261680603,
         "Predicted Label": "positive",
         "True Label": "positive",
         "_deepnote_index_column": 2247,
         "publishedDate": "2023-09-28T14:03:09.000Z"
        },
        {
         "Confidence Score": 0.99967360496521,
         "Predicted Label": "positive",
         "True Label": "positive",
         "_deepnote_index_column": 2488,
         "publishedDate": "2023-09-28T08:53:15.000Z"
        },
        {
         "Confidence Score": 0.9994412064552307,
         "Predicted Label": "positive",
         "True Label": "positive",
         "_deepnote_index_column": 2598,
         "publishedDate": "2023-09-27T22:15:30.000Z"
        },
        {
         "Confidence Score": 0.9996708631515503,
         "Predicted Label": "positive",
         "True Label": "positive",
         "_deepnote_index_column": 4106,
         "publishedDate": "2023-09-25T07:00:15.000Z"
        }
       ]
      },
      "text/html": [
       "<div>\n",
       "<style scoped>\n",
       "    .dataframe tbody tr th:only-of-type {\n",
       "        vertical-align: middle;\n",
       "    }\n",
       "\n",
       "    .dataframe tbody tr th {\n",
       "        vertical-align: top;\n",
       "    }\n",
       "\n",
       "    .dataframe thead th {\n",
       "        text-align: right;\n",
       "    }\n",
       "</style>\n",
       "<table border=\"1\" class=\"dataframe\">\n",
       "  <thead>\n",
       "    <tr style=\"text-align: right;\">\n",
       "      <th></th>\n",
       "      <th>True Label</th>\n",
       "      <th>Predicted Label</th>\n",
       "      <th>Confidence Score</th>\n",
       "      <th>publishedDate</th>\n",
       "    </tr>\n",
       "  </thead>\n",
       "  <tbody>\n",
       "    <tr>\n",
       "      <th>26</th>\n",
       "      <td>positive</td>\n",
       "      <td>positive</td>\n",
       "      <td>0.999564</td>\n",
       "      <td>2023-10-04T20:20:37.000Z</td>\n",
       "    </tr>\n",
       "    <tr>\n",
       "      <th>178</th>\n",
       "      <td>positive</td>\n",
       "      <td>positive</td>\n",
       "      <td>0.999630</td>\n",
       "      <td>2023-10-04T13:57:43.000Z</td>\n",
       "    </tr>\n",
       "    <tr>\n",
       "      <th>499</th>\n",
       "      <td>positive</td>\n",
       "      <td>positive</td>\n",
       "      <td>0.999662</td>\n",
       "      <td>2023-10-03T20:33:45.000Z</td>\n",
       "    </tr>\n",
       "    <tr>\n",
       "      <th>1398</th>\n",
       "      <td>positive</td>\n",
       "      <td>positive</td>\n",
       "      <td>0.999551</td>\n",
       "      <td>2023-10-02T06:45:19.000Z</td>\n",
       "    </tr>\n",
       "    <tr>\n",
       "      <th>1472</th>\n",
       "      <td>positive</td>\n",
       "      <td>positive</td>\n",
       "      <td>0.999530</td>\n",
       "      <td>2023-10-01T14:42:39.000Z</td>\n",
       "    </tr>\n",
       "    <tr>\n",
       "      <th>...</th>\n",
       "      <td>...</td>\n",
       "      <td>...</td>\n",
       "      <td>...</td>\n",
       "      <td>...</td>\n",
       "    </tr>\n",
       "    <tr>\n",
       "      <th>133053</th>\n",
       "      <td>positive</td>\n",
       "      <td>positive</td>\n",
       "      <td>0.999505</td>\n",
       "      <td>2022-09-06T10:40:32.000Z</td>\n",
       "    </tr>\n",
       "    <tr>\n",
       "      <th>133056</th>\n",
       "      <td>positive</td>\n",
       "      <td>positive</td>\n",
       "      <td>0.999415</td>\n",
       "      <td>2022-09-06T10:33:56.000Z</td>\n",
       "    </tr>\n",
       "    <tr>\n",
       "      <th>136361</th>\n",
       "      <td>negative</td>\n",
       "      <td>negative</td>\n",
       "      <td>0.996379</td>\n",
       "      <td>2022-08-26T16:28:00.000Z</td>\n",
       "    </tr>\n",
       "    <tr>\n",
       "      <th>136422</th>\n",
       "      <td>positive</td>\n",
       "      <td>positive</td>\n",
       "      <td>0.999670</td>\n",
       "      <td>2022-08-26T14:25:54.000Z</td>\n",
       "    </tr>\n",
       "    <tr>\n",
       "      <th>137955</th>\n",
       "      <td>positive</td>\n",
       "      <td>positive</td>\n",
       "      <td>0.999621</td>\n",
       "      <td>2022-08-23T14:17:59.000Z</td>\n",
       "    </tr>\n",
       "  </tbody>\n",
       "</table>\n",
       "<p>290 rows × 4 columns</p>\n",
       "</div>"
      ],
      "text/plain": [
       "       True Label Predicted Label  Confidence Score             publishedDate\n",
       "26       positive        positive          0.999564  2023-10-04T20:20:37.000Z\n",
       "178      positive        positive          0.999630  2023-10-04T13:57:43.000Z\n",
       "499      positive        positive          0.999662  2023-10-03T20:33:45.000Z\n",
       "1398     positive        positive          0.999551  2023-10-02T06:45:19.000Z\n",
       "1472     positive        positive          0.999530  2023-10-01T14:42:39.000Z\n",
       "...           ...             ...               ...                       ...\n",
       "133053   positive        positive          0.999505  2022-09-06T10:40:32.000Z\n",
       "133056   positive        positive          0.999415  2022-09-06T10:33:56.000Z\n",
       "136361   negative        negative          0.996379  2022-08-26T16:28:00.000Z\n",
       "136422   positive        positive          0.999670  2022-08-26T14:25:54.000Z\n",
       "137955   positive        positive          0.999621  2022-08-23T14:17:59.000Z\n",
       "\n",
       "[290 rows x 4 columns]"
      ]
     },
     "execution_count": 28,
     "metadata": {},
     "output_type": "execute_result"
    }
   ],
   "source": [
    "comparison_df_ft['publishedDate'] = df2['publishedDate']\n",
    "comparison_df_ft"
   ]
  },
  {
   "cell_type": "markdown",
   "metadata": {
    "cell_id": "2dd702bb656e47c0bbc4f30aaf833595",
    "deepnote_cell_type": "text-cell-h2",
    "formattedRanges": []
   },
   "source": [
    "## Accuracy (Fine-tuned)"
   ]
  },
  {
   "cell_type": "code",
   "execution_count": null,
   "metadata": {
    "cell_id": "100525ec05a641da98c904e05bf8f898",
    "deepnote_cell_type": "code",
    "execution_context_id": "d0fe3484-a288-42ec-b206-981a92786ed4",
    "execution_millis": 0,
    "execution_start": 1732532202069,
    "source_hash": "8c87857e"
   },
   "outputs": [
    {
     "data": {
      "text/plain": [
       "'Accuracy: 94.48%'"
      ]
     },
     "execution_count": 29,
     "metadata": {},
     "output_type": "execute_result"
    }
   ],
   "source": [
    "from sklearn.metrics import accuracy_score, confusion_matrix\n",
    "accuracy_ft = accuracy_score(true_labels_ft, predicted_labels_ft)\n",
    "f\"Accuracy: {accuracy_ft * 100:.2f}%\""
   ]
  },
  {
   "cell_type": "markdown",
   "metadata": {
    "cell_id": "bf7a49c0b85b4b7f83985d85dac806dd",
    "deepnote_cell_type": "text-cell-h2",
    "formattedRanges": []
   },
   "source": [
    "## Confusion Matrix (Fine-tuned)"
   ]
  },
  {
   "cell_type": "code",
   "execution_count": null,
   "metadata": {
    "cell_id": "49599f566c3341369004a3c6a3a78f1d",
    "deepnote_cell_type": "code",
    "execution_context_id": "d0fe3484-a288-42ec-b206-981a92786ed4",
    "execution_millis": 1,
    "execution_start": 1732532202136,
    "source_hash": "5caa5fc2"
   },
   "outputs": [
    {
     "name": "stdout",
     "output_type": "stream",
     "text": [
      "[[238   5   1]\n",
      " [  7  34   0]\n",
      " [  1   2   2]]\n"
     ]
    }
   ],
   "source": [
    "from sklearn.metrics import confusion_matrix\n",
    "\n",
    "conf_matrix_ft = confusion_matrix(true_labels_ft, predicted_labels_ft, labels=['positive', 'negative', 'neutral'])\n",
    "\n",
    "print(conf_matrix_ft)"
   ]
  },
  {
   "cell_type": "code",
   "execution_count": null,
   "metadata": {
    "cell_id": "0a0247aa05fa47a392346244fb53b404",
    "deepnote_cell_type": "code",
    "execution_context_id": "d0fe3484-a288-42ec-b206-981a92786ed4",
    "execution_millis": 228,
    "execution_start": 1732532202189,
    "source_hash": "7b2f32e5"
   },
   "outputs": [
    {
     "data": {
      "image/png": "[encoded data removed]",
      "text/plain": [
       "<Figure size 600x400 with 2 Axes>"
      ]
     },
     "metadata": {
      "image/png": {
       "height": 393,
       "width": 510
      }
     },
     "output_type": "display_data"
    }
   ],
   "source": [
    "import seaborn as sns\n",
    "import matplotlib.pyplot as plt\n",
    "\n",
    "plt.figure(figsize=(6, 4))\n",
    "sns.heatmap(conf_matrix_ft, annot=True, fmt=\"d\", cmap=\"Blues\", xticklabels=['positive', 'negative', 'neutral'], yticklabels=['positive', 'negative', 'neutral'])\n",
    "plt.xlabel('Predicted Label')\n",
    "plt.ylabel('True Label')\n",
    "plt.title('Confusion Matrix (Fine-tuned)')\n",
    "plt.show()"
   ]
  },
  {
   "cell_type": "markdown",
   "metadata": {
    "cell_id": "df3725c920ed48dabf8a98fffff29009",
    "deepnote_cell_type": "text-cell-p",
    "formattedRanges": []
   },
   "source": [
    "This confusion matrix indicates that the machine learning model performs well at all sentiments, where the dataset contains mostly from positive sentiments (238 correct predictions from 137). The model also corrects at neutral sentiment (2 correct predictions from 0 correct predictions). There is also an improvement in predicting negative sentiments (34 correct predictions from 31)."
   ]
  },
  {
   "cell_type": "code",
   "execution_count": null,
   "metadata": {
    "cell_id": "d73a5d39aa8845b885585c2396da0b2b",
    "deepnote_cell_type": "code",
    "execution_context_id": "d0fe3484-a288-42ec-b206-981a92786ed4",
    "execution_millis": 236,
    "execution_start": 1732532202469,
    "source_hash": "6bcebe3b"
   },
   "outputs": [
    {
     "data": {
      "image/png": "[encoded data removed]",
      "text/plain": [
       "<Figure size 640x480 with 2 Axes>"
      ]
     },
     "metadata": {
      "image/png": {
       "height": 455,
       "width": 539
      }
     },
     "output_type": "display_data"
    }
   ],
   "source": [
    "filtered_conf_matrix_ft = conf_matrix_ft[:2, :2] \n",
    "\n",
    "sns.heatmap(filtered_conf_matrix_ft, annot=True, fmt=\"d\", cmap=\"Blues\", xticklabels=['positive', 'negative'], yticklabels=['positive', 'negative'])\n",
    "plt.title(\"Confusion Matrix (Excluding Neutral) (Fine-tuned)\")\n",
    "plt.xlabel(\"Predicted Label\")\n",
    "plt.ylabel(\"True Label\")\n",
    "plt.show()"
   ]
  },
  {
   "cell_type": "markdown",
   "metadata": {
    "cell_id": "cb255cff20f7460fbd441a48a5f9d321",
    "deepnote_cell_type": "text-cell-p",
    "formattedRanges": []
   },
   "source": [
    "Confusion Matrix Overview (Excluding Neutral):\n",
    "True Positives (TP): 238 (Positive samples correctly classified as positive)\n",
    "False Positives (FP): 7 (Negative samples incorrectly classified as positive)\n",
    "False Negatives (FN): 5 (Positive samples incorrectly classified as negative)\n",
    "True Negatives (TN): 34 (Negative samples correctly classified as negative)"
   ]
  },
  {
   "cell_type": "markdown",
   "metadata": {
    "cell_id": "59bd71fc2ba44fd2bdf938d660d408eb",
    "deepnote_cell_type": "text-cell-p",
    "formattedRanges": []
   },
   "source": [
    "Accuracy: 95.8% (excluding neutral)"
   ]
  },
  {
   "cell_type": "markdown",
   "metadata": {
    "cell_id": "2c9629d0087749f897f4e4d76be8bc2a",
    "deepnote_cell_type": "text-cell-p",
    "formattedRanges": []
   },
   "source": [
    "The model that has been trained is now better at predicting the dataset. However, needs to be noted that the model is trained using this dataset itself that has 88% positive sentiments. The model itself can be good at predicting positive sentiments in other dataset even though the result shows that there's also an improvement in predicting the negative. "
   ]
  },
  {
   "cell_type": "markdown",
   "metadata": {
    "cell_id": "0f8d58f16ca94140ae1d3e63bf59c01e",
    "deepnote_cell_type": "text-cell-h2",
    "formattedRanges": []
   },
   "source": [
    "## Analysis #1"
   ]
  },
  {
   "cell_type": "code",
   "execution_count": null,
   "metadata": {
    "cell_id": "36e29dded91b4f72a84de7c30e10efd1",
    "deepnote_cell_type": "code",
    "execution_context_id": "d0fe3484-a288-42ec-b206-981a92786ed4",
    "execution_millis": 0,
    "execution_start": 1732532202749,
    "source_hash": "f6a60de7"
   },
   "outputs": [
    {
     "data": {
      "application/vnd.deepnote.dataframe.v3+json": {
       "column_count": 2,
       "columns": [
        {
         "dtype": "object",
         "name": "publishedDate",
         "stats": {
          "categories": [
           {
            "count": 7,
            "name": "2023-09-20"
           },
           {
            "count": 7,
            "name": "2023-01-27"
           },
           {
            "count": 276,
            "name": "169 others"
           }
          ],
          "nan_count": 0,
          "unique_count": 171
         }
        },
        {
         "dtype": "object",
         "name": "sentimentAnalysis",
         "stats": {
          "categories": [
           {
            "count": 246,
            "name": "positive"
           },
           {
            "count": 41,
            "name": "negative"
           },
           {
            "count": 3,
            "name": "neutral"
           }
          ],
          "nan_count": 0,
          "unique_count": 3
         }
        },
        {
         "dtype": "int64",
         "name": "_deepnote_index_column"
        }
       ],
       "row_count": 290,
       "rows": [
        {
         "_deepnote_index_column": 26,
         "publishedDate": "2023-10-04",
         "sentimentAnalysis": "positive"
        },
        {
         "_deepnote_index_column": 178,
         "publishedDate": "2023-10-04",
         "sentimentAnalysis": "positive"
        },
        {
         "_deepnote_index_column": 499,
         "publishedDate": "2023-10-03",
         "sentimentAnalysis": "positive"
        },
        {
         "_deepnote_index_column": 1398,
         "publishedDate": "2023-10-02",
         "sentimentAnalysis": "positive"
        },
        {
         "_deepnote_index_column": 1472,
         "publishedDate": "2023-10-01",
         "sentimentAnalysis": "positive"
        },
        {
         "_deepnote_index_column": 2086,
         "publishedDate": "2023-09-28",
         "sentimentAnalysis": "positive"
        },
        {
         "_deepnote_index_column": 2247,
         "publishedDate": "2023-09-28",
         "sentimentAnalysis": "positive"
        },
        {
         "_deepnote_index_column": 2488,
         "publishedDate": "2023-09-28",
         "sentimentAnalysis": "positive"
        },
        {
         "_deepnote_index_column": 2598,
         "publishedDate": "2023-09-27",
         "sentimentAnalysis": "positive"
        },
        {
         "_deepnote_index_column": 4106,
         "publishedDate": "2023-09-25",
         "sentimentAnalysis": "positive"
        }
       ]
      },
      "text/html": [
       "<div>\n",
       "<style scoped>\n",
       "    .dataframe tbody tr th:only-of-type {\n",
       "        vertical-align: middle;\n",
       "    }\n",
       "\n",
       "    .dataframe tbody tr th {\n",
       "        vertical-align: top;\n",
       "    }\n",
       "\n",
       "    .dataframe thead th {\n",
       "        text-align: right;\n",
       "    }\n",
       "</style>\n",
       "<table border=\"1\" class=\"dataframe\">\n",
       "  <thead>\n",
       "    <tr style=\"text-align: right;\">\n",
       "      <th></th>\n",
       "      <th>publishedDate</th>\n",
       "      <th>sentimentAnalysis</th>\n",
       "    </tr>\n",
       "  </thead>\n",
       "  <tbody>\n",
       "    <tr>\n",
       "      <th>26</th>\n",
       "      <td>2023-10-04</td>\n",
       "      <td>positive</td>\n",
       "    </tr>\n",
       "    <tr>\n",
       "      <th>178</th>\n",
       "      <td>2023-10-04</td>\n",
       "      <td>positive</td>\n",
       "    </tr>\n",
       "    <tr>\n",
       "      <th>499</th>\n",
       "      <td>2023-10-03</td>\n",
       "      <td>positive</td>\n",
       "    </tr>\n",
       "    <tr>\n",
       "      <th>1398</th>\n",
       "      <td>2023-10-02</td>\n",
       "      <td>positive</td>\n",
       "    </tr>\n",
       "    <tr>\n",
       "      <th>1472</th>\n",
       "      <td>2023-10-01</td>\n",
       "      <td>positive</td>\n",
       "    </tr>\n",
       "    <tr>\n",
       "      <th>...</th>\n",
       "      <td>...</td>\n",
       "      <td>...</td>\n",
       "    </tr>\n",
       "    <tr>\n",
       "      <th>133053</th>\n",
       "      <td>2022-09-06</td>\n",
       "      <td>positive</td>\n",
       "    </tr>\n",
       "    <tr>\n",
       "      <th>133056</th>\n",
       "      <td>2022-09-06</td>\n",
       "      <td>positive</td>\n",
       "    </tr>\n",
       "    <tr>\n",
       "      <th>136361</th>\n",
       "      <td>2022-08-26</td>\n",
       "      <td>negative</td>\n",
       "    </tr>\n",
       "    <tr>\n",
       "      <th>136422</th>\n",
       "      <td>2022-08-26</td>\n",
       "      <td>positive</td>\n",
       "    </tr>\n",
       "    <tr>\n",
       "      <th>137955</th>\n",
       "      <td>2022-08-23</td>\n",
       "      <td>positive</td>\n",
       "    </tr>\n",
       "  </tbody>\n",
       "</table>\n",
       "<p>290 rows × 2 columns</p>\n",
       "</div>"
      ],
      "text/plain": [
       "       publishedDate sentimentAnalysis\n",
       "26        2023-10-04          positive\n",
       "178       2023-10-04          positive\n",
       "499       2023-10-03          positive\n",
       "1398      2023-10-02          positive\n",
       "1472      2023-10-01          positive\n",
       "...              ...               ...\n",
       "133053    2022-09-06          positive\n",
       "133056    2022-09-06          positive\n",
       "136361    2022-08-26          negative\n",
       "136422    2022-08-26          positive\n",
       "137955    2022-08-23          positive\n",
       "\n",
       "[290 rows x 2 columns]"
      ]
     },
     "execution_count": 33,
     "metadata": {},
     "output_type": "execute_result"
    }
   ],
   "source": [
    "predict_df_ft = pd.DataFrame({\n",
    "    'publishedDate': pd.to_datetime(comparison_df_ft['publishedDate']).dt.date,\n",
    "    'sentimentAnalysis': comparison_df_ft['Predicted Label']\n",
    "})\n",
    "predict_df_ft"
   ]
  },
  {
   "cell_type": "code",
   "execution_count": null,
   "metadata": {
    "cell_id": "f43788f2b2da41d485a19caae4d42477",
    "deepnote_cell_type": "code",
    "execution_context_id": "d0fe3484-a288-42ec-b206-981a92786ed4",
    "execution_millis": 1,
    "execution_start": 1732532202801,
    "source_hash": "f8816366"
   },
   "outputs": [
    {
     "data": {
      "application/vnd.deepnote.dataframe.v3+json": {
       "column_count": 2,
       "columns": [
        {
         "dtype": "object",
         "name": "publishedDate",
         "stats": {
          "categories": [
           {
            "count": 2,
            "name": "2023-10-04"
           },
           {
            "count": 1,
            "name": "2023-10-03"
           },
           {
            "count": 3,
            "name": "3 others"
           }
          ],
          "nan_count": 0,
          "unique_count": 5
         }
        },
        {
         "dtype": "object",
         "name": "sentimentAnalysis",
         "stats": {
          "categories": [
           {
            "count": 6,
            "name": "positive"
           }
          ],
          "nan_count": 0,
          "unique_count": 1
         }
        },
        {
         "dtype": "int64",
         "name": "_deepnote_index_column"
        }
       ],
       "row_count": 6,
       "rows": [
        {
         "_deepnote_index_column": 26,
         "publishedDate": "2023-10-04",
         "sentimentAnalysis": "positive"
        },
        {
         "_deepnote_index_column": 178,
         "publishedDate": "2023-10-04",
         "sentimentAnalysis": "positive"
        },
        {
         "_deepnote_index_column": 499,
         "publishedDate": "2023-10-03",
         "sentimentAnalysis": "positive"
        },
        {
         "_deepnote_index_column": 1398,
         "publishedDate": "2023-10-02",
         "sentimentAnalysis": "positive"
        },
        {
         "_deepnote_index_column": 1472,
         "publishedDate": "2023-10-01",
         "sentimentAnalysis": "positive"
        },
        {
         "_deepnote_index_column": 2086,
         "publishedDate": "2023-09-28",
         "sentimentAnalysis": "positive"
        }
       ]
      },
      "text/html": [
       "<div>\n",
       "<style scoped>\n",
       "    .dataframe tbody tr th:only-of-type {\n",
       "        vertical-align: middle;\n",
       "    }\n",
       "\n",
       "    .dataframe tbody tr th {\n",
       "        vertical-align: top;\n",
       "    }\n",
       "\n",
       "    .dataframe thead th {\n",
       "        text-align: right;\n",
       "    }\n",
       "</style>\n",
       "<table border=\"1\" class=\"dataframe\">\n",
       "  <thead>\n",
       "    <tr style=\"text-align: right;\">\n",
       "      <th></th>\n",
       "      <th>publishedDate</th>\n",
       "      <th>sentimentAnalysis</th>\n",
       "    </tr>\n",
       "  </thead>\n",
       "  <tbody>\n",
       "    <tr>\n",
       "      <th>26</th>\n",
       "      <td>2023-10-04</td>\n",
       "      <td>positive</td>\n",
       "    </tr>\n",
       "    <tr>\n",
       "      <th>178</th>\n",
       "      <td>2023-10-04</td>\n",
       "      <td>positive</td>\n",
       "    </tr>\n",
       "    <tr>\n",
       "      <th>499</th>\n",
       "      <td>2023-10-03</td>\n",
       "      <td>positive</td>\n",
       "    </tr>\n",
       "    <tr>\n",
       "      <th>1398</th>\n",
       "      <td>2023-10-02</td>\n",
       "      <td>positive</td>\n",
       "    </tr>\n",
       "    <tr>\n",
       "      <th>1472</th>\n",
       "      <td>2023-10-01</td>\n",
       "      <td>positive</td>\n",
       "    </tr>\n",
       "    <tr>\n",
       "      <th>2086</th>\n",
       "      <td>2023-09-28</td>\n",
       "      <td>positive</td>\n",
       "    </tr>\n",
       "  </tbody>\n",
       "</table>\n",
       "</div>"
      ],
      "text/plain": [
       "     publishedDate sentimentAnalysis\n",
       "26      2023-10-04          positive\n",
       "178     2023-10-04          positive\n",
       "499     2023-10-03          positive\n",
       "1398    2023-10-02          positive\n",
       "1472    2023-10-01          positive\n",
       "2086    2023-09-28          positive"
      ]
     },
     "execution_count": 34,
     "metadata": {},
     "output_type": "execute_result"
    }
   ],
   "source": [
    "predict_df_1_ft = predict_df_ft.iloc[:6]\n",
    "predict_df_1_ft"
   ]
  },
  {
   "cell_type": "code",
   "execution_count": null,
   "metadata": {
    "cell_id": "edcbaf79eab440d2bceaaa1dee82a450",
    "deepnote_cell_type": "code",
    "execution_context_id": "d0fe3484-a288-42ec-b206-981a92786ed4",
    "execution_millis": 0,
    "execution_start": 1732532202849,
    "source_hash": "4134ea18"
   },
   "outputs": [
    {
     "data": {
      "application/vnd.deepnote.dataframe.v3+json": {
       "column_count": 2,
       "columns": [
        {
         "dtype": "datetime64[ns]",
         "name": "Date ",
         "stats": {
          "histogram": [
           {
            "bin_end": 1695695040000000000,
            "bin_start": 1695600000000000000,
            "count": 2
           },
           {
            "bin_end": 1695790080000000000,
            "bin_start": 1695695040000000000,
            "count": 1
           },
           {
            "bin_end": 1695885120000000000,
            "bin_start": 1695790080000000000,
            "count": 1
           },
           {
            "bin_end": 1695980160000000000,
            "bin_start": 1695885120000000000,
            "count": 1
           },
           {
            "bin_end": 1696075200000000000,
            "bin_start": 1695980160000000000,
            "count": 0
           },
           {
            "bin_end": 1696170240000000000,
            "bin_start": 1696075200000000000,
            "count": 0
           },
           {
            "bin_end": 1696265280000000000,
            "bin_start": 1696170240000000000,
            "count": 1
           },
           {
            "bin_end": 1696360320000000000,
            "bin_start": 1696265280000000000,
            "count": 1
           },
           {
            "bin_end": 1696455360000000000,
            "bin_start": 1696360320000000000,
            "count": 1
           },
           {
            "bin_end": 1696550400000000000,
            "bin_start": 1696455360000000000,
            "count": 2
           }
          ],
          "max": "2023-10-06 00:00:00",
          "min": "2023-09-25 00:00:00",
          "nan_count": 0,
          "unique_count": 10
         }
        },
        {
         "dtype": "float64",
         "name": "Close INTC",
         "stats": {
          "histogram": [
           {
            "bin_end": 34.06600151062012,
            "bin_start": 33.83000183105469,
            "count": 1
           },
           {
            "bin_end": 34.30200119018555,
            "bin_start": 34.06600151062012,
            "count": 1
           },
           {
            "bin_end": 34.538000869750974,
            "bin_start": 34.30200119018555,
            "count": 0
           },
           {
            "bin_end": 34.774000549316405,
            "bin_start": 34.538000869750974,
            "count": 1
           },
           {
            "bin_end": 35.010000228881836,
            "bin_start": 34.774000549316405,
            "count": 0
           },
           {
            "bin_end": 35.24599990844727,
            "bin_start": 35.010000228881836,
            "count": 1
           },
           {
            "bin_end": 35.4819995880127,
            "bin_start": 35.24599990844727,
            "count": 1
           },
           {
            "bin_end": 35.71799926757812,
            "bin_start": 35.4819995880127,
            "count": 2
           },
           {
            "bin_end": 35.95399894714355,
            "bin_start": 35.71799926757812,
            "count": 2
           },
           {
            "bin_end": 36.189998626708984,
            "bin_start": 35.95399894714355,
            "count": 1
           }
          ],
          "max": "36.189998626708984",
          "min": "33.83000183105469",
          "nan_count": 0,
          "unique_count": 10
         }
        },
        {
         "dtype": "int64",
         "name": "_deepnote_index_column"
        }
       ],
       "row_count": 10,
       "rows": [
        {
         "Close INTC": 34.290000915527344,
         "Date ": "2023-09-25 00:00:00",
         "_deepnote_index_column": 277
        },
        {
         "Close INTC": 33.83000183105469,
         "Date ": "2023-09-26 00:00:00",
         "_deepnote_index_column": 278
        },
        {
         "Close INTC": 34.61000061035156,
         "Date ": "2023-09-27 00:00:00",
         "_deepnote_index_column": 279
        },
        {
         "Close INTC": 35.18000030517578,
         "Date ": "2023-09-28 00:00:00",
         "_deepnote_index_column": 280
        },
        {
         "Close INTC": 35.54999923706055,
         "Date ": "2023-09-29 00:00:00",
         "_deepnote_index_column": 281
        },
        {
         "Close INTC": 35.459999084472656,
         "Date ": "2023-10-02 00:00:00",
         "_deepnote_index_column": 282
        },
        {
         "Close INTC": 35.689998626708984,
         "Date ": "2023-10-03 00:00:00",
         "_deepnote_index_column": 283
        },
        {
         "Close INTC": 35.93000030517578,
         "Date ": "2023-10-04 00:00:00",
         "_deepnote_index_column": 284
        },
        {
         "Close INTC": 35.88999938964844,
         "Date ": "2023-10-05 00:00:00",
         "_deepnote_index_column": 285
        },
        {
         "Close INTC": 36.189998626708984,
         "Date ": "2023-10-06 00:00:00",
         "_deepnote_index_column": 286
        }
       ]
      },
      "text/html": [
       "<div>\n",
       "<style scoped>\n",
       "    .dataframe tbody tr th:only-of-type {\n",
       "        vertical-align: middle;\n",
       "    }\n",
       "\n",
       "    .dataframe tbody tr th {\n",
       "        vertical-align: top;\n",
       "    }\n",
       "\n",
       "    .dataframe thead tr th {\n",
       "        text-align: left;\n",
       "    }\n",
       "</style>\n",
       "<table border=\"1\" class=\"dataframe\">\n",
       "  <thead>\n",
       "    <tr>\n",
       "      <th>Price</th>\n",
       "      <th>Date</th>\n",
       "      <th>Close</th>\n",
       "    </tr>\n",
       "    <tr>\n",
       "      <th>Ticker</th>\n",
       "      <th></th>\n",
       "      <th>INTC</th>\n",
       "    </tr>\n",
       "  </thead>\n",
       "  <tbody>\n",
       "    <tr>\n",
       "      <th>277</th>\n",
       "      <td>2023-09-25</td>\n",
       "      <td>34.290001</td>\n",
       "    </tr>\n",
       "    <tr>\n",
       "      <th>278</th>\n",
       "      <td>2023-09-26</td>\n",
       "      <td>33.830002</td>\n",
       "    </tr>\n",
       "    <tr>\n",
       "      <th>279</th>\n",
       "      <td>2023-09-27</td>\n",
       "      <td>34.610001</td>\n",
       "    </tr>\n",
       "    <tr>\n",
       "      <th>280</th>\n",
       "      <td>2023-09-28</td>\n",
       "      <td>35.180000</td>\n",
       "    </tr>\n",
       "    <tr>\n",
       "      <th>281</th>\n",
       "      <td>2023-09-29</td>\n",
       "      <td>35.549999</td>\n",
       "    </tr>\n",
       "    <tr>\n",
       "      <th>282</th>\n",
       "      <td>2023-10-02</td>\n",
       "      <td>35.459999</td>\n",
       "    </tr>\n",
       "    <tr>\n",
       "      <th>283</th>\n",
       "      <td>2023-10-03</td>\n",
       "      <td>35.689999</td>\n",
       "    </tr>\n",
       "    <tr>\n",
       "      <th>284</th>\n",
       "      <td>2023-10-04</td>\n",
       "      <td>35.930000</td>\n",
       "    </tr>\n",
       "    <tr>\n",
       "      <th>285</th>\n",
       "      <td>2023-10-05</td>\n",
       "      <td>35.889999</td>\n",
       "    </tr>\n",
       "    <tr>\n",
       "      <th>286</th>\n",
       "      <td>2023-10-06</td>\n",
       "      <td>36.189999</td>\n",
       "    </tr>\n",
       "  </tbody>\n",
       "</table>\n",
       "</div>"
      ],
      "text/plain": [
       "Price        Date      Close\n",
       "Ticker                  INTC\n",
       "277    2023-09-25  34.290001\n",
       "278    2023-09-26  33.830002\n",
       "279    2023-09-27  34.610001\n",
       "280    2023-09-28  35.180000\n",
       "281    2023-09-29  35.549999\n",
       "282    2023-10-02  35.459999\n",
       "283    2023-10-03  35.689999\n",
       "284    2023-10-04  35.930000\n",
       "285    2023-10-05  35.889999\n",
       "286    2023-10-06  36.189999"
      ]
     },
     "execution_count": 35,
     "metadata": {},
     "output_type": "execute_result"
    }
   ],
   "source": [
    "stock_data_ex_1_ft = stock_data[(stock_data['Date'] >= '2023-09-25') & (stock_data['Date'] <= '2023-10-08')]\n",
    "stock_data_ex_1_ft"
   ]
  },
  {
   "cell_type": "code",
   "execution_count": 36,
   "metadata": {
    "cell_id": "8903a896fddd4d1785e8f80b65d1719b",
    "deepnote_cell_type": "code",
    "execution_context_id": "d0fe3484-a288-42ec-b206-981a92786ed4",
    "execution_millis": 304,
    "execution_start": 1732532202913,
    "source_hash": "89b1533e"
   },
   "outputs": [
    {
     "name": "stderr",
     "output_type": "stream",
     "text": [
      "/shared-libs/python3.9/py/lib/python3.9/site-packages/matplotlib/text.py:694: FutureWarning: Calling float on a single element Series is deprecated and will raise a TypeError in the future. Use float(ser.iloc[0]) instead\n",
      "  posy = float(self.convert_yunits(self._y))\n",
      "/shared-libs/python3.9/py/lib/python3.9/site-packages/matplotlib/text.py:834: FutureWarning: Calling float on a single element Series is deprecated and will raise a TypeError in the future. Use float(ser.iloc[0]) instead\n",
      "  y = float(self.convert_yunits(self._y))\n"
     ]
    },
    {
     "data": {
      "image/png": "[encoded data removed]",
      "text/plain": [
       "<Figure size 1200x600 with 1 Axes>"
      ]
     },
     "metadata": {
      "image/png": {
       "height": 547,
       "width": 1010
      }
     },
     "output_type": "display_data"
    }
   ],
   "source": [
    "import matplotlib.pyplot as plt\n",
    "import matplotlib.dates as mdates\n",
    "from matplotlib.dates import DateFormatter\n",
    "\n",
    "plt.figure(figsize=(12, 6))\n",
    "\n",
    "plt.plot(stock_data_ex_1['Date'], stock_data_ex_1_ft['Close'], label='Stock Price')\n",
    "\n",
    "# Add vertical lines with sentiment labels\n",
    "for date, sentiment in zip(predict_df_1_ft['publishedDate'], predict_df_1_ft['sentimentAnalysis']):\n",
    "    line_color = 'green' if sentiment == 'positive' else 'red' if sentiment == 'negative' else 'blue'\n",
    "    \n",
    "    plt.axvline(x=date, color=line_color, linestyle='--', alpha=0.7) \n",
    "    plt.text(\n",
    "        date, \n",
    "        stock_data_ex_1_ft['Close'].min(),  \n",
    "        sentiment, \n",
    "        rotation=90,  \n",
    "        verticalalignment='bottom', \n",
    "        horizontalalignment='right', \n",
    "        fontsize=10, \n",
    "        color=line_color  \n",
    "    )\n",
    "\n",
    "# Labels and title\n",
    "plt.xlabel('Date')\n",
    "plt.ylabel('Stock Price')\n",
    "plt.title('Stock Price vs. Sentiment Analysis (Fine-tuned)')\n",
    "plt.legend(['Stock Price', 'Sentiment Analysis(Fine-tuned)'])\n",
    "plt.show()"
   ]
  },
  {
   "cell_type": "markdown",
   "metadata": {
    "cell_id": "d42cc3c4bb79407e94fddc65adfead3c",
    "deepnote_cell_type": "text-cell-h2",
    "formattedRanges": []
   },
   "source": [
    "## Analysis #2"
   ]
  },
  {
   "cell_type": "code",
   "execution_count": 37,
   "metadata": {
    "cell_id": "df3b0d927f0641a2a63f6b93c6e156a2",
    "deepnote_cell_type": "code",
    "execution_context_id": "d0fe3484-a288-42ec-b206-981a92786ed4",
    "execution_millis": 0,
    "execution_start": 1732532203265,
    "source_hash": "147a2052"
   },
   "outputs": [
    {
     "data": {
      "application/vnd.deepnote.dataframe.v3+json": {
       "column_count": 2,
       "columns": [
        {
         "dtype": "datetime64[ns]",
         "name": "Date ",
         "stats": {
          "histogram": [
           {
            "bin_end": 1675313280000000000,
            "bin_start": 1675036800000000000,
            "count": 4
           },
           {
            "bin_end": 1675589760000000000,
            "bin_start": 1675313280000000000,
            "count": 1
           },
           {
            "bin_end": 1675866240000000000,
            "bin_start": 1675589760000000000,
            "count": 3
           },
           {
            "bin_end": 1676142720000000000,
            "bin_start": 1675866240000000000,
            "count": 2
           },
           {
            "bin_end": 1676419200000000000,
            "bin_start": 1676142720000000000,
            "count": 2
           },
           {
            "bin_end": 1676695680000000000,
            "bin_start": 1676419200000000000,
            "count": 3
           },
           {
            "bin_end": 1676972160000000000,
            "bin_start": 1676695680000000000,
            "count": 1
           },
           {
            "bin_end": 1677248640000000000,
            "bin_start": 1676972160000000000,
            "count": 3
           },
           {
            "bin_end": 1677525120000000000,
            "bin_start": 1677248640000000000,
            "count": 1
           },
           {
            "bin_end": 1677801600000000000,
            "bin_start": 1677525120000000000,
            "count": 4
           }
          ],
          "max": "2023-03-03 00:00:00",
          "min": "2023-01-30 00:00:00",
          "nan_count": 0,
          "unique_count": 24
         }
        },
        {
         "dtype": "float64",
         "name": "Close INTC",
         "stats": {
          "histogram": [
           {
            "bin_end": 25.441999626159667,
            "bin_start": 24.899999618530273,
            "count": 4
           },
           {
            "bin_end": 25.98399963378906,
            "bin_start": 25.441999626159667,
            "count": 2
           },
           {
            "bin_end": 26.52599964141846,
            "bin_start": 25.98399963378906,
            "count": 3
           },
           {
            "bin_end": 27.067999649047852,
            "bin_start": 26.52599964141846,
            "count": 0
           },
           {
            "bin_end": 27.609999656677246,
            "bin_start": 27.067999649047852,
            "count": 0
           },
           {
            "bin_end": 28.15199966430664,
            "bin_start": 27.609999656677246,
            "count": 4
           },
           {
            "bin_end": 28.693999671936034,
            "bin_start": 28.15199966430664,
            "count": 6
           },
           {
            "bin_end": 29.23599967956543,
            "bin_start": 28.693999671936034,
            "count": 3
           },
           {
            "bin_end": 29.777999687194825,
            "bin_start": 29.23599967956543,
            "count": 0
           },
           {
            "bin_end": 30.31999969482422,
            "bin_start": 29.777999687194825,
            "count": 2
           }
          ],
          "max": "30.31999969482422",
          "min": "24.899999618530273",
          "nan_count": 0,
          "unique_count": 24
         }
        },
        {
         "dtype": "int64",
         "name": "_deepnote_index_column"
        }
       ],
       "row_count": 24,
       "rows": [
        {
         "Close INTC": 27.950000762939453,
         "Date ": "2023-01-30 00:00:00",
         "_deepnote_index_column": 113
        },
        {
         "Close INTC": 28.260000228881836,
         "Date ": "2023-01-31 00:00:00",
         "_deepnote_index_column": 114
        },
        {
         "Close INTC": 29.06999969482422,
         "Date ": "2023-02-01 00:00:00",
         "_deepnote_index_column": 115
        },
        {
         "Close INTC": 30.190000534057617,
         "Date ": "2023-02-02 00:00:00",
         "_deepnote_index_column": 116
        },
        {
         "Close INTC": 30.31999969482422,
         "Date ": "2023-02-03 00:00:00",
         "_deepnote_index_column": 117
        },
        {
         "Close INTC": 28.690000534057617,
         "Date ": "2023-02-06 00:00:00",
         "_deepnote_index_column": 118
        },
        {
         "Close INTC": 29.049999237060547,
         "Date ": "2023-02-07 00:00:00",
         "_deepnote_index_column": 119
        },
        {
         "Close INTC": 28.239999771118164,
         "Date ": "2023-02-08 00:00:00",
         "_deepnote_index_column": 120
        },
        {
         "Close INTC": 27.729999542236328,
         "Date ": "2023-02-09 00:00:00",
         "_deepnote_index_column": 121
        },
        {
         "Close INTC": 27.799999237060547,
         "Date ": "2023-02-10 00:00:00",
         "_deepnote_index_column": 122
        }
       ]
      },
      "text/html": [
       "<div>\n",
       "<style scoped>\n",
       "    .dataframe tbody tr th:only-of-type {\n",
       "        vertical-align: middle;\n",
       "    }\n",
       "\n",
       "    .dataframe tbody tr th {\n",
       "        vertical-align: top;\n",
       "    }\n",
       "\n",
       "    .dataframe thead tr th {\n",
       "        text-align: left;\n",
       "    }\n",
       "</style>\n",
       "<table border=\"1\" class=\"dataframe\">\n",
       "  <thead>\n",
       "    <tr>\n",
       "      <th>Price</th>\n",
       "      <th>Date</th>\n",
       "      <th>Close</th>\n",
       "    </tr>\n",
       "    <tr>\n",
       "      <th>Ticker</th>\n",
       "      <th></th>\n",
       "      <th>INTC</th>\n",
       "    </tr>\n",
       "  </thead>\n",
       "  <tbody>\n",
       "    <tr>\n",
       "      <th>113</th>\n",
       "      <td>2023-01-30</td>\n",
       "      <td>27.950001</td>\n",
       "    </tr>\n",
       "    <tr>\n",
       "      <th>114</th>\n",
       "      <td>2023-01-31</td>\n",
       "      <td>28.260000</td>\n",
       "    </tr>\n",
       "    <tr>\n",
       "      <th>115</th>\n",
       "      <td>2023-02-01</td>\n",
       "      <td>29.070000</td>\n",
       "    </tr>\n",
       "    <tr>\n",
       "      <th>116</th>\n",
       "      <td>2023-02-02</td>\n",
       "      <td>30.190001</td>\n",
       "    </tr>\n",
       "    <tr>\n",
       "      <th>117</th>\n",
       "      <td>2023-02-03</td>\n",
       "      <td>30.320000</td>\n",
       "    </tr>\n",
       "    <tr>\n",
       "      <th>118</th>\n",
       "      <td>2023-02-06</td>\n",
       "      <td>28.690001</td>\n",
       "    </tr>\n",
       "    <tr>\n",
       "      <th>119</th>\n",
       "      <td>2023-02-07</td>\n",
       "      <td>29.049999</td>\n",
       "    </tr>\n",
       "    <tr>\n",
       "      <th>120</th>\n",
       "      <td>2023-02-08</td>\n",
       "      <td>28.240000</td>\n",
       "    </tr>\n",
       "    <tr>\n",
       "      <th>121</th>\n",
       "      <td>2023-02-09</td>\n",
       "      <td>27.730000</td>\n",
       "    </tr>\n",
       "    <tr>\n",
       "      <th>122</th>\n",
       "      <td>2023-02-10</td>\n",
       "      <td>27.799999</td>\n",
       "    </tr>\n",
       "    <tr>\n",
       "      <th>123</th>\n",
       "      <td>2023-02-13</td>\n",
       "      <td>28.549999</td>\n",
       "    </tr>\n",
       "    <tr>\n",
       "      <th>124</th>\n",
       "      <td>2023-02-14</td>\n",
       "      <td>28.639999</td>\n",
       "    </tr>\n",
       "    <tr>\n",
       "      <th>125</th>\n",
       "      <td>2023-02-15</td>\n",
       "      <td>28.850000</td>\n",
       "    </tr>\n",
       "    <tr>\n",
       "      <th>126</th>\n",
       "      <td>2023-02-16</td>\n",
       "      <td>28.200001</td>\n",
       "    </tr>\n",
       "    <tr>\n",
       "      <th>127</th>\n",
       "      <td>2023-02-17</td>\n",
       "      <td>27.610001</td>\n",
       "    </tr>\n",
       "    <tr>\n",
       "      <th>128</th>\n",
       "      <td>2023-02-21</td>\n",
       "      <td>26.059999</td>\n",
       "    </tr>\n",
       "    <tr>\n",
       "      <th>129</th>\n",
       "      <td>2023-02-22</td>\n",
       "      <td>25.469999</td>\n",
       "    </tr>\n",
       "    <tr>\n",
       "      <th>130</th>\n",
       "      <td>2023-02-23</td>\n",
       "      <td>25.610001</td>\n",
       "    </tr>\n",
       "    <tr>\n",
       "      <th>131</th>\n",
       "      <td>2023-02-24</td>\n",
       "      <td>25.139999</td>\n",
       "    </tr>\n",
       "    <tr>\n",
       "      <th>132</th>\n",
       "      <td>2023-02-27</td>\n",
       "      <td>24.900000</td>\n",
       "    </tr>\n",
       "    <tr>\n",
       "      <th>133</th>\n",
       "      <td>2023-02-28</td>\n",
       "      <td>24.930000</td>\n",
       "    </tr>\n",
       "    <tr>\n",
       "      <th>134</th>\n",
       "      <td>2023-03-01</td>\n",
       "      <td>25.330000</td>\n",
       "    </tr>\n",
       "    <tr>\n",
       "      <th>135</th>\n",
       "      <td>2023-03-02</td>\n",
       "      <td>26.200001</td>\n",
       "    </tr>\n",
       "    <tr>\n",
       "      <th>136</th>\n",
       "      <td>2023-03-03</td>\n",
       "      <td>26.400000</td>\n",
       "    </tr>\n",
       "  </tbody>\n",
       "</table>\n",
       "</div>"
      ],
      "text/plain": [
       "Price        Date      Close\n",
       "Ticker                  INTC\n",
       "113    2023-01-30  27.950001\n",
       "114    2023-01-31  28.260000\n",
       "115    2023-02-01  29.070000\n",
       "116    2023-02-02  30.190001\n",
       "117    2023-02-03  30.320000\n",
       "118    2023-02-06  28.690001\n",
       "119    2023-02-07  29.049999\n",
       "120    2023-02-08  28.240000\n",
       "121    2023-02-09  27.730000\n",
       "122    2023-02-10  27.799999\n",
       "123    2023-02-13  28.549999\n",
       "124    2023-02-14  28.639999\n",
       "125    2023-02-15  28.850000\n",
       "126    2023-02-16  28.200001\n",
       "127    2023-02-17  27.610001\n",
       "128    2023-02-21  26.059999\n",
       "129    2023-02-22  25.469999\n",
       "130    2023-02-23  25.610001\n",
       "131    2023-02-24  25.139999\n",
       "132    2023-02-27  24.900000\n",
       "133    2023-02-28  24.930000\n",
       "134    2023-03-01  25.330000\n",
       "135    2023-03-02  26.200001\n",
       "136    2023-03-03  26.400000"
      ]
     },
     "execution_count": 37,
     "metadata": {},
     "output_type": "execute_result"
    }
   ],
   "source": [
    "#get stock data from 2023-01-29 to 2023-02-29\n",
    "# Ensure the Date column is in datetime format\n",
    "stock_data['Date'] = pd.to_datetime(stock_data['Date'])\n",
    "\n",
    "# Filter the stock data between 2023-01-29 and 2023-02-29\n",
    "stock_data_ex_2_ft = stock_data[\n",
    "    (stock_data['Date'] >= pd.to_datetime('2023-01-29')) & \n",
    "    (stock_data['Date'] <= pd.to_datetime('2023-03-05'))\n",
    "]\n",
    "stock_data_ex_2_ft"
   ]
  },
  {
   "cell_type": "code",
   "execution_count": 38,
   "metadata": {
    "cell_id": "68bc59d6baa2439fb2c22aa6de84f9f7",
    "deepnote_cell_type": "code",
    "execution_context_id": "d0fe3484-a288-42ec-b206-981a92786ed4",
    "execution_millis": 0,
    "execution_start": 1732532203313,
    "source_hash": "e4c47af4"
   },
   "outputs": [
    {
     "data": {
      "application/vnd.deepnote.dataframe.v3+json": {
       "column_count": 2,
       "columns": [
        {
         "dtype": "object",
         "name": "publishedDate",
         "stats": {
          "categories": [
           {
            "count": 1,
            "name": "2023-02-28"
           },
           {
            "count": 1,
            "name": "2023-02-27"
           },
           {
            "count": 8,
            "name": "8 others"
           }
          ],
          "nan_count": 0,
          "unique_count": 10
         }
        },
        {
         "dtype": "object",
         "name": "sentimentAnalysis",
         "stats": {
          "categories": [
           {
            "count": 8,
            "name": "positive"
           },
           {
            "count": 2,
            "name": "negative"
           }
          ],
          "nan_count": 0,
          "unique_count": 2
         }
        },
        {
         "dtype": "int64",
         "name": "_deepnote_index_column"
        }
       ],
       "row_count": 10,
       "rows": [
        {
         "_deepnote_index_column": 73286,
         "publishedDate": "2023-02-28",
         "sentimentAnalysis": "positive"
        },
        {
         "_deepnote_index_column": 73835,
         "publishedDate": "2023-02-27",
         "sentimentAnalysis": "positive"
        },
        {
         "_deepnote_index_column": 74105,
         "publishedDate": "2023-02-24",
         "sentimentAnalysis": "positive"
        },
        {
         "_deepnote_index_column": 74278,
         "publishedDate": "2023-02-23",
         "sentimentAnalysis": "positive"
        },
        {
         "_deepnote_index_column": 74782,
         "publishedDate": "2023-02-16",
         "sentimentAnalysis": "positive"
        },
        {
         "_deepnote_index_column": 76138,
         "publishedDate": "2023-02-10",
         "sentimentAnalysis": "positive"
        },
        {
         "_deepnote_index_column": 76895,
         "publishedDate": "2023-02-08",
         "sentimentAnalysis": "positive"
        },
        {
         "_deepnote_index_column": 78496,
         "publishedDate": "2023-02-03",
         "sentimentAnalysis": "negative"
        },
        {
         "_deepnote_index_column": 79647,
         "publishedDate": "2023-02-01",
         "sentimentAnalysis": "negative"
        },
        {
         "_deepnote_index_column": 80656,
         "publishedDate": "2023-01-30",
         "sentimentAnalysis": "positive"
        }
       ]
      },
      "text/html": [
       "<div>\n",
       "<style scoped>\n",
       "    .dataframe tbody tr th:only-of-type {\n",
       "        vertical-align: middle;\n",
       "    }\n",
       "\n",
       "    .dataframe tbody tr th {\n",
       "        vertical-align: top;\n",
       "    }\n",
       "\n",
       "    .dataframe thead th {\n",
       "        text-align: right;\n",
       "    }\n",
       "</style>\n",
       "<table border=\"1\" class=\"dataframe\">\n",
       "  <thead>\n",
       "    <tr style=\"text-align: right;\">\n",
       "      <th></th>\n",
       "      <th>publishedDate</th>\n",
       "      <th>sentimentAnalysis</th>\n",
       "    </tr>\n",
       "  </thead>\n",
       "  <tbody>\n",
       "    <tr>\n",
       "      <th>73286</th>\n",
       "      <td>2023-02-28</td>\n",
       "      <td>positive</td>\n",
       "    </tr>\n",
       "    <tr>\n",
       "      <th>73835</th>\n",
       "      <td>2023-02-27</td>\n",
       "      <td>positive</td>\n",
       "    </tr>\n",
       "    <tr>\n",
       "      <th>74105</th>\n",
       "      <td>2023-02-24</td>\n",
       "      <td>positive</td>\n",
       "    </tr>\n",
       "    <tr>\n",
       "      <th>74278</th>\n",
       "      <td>2023-02-23</td>\n",
       "      <td>positive</td>\n",
       "    </tr>\n",
       "    <tr>\n",
       "      <th>74782</th>\n",
       "      <td>2023-02-16</td>\n",
       "      <td>positive</td>\n",
       "    </tr>\n",
       "    <tr>\n",
       "      <th>76138</th>\n",
       "      <td>2023-02-10</td>\n",
       "      <td>positive</td>\n",
       "    </tr>\n",
       "    <tr>\n",
       "      <th>76895</th>\n",
       "      <td>2023-02-08</td>\n",
       "      <td>positive</td>\n",
       "    </tr>\n",
       "    <tr>\n",
       "      <th>78496</th>\n",
       "      <td>2023-02-03</td>\n",
       "      <td>negative</td>\n",
       "    </tr>\n",
       "    <tr>\n",
       "      <th>79647</th>\n",
       "      <td>2023-02-01</td>\n",
       "      <td>negative</td>\n",
       "    </tr>\n",
       "    <tr>\n",
       "      <th>80656</th>\n",
       "      <td>2023-01-30</td>\n",
       "      <td>positive</td>\n",
       "    </tr>\n",
       "  </tbody>\n",
       "</table>\n",
       "</div>"
      ],
      "text/plain": [
       "      publishedDate sentimentAnalysis\n",
       "73286    2023-02-28          positive\n",
       "73835    2023-02-27          positive\n",
       "74105    2023-02-24          positive\n",
       "74278    2023-02-23          positive\n",
       "74782    2023-02-16          positive\n",
       "76138    2023-02-10          positive\n",
       "76895    2023-02-08          positive\n",
       "78496    2023-02-03          negative\n",
       "79647    2023-02-01          negative\n",
       "80656    2023-01-30          positive"
      ]
     },
     "execution_count": 38,
     "metadata": {},
     "output_type": "execute_result"
    }
   ],
   "source": [
    "from datetime import date\n",
    "\n",
    "# Convert the string dates to datetime.date for comparison\n",
    "start_date = date(2023, 1, 29)\n",
    "end_date = date(2023, 2, 28)\n",
    "\n",
    "# Filter the DataFrame based on the date range\n",
    "predict_df_2_ft = predict_df_ft[(predict_df_ft['publishedDate'] >= start_date) & (predict_df_ft['publishedDate'] <= end_date)]\n",
    "\n",
    "# Remove specific rows by index\n",
    "predict_df_2_ft = predict_df_2_ft.drop([74264, 74223, 78700], errors='ignore')  # Use `errors='ignore'` in case the indices don't exist\n",
    "\n",
    "# Display the filtered DataFrame\n",
    "predict_df_2_ft"
   ]
  },
  {
   "cell_type": "code",
   "execution_count": 39,
   "metadata": {
    "cell_id": "aed0c21a5c7742dea6f413a4bd1f76f1",
    "deepnote_cell_type": "code",
    "execution_context_id": "d0fe3484-a288-42ec-b206-981a92786ed4",
    "execution_millis": 280,
    "execution_start": 1732532203365,
    "source_hash": "cee3b1a4"
   },
   "outputs": [
    {
     "name": "stderr",
     "output_type": "stream",
     "text": [
      "/shared-libs/python3.9/py/lib/python3.9/site-packages/matplotlib/text.py:694: FutureWarning: Calling float on a single element Series is deprecated and will raise a TypeError in the future. Use float(ser.iloc[0]) instead\n",
      "  posy = float(self.convert_yunits(self._y))\n",
      "/shared-libs/python3.9/py/lib/python3.9/site-packages/matplotlib/text.py:834: FutureWarning: Calling float on a single element Series is deprecated and will raise a TypeError in the future. Use float(ser.iloc[0]) instead\n",
      "  y = float(self.convert_yunits(self._y))\n"
     ]
    },
    {
     "data": {
      "image/png": "[encoded data removed]",
      "text/plain": [
       "<Figure size 1200x600 with 1 Axes>"
      ]
     },
     "metadata": {
      "image/png": {
       "height": 547,
       "width": 996
      }
     },
     "output_type": "display_data"
    }
   ],
   "source": [
    "import matplotlib.pyplot as plt\n",
    "import matplotlib.dates as mdates\n",
    "from matplotlib.dates import DateFormatter\n",
    "\n",
    "plt.figure(figsize=(12, 6))\n",
    "\n",
    "plt.plot(stock_data_ex_2_ft['Date'], stock_data_ex_2_ft['Close'], label='Stock Price')\n",
    "\n",
    "# Add vertical lines with sentiment labels beside the line\n",
    "for date, sentiment in zip(predict_df_2_ft['publishedDate'], predict_df_2_ft['sentimentAnalysis']):\n",
    "    line_color = 'green' if sentiment == 'positive' else 'red' if sentiment == 'negative' else 'blue'\n",
    "    \n",
    "    plt.axvline(x=date, color=line_color, linestyle='--', alpha=0.7)\n",
    "    plt.text(\n",
    "        date, \n",
    "        stock_data_ex_2['Close'].min(), \n",
    "        sentiment, \n",
    "        rotation=90, \n",
    "        verticalalignment='bottom',  \n",
    "        horizontalalignment='right',  \n",
    "        fontsize=10, \n",
    "        color=line_color  \n",
    "    )\n",
    "\n",
    "# Labels and title\n",
    "plt.xlabel('Date')\n",
    "plt.ylabel('Stock Price')\n",
    "plt.title('Stock Price vs. Sentiment Analysis (Fine-tuned)')\n",
    "plt.legend(['Stock Price', 'Sentiment Analysis'])\n",
    "plt.show()"
   ]
  },
  {
   "cell_type": "markdown",
   "metadata": {
    "cell_id": "e243cf9995334103ac8a664919729526",
    "deepnote_cell_type": "text-cell-h1",
    "formattedRanges": []
   },
   "source": [
    "# 3. CONCLUSION"
   ]
  },
  {
   "cell_type": "markdown",
   "metadata": {
    "cell_id": "bb3ce634c0c54755a0a5877cfd416292",
    "deepnote_cell_type": "text-cell-p",
    "formattedRanges": []
   },
   "source": [
    "From the results, we can conclude that positive news does not necessarily lead to an increase in stock prices, and the same applies in reverse. Additionally, we observed some interesting findings regarding accuracy. When we include the \"neutral\" label in the LLM predictions, the accuracy is approximately 57.93%. However, when we exclude the \"neutral\" label and focus solely on predicting \"positive\" and \"negative\" labels, the accuracy improves by about 20%, reaching 72.7%."
   ]
  },
  {
   "cell_type": "markdown",
   "metadata": {
    "cell_id": "b0831cd1da574d73ab782118d8833bff",
    "deepnote_cell_type": "text-cell-p",
    "formattedRanges": []
   },
   "source": [
    "Examining the confusion matrix reveals a bias toward the positive label in both cases. This bias may be caused by the imbalanced dataset, where the majority of the data is labeled as \"positive.\""
   ]
  },
  {
   "cell_type": "markdown",
   "metadata": {
    "created_in_deepnote_cell": true,
    "deepnote_cell_type": "markdown"
   },
   "source": [
    "<a style='text-decoration:none;line-height:16px;display:flex;color:#5B5B62;padding:10px;justify-content:end;' href='https://deepnote.com?utm_source=created-in-deepnote-cell&projectId=9b73b1b7-7709-4404-aa43-c47d3b260c6e' target=\"_blank\">\n",
    "<img alt='Created in deepnote.com' style='display:inline;max-height:16px;margin:0px;margin-right:7.5px;' src='data:image/svg+xml;base64,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' > </img>\n",
    "Created in <span style='font-weight:600;margin-left:4px;'>Deepnote</span></a>"
   ]
  }
 ],
 "metadata": {
  "deepnote_notebook_id": "394215f3c1644c96bd7cfceb8a7e8bc7",
  "language_info": {
   "name": "python"
  }
 },
 "nbformat": 4,
 "nbformat_minor": 0
}
